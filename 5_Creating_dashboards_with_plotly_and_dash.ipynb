{
 "cells": [
  {
   "cell_type": "markdown",
   "metadata": {},
   "source": [
    "# Notebook 5: Creating your first dashboard with Plotly and Dash\n"
   ]
  },
  {
   "cell_type": "markdown",
   "metadata": {},
   "source": [
    "The objectives of this notebook are the following:\n",
    "\n",
    "- Understand dashboards\n",
    "- Creating your first dashboard"
   ]
  },
  {
   "cell_type": "markdown",
   "metadata": {},
   "source": [
    "Here you have a link where all the information about Dash is available: https://dash.plotly.com/. Please refer to this link if you want any additional information."
   ]
  },
  {
   "cell_type": "markdown",
   "metadata": {},
   "source": [
    "Dash is basically a python framework for the creation of web applications."
   ]
  },
  {
   "cell_type": "markdown",
   "metadata": {},
   "source": [
    "# Part 0: Installation and setup"
   ]
  },
  {
   "cell_type": "markdown",
   "metadata": {},
   "source": [
    "Let's first import dash and the libraries that we will use. Make sure that you have them downloaded and installed in the right environment!\n",
    "\n",
    "These commands should help you install them in case you haven't installed them yet:\n",
    "\n",
    "```\n",
    "conda install -c conda-forge dash\n",
    "conda install -c conda-forge jupyter-dash\n",
    "conda install -c conda-forge dash-core-components\n",
    "conda install -c conda-forge dash-html-components\n",
    "conda install -c conda-forge dash-table\n",
    "conda install -c conda-forge dash-bootstrap-components\n",
    "```"
   ]
  },
  {
   "cell_type": "markdown",
   "metadata": {},
   "source": [
    "Once you have installed all the above, you should be able to import the following:"
   ]
  },
  {
   "cell_type": "code",
   "execution_count": 331,
   "metadata": {},
   "outputs": [],
   "source": [
    "import dash\n",
    "from dash import dcc\n",
    "from dash import html\n",
    "from dash import dash_table\n",
    "import dash_bootstrap_components as dbc\n",
    "from jupyter_dash import JupyterDash"
   ]
  },
  {
   "cell_type": "markdown",
   "metadata": {},
   "source": [
    "# Part I: Creating our first Dashboard with Dash, python and Plotly"
   ]
  },
  {
   "cell_type": "markdown",
   "metadata": {},
   "source": [
    "Great! If you run the above cell without running into errors, then you have all the required libraries installed. Now let's create our first simple Dashboard"
   ]
  },
  {
   "cell_type": "code",
   "execution_count": 332,
   "metadata": {},
   "outputs": [],
   "source": [
    "app = JupyterDash('Creating our first Dash!', external_stylesheets=[dbc.themes.BOOTSTRAP])"
   ]
  },
  {
   "cell_type": "markdown",
   "metadata": {},
   "source": [
    "We are going to use the `html` module from `dash`, which is a bridge between the commonly used and known html programming language and dash.\n",
    "\n",
    "We will use only simple features to arrange the elements on the page. We wil create simple elements, using a python dictionary containing all the parameters (data -> \"x\", \"y\", \"type\", \"name\").  "
   ]
  },
  {
   "cell_type": "code",
   "execution_count": 333,
   "metadata": {},
   "outputs": [],
   "source": [
    "app.layout = html.Div(children=[\n",
    "  html.H1(children='Creating our first Dashboard with python and plotly'),\n",
    "  dcc.Graph(id='example',\n",
    "    figure={\n",
    "      'data': [\n",
    "        {'x': [1, 2], \n",
    "         'y': [1, 5],\n",
    "         'type': 'line',\n",
    "         'name': 'First line'},\n",
    "        {'x': [1, 2], \n",
    "         'y': [3, 2],\n",
    "         'type': 'bar',\n",
    "         'name': 'First bars'},\n",
    "        ],\n",
    "      'layout': {\n",
    "      'title': 'Creating our first Dash!'\n",
    "        }\n",
    "      })\n",
    "  ])"
   ]
  },
  {
   "cell_type": "code",
   "execution_count": 334,
   "metadata": {},
   "outputs": [
    {
     "name": "stderr",
     "output_type": "stream",
     "text": [
      "/Users/franciscoregalado/opt/anaconda3/lib/python3.9/site-packages/jupyter_dash/jupyter_app.py:139: UserWarning:\n",
      "\n",
      "The 'environ['werkzeug.server.shutdown']' function is deprecated and will be removed in Werkzeug 2.1.\n",
      "\n"
     ]
    },
    {
     "data": {
      "text/html": [
       "\n",
       "        <iframe\n",
       "            width=\"100%\"\n",
       "            height=\"650\"\n",
       "            src=\"http://127.0.0.1:8051/\"\n",
       "            frameborder=\"0\"\n",
       "            allowfullscreen\n",
       "            \n",
       "        ></iframe>\n",
       "        "
      ],
      "text/plain": [
       "<IPython.lib.display.IFrame at 0x7fdcbd283430>"
      ]
     },
     "metadata": {},
     "output_type": "display_data"
    }
   ],
   "source": [
    "app.run_server(mode='inline', host = '127.0.0.1', port=8051, debug=True)"
   ]
  },
  {
   "cell_type": "markdown",
   "metadata": {},
   "source": [
    "Great! Now we have our first Dash! We could also run this through another server and see it on another port. Let's try it:"
   ]
  },
  {
   "cell_type": "code",
   "execution_count": 335,
   "metadata": {},
   "outputs": [
    {
     "name": "stdout",
     "output_type": "stream",
     "text": [
      "Dash app running on http://127.0.0.1:8051/\n"
     ]
    }
   ],
   "source": [
    "app.run_server(mode='external', host = '127.0.0.1', port=8051, debug=True)"
   ]
  },
  {
   "cell_type": "markdown",
   "metadata": {},
   "source": [
    "Nice! That was very simple."
   ]
  },
  {
   "cell_type": "markdown",
   "metadata": {},
   "source": [
    "Now that we know the most basic way of making a dashboard, it's time to dive into Dashboards, and try to understand what it is used for. Dashboards and multi-chart displays that are used for monitoring and analysis."
   ]
  },
  {
   "cell_type": "markdown",
   "metadata": {},
   "source": [
    "One way to define Dashboard is as follows:\n",
    "\n",
    "**A dashboard is a visual display of the most important information needed to achieve one or more objectives; consolidated and arranged on a single screen so the information can be monitored at a glance.**\n",
    "\n",
    "[Source](https://www.perceptualedge.com/articles/visual_business_intelligence/dboard_confusion_revisited.pdf)"
   ]
  },
  {
   "cell_type": "markdown",
   "metadata": {},
   "source": [
    "So, dashboards help us create a single screen that can give us information to monitor a process, or to analyze data. One important thing to remark from this same source is that:\n",
    "\n",
    "**“The greatest clarification that is needed today is a distinction between dashboards, which are used for monitoring what’s going on, and displays that combine several charts on a screen for the purpose of analysis.”**"
   ]
  },
  {
   "cell_type": "markdown",
   "metadata": {},
   "source": [
    "Thus, we need to remark the importance of distincting between a monitoring tool, and a display of faceted analytical display. Let's develop a little further what faceted analytical display is:\n",
    "\n",
    "**A “faceted analytical display” is a set of charts (primarily graphs and tables) that simultaneously reside on a single screen, each of which presents a somewhat different view of a common dataset, and is used to analyze that information.**"
   ]
  },
  {
   "cell_type": "markdown",
   "metadata": {},
   "source": [
    "So, now that we have a grasp of what Dashboard means, we can elaborate more complex displays or Dashboards. "
   ]
  },
  {
   "cell_type": "markdown",
   "metadata": {},
   "source": [
    "# Part II: Risk analysis Dashboard"
   ]
  },
  {
   "cell_type": "markdown",
   "metadata": {},
   "source": [
    "Now let's create a more useful Dashboard. When we create a Dashboard, we always need to answer some basic questions such as:\n",
    "\n",
    "- What data do we want to display in our dashboard?\n",
    "- Who will use this dashboard?\n",
    "- Will it be used by different people?\n",
    "- What will it be used for?\n",
    "- What are the key features in our dashboard?\n",
    "- What useful comparisons should we show?\n",
    "- etc...\n",
    "\n",
    "So, first of all, we need to have a goal or aim with our dashboard. Once we know what we want to show, who will use it, and how do we want to display the information, we can start building the pieces of our Dashboard.\n",
    "\n",
    "In this part, we will go back into the Cryptocurrencies data, and try to build a risk indicator, that should help us with our investments. Disclaimer: This is no financial advise, we are building this for the purpose of teaching how to build effective Dashboards. Use this results at your own risk in case of investment."
   ]
  },
  {
   "cell_type": "markdown",
   "metadata": {},
   "source": [
    "So first, let's load the data that we want to display, and plot it using `matplotlib` and `pandas` as this help us see what information we want to display in an easy and fast way."
   ]
  },
  {
   "cell_type": "code",
   "execution_count": 336,
   "metadata": {},
   "outputs": [
    {
     "data": {
      "text/html": [
       "<div>\n",
       "<style scoped>\n",
       "    .dataframe tbody tr th:only-of-type {\n",
       "        vertical-align: middle;\n",
       "    }\n",
       "\n",
       "    .dataframe tbody tr th {\n",
       "        vertical-align: top;\n",
       "    }\n",
       "\n",
       "    .dataframe thead th {\n",
       "        text-align: right;\n",
       "    }\n",
       "</style>\n",
       "<table border=\"1\" class=\"dataframe\">\n",
       "  <thead>\n",
       "    <tr style=\"text-align: right;\">\n",
       "      <th></th>\n",
       "      <th>unix</th>\n",
       "      <th>low</th>\n",
       "      <th>high</th>\n",
       "      <th>open</th>\n",
       "      <th>close</th>\n",
       "      <th>volume</th>\n",
       "      <th>datetime</th>\n",
       "      <th>vol_fiat</th>\n",
       "    </tr>\n",
       "  </thead>\n",
       "  <tbody>\n",
       "    <tr>\n",
       "      <th>0</th>\n",
       "      <td>1641427200</td>\n",
       "      <td>2916.58</td>\n",
       "      <td>3140.9</td>\n",
       "      <td>3131.63</td>\n",
       "      <td>3019.16</td>\n",
       "      <td>18773.797888</td>\n",
       "      <td>2022-01-06</td>\n",
       "      <td>5.668110e+07</td>\n",
       "    </tr>\n",
       "    <tr>\n",
       "      <th>1</th>\n",
       "      <td>1641340800</td>\n",
       "      <td>3008.56</td>\n",
       "      <td>3405.2</td>\n",
       "      <td>3355.88</td>\n",
       "      <td>3131.57</td>\n",
       "      <td>19546.423722</td>\n",
       "      <td>2022-01-05</td>\n",
       "      <td>6.121099e+07</td>\n",
       "    </tr>\n",
       "  </tbody>\n",
       "</table>\n",
       "</div>"
      ],
      "text/plain": [
       "         unix      low    high     open    close        volume   datetime  \\\n",
       "0  1641427200  2916.58  3140.9  3131.63  3019.16  18773.797888 2022-01-06   \n",
       "1  1641340800  3008.56  3405.2  3355.88  3131.57  19546.423722 2022-01-05   \n",
       "\n",
       "       vol_fiat  \n",
       "0  5.668110e+07  \n",
       "1  6.121099e+07  "
      ]
     },
     "execution_count": 336,
     "metadata": {},
     "output_type": "execute_result"
    }
   ],
   "source": [
    "from pandas import read_csv, to_datetime\n",
    "\n",
    "df = read_csv('data/external/Coinbase_ETHEUR_dailydata.csv', parse_dates=['datetime'])\n",
    "df.head(2)"
   ]
  },
  {
   "cell_type": "markdown",
   "metadata": {},
   "source": [
    "Great, now we have the basic data, we have the low, high, open, close, and volume prices of Ethereum that we used in notebook 1. Since we are using time series data, we can use the \"datetime\" variable as the index of our dataframe:"
   ]
  },
  {
   "cell_type": "code",
   "execution_count": 337,
   "metadata": {},
   "outputs": [],
   "source": [
    "df = df.set_index('datetime').sort_index()"
   ]
  },
  {
   "cell_type": "code",
   "execution_count": 338,
   "metadata": {},
   "outputs": [
    {
     "data": {
      "text/html": [
       "<div>\n",
       "<style scoped>\n",
       "    .dataframe tbody tr th:only-of-type {\n",
       "        vertical-align: middle;\n",
       "    }\n",
       "\n",
       "    .dataframe tbody tr th {\n",
       "        vertical-align: top;\n",
       "    }\n",
       "\n",
       "    .dataframe thead th {\n",
       "        text-align: right;\n",
       "    }\n",
       "</style>\n",
       "<table border=\"1\" class=\"dataframe\">\n",
       "  <thead>\n",
       "    <tr style=\"text-align: right;\">\n",
       "      <th></th>\n",
       "      <th>unix</th>\n",
       "      <th>low</th>\n",
       "      <th>high</th>\n",
       "      <th>open</th>\n",
       "      <th>close</th>\n",
       "      <th>volume</th>\n",
       "      <th>vol_fiat</th>\n",
       "    </tr>\n",
       "    <tr>\n",
       "      <th>datetime</th>\n",
       "      <th></th>\n",
       "      <th></th>\n",
       "      <th></th>\n",
       "      <th></th>\n",
       "      <th></th>\n",
       "      <th></th>\n",
       "      <th></th>\n",
       "    </tr>\n",
       "  </thead>\n",
       "  <tbody>\n",
       "    <tr>\n",
       "      <th>2021-03-13</th>\n",
       "      <td>1615593600</td>\n",
       "      <td>1446.01</td>\n",
       "      <td>1595.0</td>\n",
       "      <td>1476.34</td>\n",
       "      <td>1575.08</td>\n",
       "      <td>26381.800363</td>\n",
       "      <td>4.155345e+07</td>\n",
       "    </tr>\n",
       "    <tr>\n",
       "      <th>2021-03-14</th>\n",
       "      <td>1615680000</td>\n",
       "      <td>1530.00</td>\n",
       "      <td>1581.6</td>\n",
       "      <td>1575.08</td>\n",
       "      <td>1546.17</td>\n",
       "      <td>16266.835746</td>\n",
       "      <td>2.515129e+07</td>\n",
       "    </tr>\n",
       "  </tbody>\n",
       "</table>\n",
       "</div>"
      ],
      "text/plain": [
       "                  unix      low    high     open    close        volume  \\\n",
       "datetime                                                                  \n",
       "2021-03-13  1615593600  1446.01  1595.0  1476.34  1575.08  26381.800363   \n",
       "2021-03-14  1615680000  1530.00  1581.6  1575.08  1546.17  16266.835746   \n",
       "\n",
       "                vol_fiat  \n",
       "datetime                  \n",
       "2021-03-13  4.155345e+07  \n",
       "2021-03-14  2.515129e+07  "
      ]
     },
     "execution_count": 338,
     "metadata": {},
     "output_type": "execute_result"
    }
   ],
   "source": [
    "df.head(2)"
   ]
  },
  {
   "cell_type": "code",
   "execution_count": 339,
   "metadata": {},
   "outputs": [
    {
     "data": {
      "image/png": "[encoded data removed]",
      "text/plain": [
       "<Figure size 864x288 with 1 Axes>"
      ]
     },
     "metadata": {
      "needs_background": "light"
     },
     "output_type": "display_data"
    }
   ],
   "source": [
    "import matplotlib.pyplot as plt\n",
    "\n",
    "df.close.plot(figsize=(12, 4))\n",
    "plt.grid(True, alpha=.2)\n",
    "plt.show()"
   ]
  },
  {
   "cell_type": "markdown",
   "metadata": {},
   "source": [
    "So, first, we want to create useful and informative variables to show them in our dashboard. For this purpose, we create two variables. First, the \"vol_fiat\" variable, which is basically the product of the daily volume times the closing price, which is a proxy of the actual..."
   ]
  },
  {
   "cell_type": "code",
   "execution_count": 340,
   "metadata": {},
   "outputs": [],
   "source": [
    "df['vol_fiat'] = df['volume'] * df['close'] # multiply the ETH volume by closing price to approximate fiat volume"
   ]
  },
  {
   "cell_type": "code",
   "execution_count": 341,
   "metadata": {},
   "outputs": [
    {
     "data": {
      "image/png": "[encoded data removed]",
      "text/plain": [
       "<Figure size 864x288 with 1 Axes>"
      ]
     },
     "metadata": {
      "needs_background": "light"
     },
     "output_type": "display_data"
    }
   ],
   "source": [
    "df.vol_fiat.plot(figsize=(12, 4))\n",
    "plt.grid(True, alpha=.2)\n",
    "plt.show()"
   ]
  },
  {
   "cell_type": "markdown",
   "metadata": {},
   "source": [
    "Next, we will create another variable that shows our own risk indicator, that is the ratio between the average price of the lat 30 days compared to the last 90 days. This gives a proxy of how much the prices has increased in the last month compared to the last month, showing when the price have grown too much, and is likely to correct over the next periods."
   ]
  },
  {
   "cell_type": "code",
   "execution_count": 342,
   "metadata": {},
   "outputs": [],
   "source": [
    "df['risk_indicator'] = df['close'].rolling(window=30).mean().fillna(method='bfill') /\\\n",
    "                       df['close'].rolling(window=90).mean().fillna(method='bfill')"
   ]
  },
  {
   "cell_type": "code",
   "execution_count": 343,
   "metadata": {},
   "outputs": [
    {
     "data": {
      "text/plain": [
       "count    300.000000\n",
       "mean       1.036687\n",
       "std        0.166936\n",
       "min        0.759827\n",
       "25%        0.876976\n",
       "50%        1.075877\n",
       "75%        1.176865\n",
       "max        1.289069\n",
       "Name: risk_indicator, dtype: float64"
      ]
     },
     "execution_count": 343,
     "metadata": {},
     "output_type": "execute_result"
    }
   ],
   "source": [
    "df.risk_indicator.describe()"
   ]
  },
  {
   "cell_type": "markdown",
   "metadata": {},
   "source": [
    "This variable is not normalized, in the sense that it ranges from 0.76 to 1.36. To make it more interpretable, we will normalize using a standarization, assuming that it follows a normal distribution. This variable is as follows:"
   ]
  },
  {
   "cell_type": "code",
   "execution_count": 344,
   "metadata": {},
   "outputs": [],
   "source": [
    "df['risk_indicator_normalized'] = (df['risk_indicator'] - df['risk_indicator'].mean()) / df['risk_indicator'].std()"
   ]
  },
  {
   "cell_type": "code",
   "execution_count": 345,
   "metadata": {},
   "outputs": [
    {
     "data": {
      "text/plain": [
       "count    3.000000e+02\n",
       "mean    -1.973421e-15\n",
       "std      1.000000e+00\n",
       "min     -1.658482e+00\n",
       "25%     -9.567193e-01\n",
       "50%      2.347653e-01\n",
       "75%      8.397126e-01\n",
       "max      1.511855e+00\n",
       "Name: risk_indicator_normalized, dtype: float64"
      ]
     },
     "execution_count": 345,
     "metadata": {},
     "output_type": "execute_result"
    }
   ],
   "source": [
    "df.risk_indicator_normalized.describe()"
   ]
  },
  {
   "cell_type": "markdown",
   "metadata": {},
   "source": [
    "Now we have a variable that ranges between -1.6 and 1.7. Let's make a scatterplot using as colors the risk that we just created:"
   ]
  },
  {
   "cell_type": "code",
   "execution_count": 346,
   "metadata": {},
   "outputs": [
    {
     "data": {
      "image/png": "[encoded data removed]",
      "text/plain": [
       "<Figure size 864x288 with 2 Axes>"
      ]
     },
     "metadata": {
      "needs_background": "light"
     },
     "output_type": "display_data"
    }
   ],
   "source": [
    "import matplotlib.pyplot as plt\n",
    "\n",
    "fig, ax = plt.subplots(figsize=(12, 4))\n",
    "plt.scatter(df.index, df.close, c=df.risk_indicator_normalized, cmap='RdBu_r', vmin=-1, vmax=1)\n",
    "plt.colorbar()\n",
    "plt.grid(True, alpha=.2)\n",
    "plt.show()"
   ]
  },
  {
   "cell_type": "markdown",
   "metadata": {},
   "source": [
    "In this time scatter plot we have each dot representing a day (X-axis), the Y-axis indicates the average closing price of Ethereum, and the color indicates the \"risk\" that we calculated previously, where blue colors indicate that the price has remained stable in the last month compared to the last three months, whereas red colors indicate that the price is less stable."
   ]
  },
  {
   "cell_type": "markdown",
   "metadata": {},
   "source": [
    "Now that we know what we want to plot, we will create this same chart in `plotly.express`."
   ]
  },
  {
   "cell_type": "code",
   "execution_count": 347,
   "metadata": {},
   "outputs": [],
   "source": [
    "import plotly.express as px"
   ]
  },
  {
   "cell_type": "code",
   "execution_count": 348,
   "metadata": {},
   "outputs": [
    {
     "data": {
      "application/vnd.plotly.v1+json": {
       "config": {
        "plotlyServerURL": "https://plot.ly"
       },
       "data": [
        {
         "hovertemplate": "datetime=%{x}<br>close=%{y}<br>risk_indicator_normalized=%{marker.color}<extra></extra>",
         "legendgroup": "",
         "marker": {
          "color": [
           -1.6584822565652213,
           -1.6584822565652213,
           -1.6584822565652213,
           -1.6584822565652213,
           -1.6584822565652213,
           -1.6584822565652213,
           -1.6584822565652213,
           -1.6584822565652213,
           -1.6584822565652213,
           -1.6584822565652213,
           -1.6584822565652213,
           -1.6584822565652213,
           -1.6584822565652213,
           -1.6584822565652213,
           -1.6584822565652213,
           -1.6584822565652213,
           -1.6584822565652213,
           -1.6584822565652213,
           -1.6584822565652213,
           -1.6584822565652213,
           -1.6584822565652213,
           -1.6584822565652213,
           -1.6584822565652213,
           -1.6584822565652213,
           -1.6584822565652213,
           -1.6584822565652213,
           -1.6584822565652213,
           -1.6584822565652213,
           -1.6584822565652213,
           -1.6584822565652213,
           -1.637513846835395,
           -1.601072262823877,
           -1.5507653059157038,
           -1.4943726293602477,
           -1.4460141746067945,
           -1.4021001422534016,
           -1.3681688338567335,
           -1.3414841159883273,
           -1.2996468270906045,
           -1.2472420721848145,
           -1.19102931626054,
           -1.1315952154183944,
           -1.0848445620499756,
           -1.0389992539852733,
           -0.9772922196374962,
           -0.903038592338647,
           -0.8336131543180705,
           -0.766089324245151,
           -0.7018710572578919,
           -0.6277743819990093,
           -0.5671593127585693,
           -0.4589370531023258,
           -0.3695959324492666,
           -0.2600376664040309,
           -0.15375433865616867,
           -0.03772754311007017,
           0.10293689461241726,
           0.2454771006174438,
           0.3853941021008167,
           0.5418934694166261,
           0.6738853499062663,
           0.7842360323484102,
           0.9116868309499616,
           0.997681236458103,
           1.0854461375390458,
           1.1570650760206342,
           1.2419598602243662,
           1.2618698007090448,
           1.2941339721933727,
           1.2980778707098797,
           1.2876539583969047,
           1.264668140738712,
           1.2967552626657612,
           1.324269720891801,
           1.3504299892608003,
           1.3547337290396706,
           1.3276566310713465,
           1.2892435763138945,
           1.2559496463234345,
           1.2334854070907444,
           1.2054493704392033,
           1.1453223837620776,
           1.1122236867969464,
           1.0438854287605335,
           0.9745671774989609,
           0.9134975215573942,
           0.809704371907068,
           0.6980846748003043,
           0.5920635718021454,
           0.4572953628494199,
           0.326887698709985,
           0.20586868773737102,
           0.06397270804099632,
           -0.039130822475136086,
           -0.13760127486679444,
           -0.2213037838531223,
           -0.30846290375769714,
           -0.3310874377395055,
           -0.3828527341113819,
           -0.40755960417519854,
           -0.44126725161820857,
           -0.46195396518137033,
           -0.5194736592934299,
           -0.5763080327528013,
           -0.6573133355771676,
           -0.7268964496574353,
           -0.7602474152340349,
           -0.7770149726016566,
           -0.7951298217054382,
           -0.8289914907893352,
           -0.8627437597880063,
           -0.9026751858867837,
           -0.9498616551668561,
           -0.9783246910986475,
           -1.0093444504814515,
           -1.042159578670257,
           -1.063270682687205,
           -1.0898184066358023,
           -1.121037609456273,
           -1.1435412202319168,
           -1.1569032185376031,
           -1.174209748023421,
           -1.2034333136579234,
           -1.2337400142293131,
           -1.267383166081224,
           -1.2937544337723121,
           -1.32266825086993,
           -1.3440758693476846,
           -1.3610669675389062,
           -1.3850699587276207,
           -1.3672186443180618,
           -1.347533808391301,
           -1.3323733075390565,
           -1.3130563749424282,
           -1.2749685019171835,
           -1.2334745199666217,
           -1.1980257807819863,
           -1.1708066050544745,
           -1.1452724304021749,
           -1.120695097491175,
           -1.0788179873156967,
           -1.0277877466563408,
           -0.9834328183703778,
           -0.9456888214201601,
           -0.8857296624810533,
           -0.8310579307602423,
           -0.7615363299577208,
           -0.6586425065047913,
           -0.5643394385562809,
           -0.45190712867764454,
           -0.35022342084530667,
           -0.24135175254241018,
           -0.12231653675200416,
           -0.004380114573317241,
           0.11474097227244998,
           0.2312241897523558,
           0.33975972779380426,
           0.41517326852646286,
           0.5063193256494982,
           0.5985227713317155,
           0.6733846324870009,
           0.7354971168156812,
           0.8066140382174438,
           0.8770651346305668,
           0.9453702972192958,
           1.0087373886624738,
           1.0492458479959375,
           1.0940479421290463,
           1.1344196296900202,
           1.1766243725166463,
           1.2111057081153134,
           1.2549668444158912,
           1.3179760430536747,
           1.3801434531806342,
           1.4289519936883264,
           1.469494412520129,
           1.502152067498162,
           1.5107122160763393,
           1.5118553639257326,
           1.500007647817942,
           1.4828167339038762,
           1.4561603908388363,
           1.444833487286563,
           1.4226082865374776,
           1.398176643754413,
           1.3726392737001718,
           1.3670078768429323,
           1.3649877040438818,
           1.3539183860879935,
           1.3339198211931356,
           1.2916181571144048,
           1.2389166740625799,
           1.1791812905166725,
           1.1290478734136715,
           1.0878533627467086,
           1.0347643287332755,
           0.9953366338185844,
           0.9527675477810522,
           0.9096338022358972,
           0.8663382441070766,
           0.8213311087802614,
           0.7707451533378028,
           0.7085447916310922,
           0.6561831773422586,
           0.5922981461145134,
           0.5345308831294115,
           0.479193432396606,
           0.4228382419525776,
           0.4005266703982764,
           0.3719461028330615,
           0.34995421976174856,
           0.3328995721834997,
           0.3158958768179265,
           0.28950051800239107,
           0.27354672814912223,
           0.2547173596520049,
           0.22843594023473732,
           0.20201622219389828,
           0.18550424183677305,
           0.16233657770542279,
           0.15575170994640236,
           0.18296746366372799,
           0.22121334396231765,
           0.237058755328182,
           0.25700940563497726,
           0.2869961073802491,
           0.3243066435067225,
           0.34959692290227073,
           0.3758060417571479,
           0.42314847767542046,
           0.47416076363990795,
           0.5124287973553456,
           0.5323334096029515,
           0.5461981659102096,
           0.5730646545863572,
           0.603576330963784,
           0.6261772213056299,
           0.6483514105019231,
           0.6682102621434287,
           0.695671192741202,
           0.728169203443633,
           0.7665113691924306,
           0.7930596240118344,
           0.83073182812704,
           0.8598703432032124,
           0.8790416271407738,
           0.890298439096615,
           0.9006591891086093,
           0.8981270423544674,
           0.9070960291328458,
           0.9011978987110465,
           0.890593135019843,
           0.8892963756932012,
           0.8890394289320608,
           0.8695567330878963,
           0.8642227074972672,
           0.8466304566308461,
           0.8455470149225328,
           0.8377677390506402,
           0.8139609041208986,
           0.7880650285716386,
           0.7757448916947295,
           0.7784297916115129,
           0.777935009708261,
           0.7637695535092828,
           0.7394012875915245,
           0.7153112297015789,
           0.6964092802707202,
           0.6712623672009371,
           0.6417918600248125,
           0.6051655775871397,
           0.5587286216793942,
           0.5097046018083469,
           0.46415303028225735,
           0.420674598944139,
           0.3698009546710539,
           0.3260720301394288,
           0.28847482820214165,
           0.26295536907375155,
           0.2324718740970625,
           0.2186547497250531,
           0.18044511531893026,
           0.1331977604154138,
           0.10179256471937884,
           0.07825130282226714,
           0.042892625498316836,
           0.008388707667847687,
           -0.034648873769465106,
           -0.05504846597435571,
           -0.08064664240189498,
           -0.12301769848329405,
           -0.17565393388263914,
           -0.2286290213408091,
           -0.27978747863900594,
           -0.3242012346013622,
           -0.35262631572270164,
           -0.37568223131528583,
           -0.4004033161365414,
           -0.4410454769224139,
           -0.48443318739047597
          ],
          "coloraxis": "coloraxis",
          "symbol": "circle"
         },
         "mode": "markers",
         "name": "",
         "orientation": "v",
         "showlegend": false,
         "type": "scatter",
         "x": [
          "2021-03-13T00:00:00",
          "2021-03-14T00:00:00",
          "2021-03-15T00:00:00",
          "2021-03-16T00:00:00",
          "2021-03-17T00:00:00",
          "2021-03-18T00:00:00",
          "2021-03-19T00:00:00",
          "2021-03-20T00:00:00",
          "2021-03-21T00:00:00",
          "2021-03-22T00:00:00",
          "2021-03-23T00:00:00",
          "2021-03-24T00:00:00",
          "2021-03-25T00:00:00",
          "2021-03-26T00:00:00",
          "2021-03-27T00:00:00",
          "2021-03-28T00:00:00",
          "2021-03-29T00:00:00",
          "2021-03-30T00:00:00",
          "2021-03-31T00:00:00",
          "2021-04-01T00:00:00",
          "2021-04-02T00:00:00",
          "2021-04-03T00:00:00",
          "2021-04-04T00:00:00",
          "2021-04-05T00:00:00",
          "2021-04-06T00:00:00",
          "2021-04-07T00:00:00",
          "2021-04-08T00:00:00",
          "2021-04-09T00:00:00",
          "2021-04-10T00:00:00",
          "2021-04-11T00:00:00",
          "2021-04-12T00:00:00",
          "2021-04-13T00:00:00",
          "2021-04-14T00:00:00",
          "2021-04-15T00:00:00",
          "2021-04-16T00:00:00",
          "2021-04-17T00:00:00",
          "2021-04-18T00:00:00",
          "2021-04-19T00:00:00",
          "2021-04-20T00:00:00",
          "2021-04-21T00:00:00",
          "2021-04-22T00:00:00",
          "2021-04-23T00:00:00",
          "2021-04-24T00:00:00",
          "2021-04-25T00:00:00",
          "2021-04-26T00:00:00",
          "2021-04-27T00:00:00",
          "2021-04-28T00:00:00",
          "2021-04-29T00:00:00",
          "2021-04-30T00:00:00",
          "2021-05-01T00:00:00",
          "2021-05-02T00:00:00",
          "2021-05-03T00:00:00",
          "2021-05-04T00:00:00",
          "2021-05-05T00:00:00",
          "2021-05-06T00:00:00",
          "2021-05-07T00:00:00",
          "2021-05-08T00:00:00",
          "2021-05-09T00:00:00",
          "2021-05-10T00:00:00",
          "2021-05-11T00:00:00",
          "2021-05-12T00:00:00",
          "2021-05-13T00:00:00",
          "2021-05-14T00:00:00",
          "2021-05-15T00:00:00",
          "2021-05-16T00:00:00",
          "2021-05-17T00:00:00",
          "2021-05-18T00:00:00",
          "2021-05-19T00:00:00",
          "2021-05-20T00:00:00",
          "2021-05-21T00:00:00",
          "2021-05-22T00:00:00",
          "2021-05-23T00:00:00",
          "2021-05-24T00:00:00",
          "2021-05-25T00:00:00",
          "2021-05-26T00:00:00",
          "2021-05-27T00:00:00",
          "2021-05-28T00:00:00",
          "2021-05-29T00:00:00",
          "2021-05-30T00:00:00",
          "2021-05-31T00:00:00",
          "2021-06-01T00:00:00",
          "2021-06-02T00:00:00",
          "2021-06-03T00:00:00",
          "2021-06-04T00:00:00",
          "2021-06-05T00:00:00",
          "2021-06-06T00:00:00",
          "2021-06-07T00:00:00",
          "2021-06-08T00:00:00",
          "2021-06-09T00:00:00",
          "2021-06-10T00:00:00",
          "2021-06-11T00:00:00",
          "2021-06-12T00:00:00",
          "2021-06-13T00:00:00",
          "2021-06-14T00:00:00",
          "2021-06-15T00:00:00",
          "2021-06-16T00:00:00",
          "2021-06-17T00:00:00",
          "2021-06-18T00:00:00",
          "2021-06-19T00:00:00",
          "2021-06-20T00:00:00",
          "2021-06-21T00:00:00",
          "2021-06-22T00:00:00",
          "2021-06-23T00:00:00",
          "2021-06-24T00:00:00",
          "2021-06-25T00:00:00",
          "2021-06-26T00:00:00",
          "2021-06-27T00:00:00",
          "2021-06-28T00:00:00",
          "2021-06-29T00:00:00",
          "2021-06-30T00:00:00",
          "2021-07-01T00:00:00",
          "2021-07-02T00:00:00",
          "2021-07-03T00:00:00",
          "2021-07-04T00:00:00",
          "2021-07-05T00:00:00",
          "2021-07-06T00:00:00",
          "2021-07-07T00:00:00",
          "2021-07-08T00:00:00",
          "2021-07-09T00:00:00",
          "2021-07-10T00:00:00",
          "2021-07-11T00:00:00",
          "2021-07-12T00:00:00",
          "2021-07-13T00:00:00",
          "2021-07-14T00:00:00",
          "2021-07-15T00:00:00",
          "2021-07-16T00:00:00",
          "2021-07-17T00:00:00",
          "2021-07-18T00:00:00",
          "2021-07-19T00:00:00",
          "2021-07-20T00:00:00",
          "2021-07-21T00:00:00",
          "2021-07-22T00:00:00",
          "2021-07-23T00:00:00",
          "2021-07-24T00:00:00",
          "2021-07-25T00:00:00",
          "2021-07-26T00:00:00",
          "2021-07-27T00:00:00",
          "2021-07-28T00:00:00",
          "2021-07-29T00:00:00",
          "2021-07-30T00:00:00",
          "2021-07-31T00:00:00",
          "2021-08-01T00:00:00",
          "2021-08-02T00:00:00",
          "2021-08-03T00:00:00",
          "2021-08-04T00:00:00",
          "2021-08-05T00:00:00",
          "2021-08-06T00:00:00",
          "2021-08-07T00:00:00",
          "2021-08-08T00:00:00",
          "2021-08-09T00:00:00",
          "2021-08-10T00:00:00",
          "2021-08-11T00:00:00",
          "2021-08-12T00:00:00",
          "2021-08-13T00:00:00",
          "2021-08-14T00:00:00",
          "2021-08-15T00:00:00",
          "2021-08-16T00:00:00",
          "2021-08-17T00:00:00",
          "2021-08-18T00:00:00",
          "2021-08-19T00:00:00",
          "2021-08-20T00:00:00",
          "2021-08-21T00:00:00",
          "2021-08-22T00:00:00",
          "2021-08-23T00:00:00",
          "2021-08-24T00:00:00",
          "2021-08-25T00:00:00",
          "2021-08-26T00:00:00",
          "2021-08-27T00:00:00",
          "2021-08-28T00:00:00",
          "2021-08-29T00:00:00",
          "2021-08-30T00:00:00",
          "2021-08-31T00:00:00",
          "2021-09-01T00:00:00",
          "2021-09-02T00:00:00",
          "2021-09-03T00:00:00",
          "2021-09-04T00:00:00",
          "2021-09-05T00:00:00",
          "2021-09-06T00:00:00",
          "2021-09-07T00:00:00",
          "2021-09-08T00:00:00",
          "2021-09-09T00:00:00",
          "2021-09-10T00:00:00",
          "2021-09-11T00:00:00",
          "2021-09-12T00:00:00",
          "2021-09-13T00:00:00",
          "2021-09-14T00:00:00",
          "2021-09-15T00:00:00",
          "2021-09-16T00:00:00",
          "2021-09-17T00:00:00",
          "2021-09-18T00:00:00",
          "2021-09-19T00:00:00",
          "2021-09-20T00:00:00",
          "2021-09-21T00:00:00",
          "2021-09-22T00:00:00",
          "2021-09-23T00:00:00",
          "2021-09-24T00:00:00",
          "2021-09-25T00:00:00",
          "2021-09-26T00:00:00",
          "2021-09-27T00:00:00",
          "2021-09-28T00:00:00",
          "2021-09-29T00:00:00",
          "2021-09-30T00:00:00",
          "2021-10-01T00:00:00",
          "2021-10-02T00:00:00",
          "2021-10-03T00:00:00",
          "2021-10-04T00:00:00",
          "2021-10-05T00:00:00",
          "2021-10-06T00:00:00",
          "2021-10-07T00:00:00",
          "2021-10-08T00:00:00",
          "2021-10-09T00:00:00",
          "2021-10-10T00:00:00",
          "2021-10-11T00:00:00",
          "2021-10-12T00:00:00",
          "2021-10-13T00:00:00",
          "2021-10-14T00:00:00",
          "2021-10-15T00:00:00",
          "2021-10-16T00:00:00",
          "2021-10-17T00:00:00",
          "2021-10-18T00:00:00",
          "2021-10-19T00:00:00",
          "2021-10-20T00:00:00",
          "2021-10-21T00:00:00",
          "2021-10-22T00:00:00",
          "2021-10-23T00:00:00",
          "2021-10-24T00:00:00",
          "2021-10-25T00:00:00",
          "2021-10-26T00:00:00",
          "2021-10-27T00:00:00",
          "2021-10-28T00:00:00",
          "2021-10-29T00:00:00",
          "2021-10-30T00:00:00",
          "2021-10-31T00:00:00",
          "2021-11-01T00:00:00",
          "2021-11-02T00:00:00",
          "2021-11-03T00:00:00",
          "2021-11-04T00:00:00",
          "2021-11-05T00:00:00",
          "2021-11-06T00:00:00",
          "2021-11-07T00:00:00",
          "2021-11-08T00:00:00",
          "2021-11-09T00:00:00",
          "2021-11-10T00:00:00",
          "2021-11-11T00:00:00",
          "2021-11-12T00:00:00",
          "2021-11-13T00:00:00",
          "2021-11-14T00:00:00",
          "2021-11-15T00:00:00",
          "2021-11-16T00:00:00",
          "2021-11-17T00:00:00",
          "2021-11-18T00:00:00",
          "2021-11-19T00:00:00",
          "2021-11-20T00:00:00",
          "2021-11-21T00:00:00",
          "2021-11-22T00:00:00",
          "2021-11-23T00:00:00",
          "2021-11-24T00:00:00",
          "2021-11-25T00:00:00",
          "2021-11-26T00:00:00",
          "2021-11-27T00:00:00",
          "2021-11-28T00:00:00",
          "2021-11-29T00:00:00",
          "2021-11-30T00:00:00",
          "2021-12-01T00:00:00",
          "2021-12-02T00:00:00",
          "2021-12-03T00:00:00",
          "2021-12-04T00:00:00",
          "2021-12-05T00:00:00",
          "2021-12-06T00:00:00",
          "2021-12-07T00:00:00",
          "2021-12-08T00:00:00",
          "2021-12-09T00:00:00",
          "2021-12-10T00:00:00",
          "2021-12-11T00:00:00",
          "2021-12-12T00:00:00",
          "2021-12-13T00:00:00",
          "2021-12-14T00:00:00",
          "2021-12-15T00:00:00",
          "2021-12-16T00:00:00",
          "2021-12-17T00:00:00",
          "2021-12-18T00:00:00",
          "2021-12-19T00:00:00",
          "2021-12-20T00:00:00",
          "2021-12-21T00:00:00",
          "2021-12-22T00:00:00",
          "2021-12-23T00:00:00",
          "2021-12-24T00:00:00",
          "2021-12-25T00:00:00",
          "2021-12-26T00:00:00",
          "2021-12-27T00:00:00",
          "2021-12-28T00:00:00",
          "2021-12-29T00:00:00",
          "2021-12-30T00:00:00",
          "2021-12-31T00:00:00",
          "2022-01-01T00:00:00",
          "2022-01-02T00:00:00",
          "2022-01-03T00:00:00",
          "2022-01-04T00:00:00",
          "2022-01-05T00:00:00",
          "2022-01-06T00:00:00"
         ],
         "xaxis": "x",
         "y": [
          1575.08,
          1546.17,
          1505.43,
          1516.85,
          1522.02,
          1492.14,
          1522.82,
          1519.8,
          1502,
          1412.41,
          1410.63,
          1341.05,
          1349.03,
          1441.95,
          1452.8,
          1431.33,
          1540.43,
          1569.97,
          1636.64,
          1671.87,
          1816.16,
          1715.95,
          1766.82,
          1784.03,
          1780.82,
          1656.86,
          1747.36,
          1738.71,
          1788.94,
          1803.94,
          1794.18,
          1926.95,
          2031.09,
          2106.1,
          2027.32,
          1951,
          1877.37,
          1798.63,
          1939.16,
          1959.99,
          1998,
          1962.08,
          1837.53,
          1920.99,
          2097.58,
          2207.21,
          2265.86,
          2275.53,
          2307.66,
          2446.11,
          2449.53,
          2846.77,
          2700.35,
          2928.81,
          2891.38,
          2869.23,
          3217.17,
          3228.12,
          3250.94,
          3439.21,
          3173.37,
          3080.01,
          3362.83,
          3004.66,
          2944.38,
          2699.35,
          2764.44,
          2006.67,
          2276.29,
          2001.2,
          1889.08,
          1721.9,
          2172.81,
          2208.49,
          2370.93,
          2252.18,
          1982.93,
          1874.15,
          1959.77,
          2211.38,
          2156.58,
          2218.5,
          2354.5,
          2214.74,
          2167.07,
          2231.11,
          2132.63,
          2061.8,
          2143.12,
          2031.01,
          1945.46,
          1961.13,
          2071.62,
          2130.18,
          2099.99,
          1973.21,
          1993.67,
          1885.5,
          1830.93,
          1892.19,
          1583.65,
          1575,
          1651.23,
          1668.7,
          1520,
          1534.67,
          1659.98,
          1746.95,
          1819.45,
          1920.1,
          1781.32,
          1816.61,
          1876.22,
          1957.15,
          1851.6,
          1963.87,
          1966.23,
          1787.22,
          1809.79,
          1779.59,
          1802.65,
          1713.16,
          1647.56,
          1685.35,
          1625.91,
          1589.96,
          1609.49,
          1602.1,
          1540.98,
          1515.57,
          1692.14,
          1719.57,
          1803.73,
          1857.31,
          1861,
          1888,
          1948.1,
          1942.31,
          2004.44,
          2074.86,
          2132.88,
          2154.72,
          2194.83,
          2113.48,
          2302.03,
          2387.94,
          2456.05,
          2680.03,
          2564.8,
          2693.52,
          2680.3,
          2693.7,
          2598.41,
          2812.67,
          2768.26,
          2803.99,
          2673.07,
          2572.44,
          2576.86,
          2725.96,
          2806.27,
          2754.88,
          2768.81,
          2830.44,
          2700.12,
          2743.3,
          2632.08,
          2777.58,
          2752.06,
          2735.02,
          2737.13,
          2904.95,
          3233.62,
          3190,
          3314.01,
          3270.18,
          3320.85,
          3309.78,
          2904.56,
          2962.16,
          2896.78,
          2720.4,
          2768.48,
          2882.68,
          2781.31,
          2910.75,
          3057.72,
          3033.1,
          2899.48,
          2931.28,
          2839.84,
          2539.52,
          2359.62,
          2635.37,
          2687.24,
          2502.58,
          2496.98,
          2612.32,
          2504.4,
          2402.26,
          2457.02,
          2592.44,
          2851.63,
          2915.71,
          2941.75,
          2913.24,
          3031.03,
          3087.62,
          3099.32,
          3077.23,
          3086.78,
          2955.23,
          3065.46,
          3027.87,
          3109.74,
          3269,
          3327.9,
          3283.04,
          3308.24,
          3226.9,
          3331.45,
          3567.61,
          3486.74,
          3412.06,
          3585.01,
          3508.04,
          3636.57,
          3562.33,
          3384.07,
          3670.59,
          3821.69,
          3742.51,
          3711.78,
          3725.72,
          3968.08,
          3965.67,
          3930.29,
          3879.12,
          3917.34,
          3994.57,
          4150.81,
          4083.42,
          4034.91,
          4127.21,
          4079.8,
          4067.64,
          4048.29,
          4019.25,
          3720.29,
          3792.21,
          3519.12,
          3817.17,
          3921.04,
          3784.98,
          3638.69,
          3861.35,
          3812.79,
          4040.33,
          3581.02,
          3625.27,
          3810.67,
          3939.99,
          4089.36,
          4053.03,
          3994.38,
          3735.89,
          3652.14,
          3716.76,
          3857.63,
          3823.9,
          3914.6,
          3637.26,
          3452.64,
          3620.92,
          3655.69,
          3353.55,
          3429.14,
          3560.83,
          3492.43,
          3449.78,
          3524,
          3490.61,
          3498.54,
          3559.53,
          3514.72,
          3631.39,
          3576.49,
          3625.1,
          3589.86,
          3564.83,
          3356.07,
          3197.49,
          3277.6,
          3237,
          3315.51,
          3372,
          3333.22,
          3355.94,
          3131.57,
          3019.16
         ],
         "yaxis": "y"
        }
       ],
       "layout": {
        "coloraxis": {
         "colorbar": {
          "title": {
           "text": "risk_indicator_normalized"
          }
         },
         "colorscale": [
          [
           0,
           "rgb(5,48,97)"
          ],
          [
           0.1,
           "rgb(33,102,172)"
          ],
          [
           0.2,
           "rgb(67,147,195)"
          ],
          [
           0.3,
           "rgb(146,197,222)"
          ],
          [
           0.4,
           "rgb(209,229,240)"
          ],
          [
           0.5,
           "rgb(247,247,247)"
          ],
          [
           0.6,
           "rgb(253,219,199)"
          ],
          [
           0.7,
           "rgb(244,165,130)"
          ],
          [
           0.8,
           "rgb(214,96,77)"
          ],
          [
           0.9,
           "rgb(178,24,43)"
          ],
          [
           1,
           "rgb(103,0,31)"
          ]
         ]
        },
        "legend": {
         "tracegroupgap": 0
        },
        "margin": {
         "t": 60
        },
        "template": {
         "data": {
          "bar": [
           {
            "error_x": {
             "color": "#2a3f5f"
            },
            "error_y": {
             "color": "#2a3f5f"
            },
            "marker": {
             "line": {
              "color": "#E5ECF6",
              "width": 0.5
             },
             "pattern": {
              "fillmode": "overlay",
              "size": 10,
              "solidity": 0.2
             }
            },
            "type": "bar"
           }
          ],
          "barpolar": [
           {
            "marker": {
             "line": {
              "color": "#E5ECF6",
              "width": 0.5
             },
             "pattern": {
              "fillmode": "overlay",
              "size": 10,
              "solidity": 0.2
             }
            },
            "type": "barpolar"
           }
          ],
          "carpet": [
           {
            "aaxis": {
             "endlinecolor": "#2a3f5f",
             "gridcolor": "white",
             "linecolor": "white",
             "minorgridcolor": "white",
             "startlinecolor": "#2a3f5f"
            },
            "baxis": {
             "endlinecolor": "#2a3f5f",
             "gridcolor": "white",
             "linecolor": "white",
             "minorgridcolor": "white",
             "startlinecolor": "#2a3f5f"
            },
            "type": "carpet"
           }
          ],
          "choropleth": [
           {
            "colorbar": {
             "outlinewidth": 0,
             "ticks": ""
            },
            "type": "choropleth"
           }
          ],
          "contour": [
           {
            "colorbar": {
             "outlinewidth": 0,
             "ticks": ""
            },
            "colorscale": [
             [
              0,
              "#0d0887"
             ],
             [
              0.1111111111111111,
              "#46039f"
             ],
             [
              0.2222222222222222,
              "#7201a8"
             ],
             [
              0.3333333333333333,
              "#9c179e"
             ],
             [
              0.4444444444444444,
              "#bd3786"
             ],
             [
              0.5555555555555556,
              "#d8576b"
             ],
             [
              0.6666666666666666,
              "#ed7953"
             ],
             [
              0.7777777777777778,
              "#fb9f3a"
             ],
             [
              0.8888888888888888,
              "#fdca26"
             ],
             [
              1,
              "#f0f921"
             ]
            ],
            "type": "contour"
           }
          ],
          "contourcarpet": [
           {
            "colorbar": {
             "outlinewidth": 0,
             "ticks": ""
            },
            "type": "contourcarpet"
           }
          ],
          "heatmap": [
           {
            "colorbar": {
             "outlinewidth": 0,
             "ticks": ""
            },
            "colorscale": [
             [
              0,
              "#0d0887"
             ],
             [
              0.1111111111111111,
              "#46039f"
             ],
             [
              0.2222222222222222,
              "#7201a8"
             ],
             [
              0.3333333333333333,
              "#9c179e"
             ],
             [
              0.4444444444444444,
              "#bd3786"
             ],
             [
              0.5555555555555556,
              "#d8576b"
             ],
             [
              0.6666666666666666,
              "#ed7953"
             ],
             [
              0.7777777777777778,
              "#fb9f3a"
             ],
             [
              0.8888888888888888,
              "#fdca26"
             ],
             [
              1,
              "#f0f921"
             ]
            ],
            "type": "heatmap"
           }
          ],
          "heatmapgl": [
           {
            "colorbar": {
             "outlinewidth": 0,
             "ticks": ""
            },
            "colorscale": [
             [
              0,
              "#0d0887"
             ],
             [
              0.1111111111111111,
              "#46039f"
             ],
             [
              0.2222222222222222,
              "#7201a8"
             ],
             [
              0.3333333333333333,
              "#9c179e"
             ],
             [
              0.4444444444444444,
              "#bd3786"
             ],
             [
              0.5555555555555556,
              "#d8576b"
             ],
             [
              0.6666666666666666,
              "#ed7953"
             ],
             [
              0.7777777777777778,
              "#fb9f3a"
             ],
             [
              0.8888888888888888,
              "#fdca26"
             ],
             [
              1,
              "#f0f921"
             ]
            ],
            "type": "heatmapgl"
           }
          ],
          "histogram": [
           {
            "marker": {
             "pattern": {
              "fillmode": "overlay",
              "size": 10,
              "solidity": 0.2
             }
            },
            "type": "histogram"
           }
          ],
          "histogram2d": [
           {
            "colorbar": {
             "outlinewidth": 0,
             "ticks": ""
            },
            "colorscale": [
             [
              0,
              "#0d0887"
             ],
             [
              0.1111111111111111,
              "#46039f"
             ],
             [
              0.2222222222222222,
              "#7201a8"
             ],
             [
              0.3333333333333333,
              "#9c179e"
             ],
             [
              0.4444444444444444,
              "#bd3786"
             ],
             [
              0.5555555555555556,
              "#d8576b"
             ],
             [
              0.6666666666666666,
              "#ed7953"
             ],
             [
              0.7777777777777778,
              "#fb9f3a"
             ],
             [
              0.8888888888888888,
              "#fdca26"
             ],
             [
              1,
              "#f0f921"
             ]
            ],
            "type": "histogram2d"
           }
          ],
          "histogram2dcontour": [
           {
            "colorbar": {
             "outlinewidth": 0,
             "ticks": ""
            },
            "colorscale": [
             [
              0,
              "#0d0887"
             ],
             [
              0.1111111111111111,
              "#46039f"
             ],
             [
              0.2222222222222222,
              "#7201a8"
             ],
             [
              0.3333333333333333,
              "#9c179e"
             ],
             [
              0.4444444444444444,
              "#bd3786"
             ],
             [
              0.5555555555555556,
              "#d8576b"
             ],
             [
              0.6666666666666666,
              "#ed7953"
             ],
             [
              0.7777777777777778,
              "#fb9f3a"
             ],
             [
              0.8888888888888888,
              "#fdca26"
             ],
             [
              1,
              "#f0f921"
             ]
            ],
            "type": "histogram2dcontour"
           }
          ],
          "mesh3d": [
           {
            "colorbar": {
             "outlinewidth": 0,
             "ticks": ""
            },
            "type": "mesh3d"
           }
          ],
          "parcoords": [
           {
            "line": {
             "colorbar": {
              "outlinewidth": 0,
              "ticks": ""
             }
            },
            "type": "parcoords"
           }
          ],
          "pie": [
           {
            "automargin": true,
            "type": "pie"
           }
          ],
          "scatter": [
           {
            "marker": {
             "colorbar": {
              "outlinewidth": 0,
              "ticks": ""
             }
            },
            "type": "scatter"
           }
          ],
          "scatter3d": [
           {
            "line": {
             "colorbar": {
              "outlinewidth": 0,
              "ticks": ""
             }
            },
            "marker": {
             "colorbar": {
              "outlinewidth": 0,
              "ticks": ""
             }
            },
            "type": "scatter3d"
           }
          ],
          "scattercarpet": [
           {
            "marker": {
             "colorbar": {
              "outlinewidth": 0,
              "ticks": ""
             }
            },
            "type": "scattercarpet"
           }
          ],
          "scattergeo": [
           {
            "marker": {
             "colorbar": {
              "outlinewidth": 0,
              "ticks": ""
             }
            },
            "type": "scattergeo"
           }
          ],
          "scattergl": [
           {
            "marker": {
             "colorbar": {
              "outlinewidth": 0,
              "ticks": ""
             }
            },
            "type": "scattergl"
           }
          ],
          "scattermapbox": [
           {
            "marker": {
             "colorbar": {
              "outlinewidth": 0,
              "ticks": ""
             }
            },
            "type": "scattermapbox"
           }
          ],
          "scatterpolar": [
           {
            "marker": {
             "colorbar": {
              "outlinewidth": 0,
              "ticks": ""
             }
            },
            "type": "scatterpolar"
           }
          ],
          "scatterpolargl": [
           {
            "marker": {
             "colorbar": {
              "outlinewidth": 0,
              "ticks": ""
             }
            },
            "type": "scatterpolargl"
           }
          ],
          "scatterternary": [
           {
            "marker": {
             "colorbar": {
              "outlinewidth": 0,
              "ticks": ""
             }
            },
            "type": "scatterternary"
           }
          ],
          "surface": [
           {
            "colorbar": {
             "outlinewidth": 0,
             "ticks": ""
            },
            "colorscale": [
             [
              0,
              "#0d0887"
             ],
             [
              0.1111111111111111,
              "#46039f"
             ],
             [
              0.2222222222222222,
              "#7201a8"
             ],
             [
              0.3333333333333333,
              "#9c179e"
             ],
             [
              0.4444444444444444,
              "#bd3786"
             ],
             [
              0.5555555555555556,
              "#d8576b"
             ],
             [
              0.6666666666666666,
              "#ed7953"
             ],
             [
              0.7777777777777778,
              "#fb9f3a"
             ],
             [
              0.8888888888888888,
              "#fdca26"
             ],
             [
              1,
              "#f0f921"
             ]
            ],
            "type": "surface"
           }
          ],
          "table": [
           {
            "cells": {
             "fill": {
              "color": "#EBF0F8"
             },
             "line": {
              "color": "white"
             }
            },
            "header": {
             "fill": {
              "color": "#C8D4E3"
             },
             "line": {
              "color": "white"
             }
            },
            "type": "table"
           }
          ]
         },
         "layout": {
          "annotationdefaults": {
           "arrowcolor": "#2a3f5f",
           "arrowhead": 0,
           "arrowwidth": 1
          },
          "autotypenumbers": "strict",
          "coloraxis": {
           "colorbar": {
            "outlinewidth": 0,
            "ticks": ""
           }
          },
          "colorscale": {
           "diverging": [
            [
             0,
             "#8e0152"
            ],
            [
             0.1,
             "#c51b7d"
            ],
            [
             0.2,
             "#de77ae"
            ],
            [
             0.3,
             "#f1b6da"
            ],
            [
             0.4,
             "#fde0ef"
            ],
            [
             0.5,
             "#f7f7f7"
            ],
            [
             0.6,
             "#e6f5d0"
            ],
            [
             0.7,
             "#b8e186"
            ],
            [
             0.8,
             "#7fbc41"
            ],
            [
             0.9,
             "#4d9221"
            ],
            [
             1,
             "#276419"
            ]
           ],
           "sequential": [
            [
             0,
             "#0d0887"
            ],
            [
             0.1111111111111111,
             "#46039f"
            ],
            [
             0.2222222222222222,
             "#7201a8"
            ],
            [
             0.3333333333333333,
             "#9c179e"
            ],
            [
             0.4444444444444444,
             "#bd3786"
            ],
            [
             0.5555555555555556,
             "#d8576b"
            ],
            [
             0.6666666666666666,
             "#ed7953"
            ],
            [
             0.7777777777777778,
             "#fb9f3a"
            ],
            [
             0.8888888888888888,
             "#fdca26"
            ],
            [
             1,
             "#f0f921"
            ]
           ],
           "sequentialminus": [
            [
             0,
             "#0d0887"
            ],
            [
             0.1111111111111111,
             "#46039f"
            ],
            [
             0.2222222222222222,
             "#7201a8"
            ],
            [
             0.3333333333333333,
             "#9c179e"
            ],
            [
             0.4444444444444444,
             "#bd3786"
            ],
            [
             0.5555555555555556,
             "#d8576b"
            ],
            [
             0.6666666666666666,
             "#ed7953"
            ],
            [
             0.7777777777777778,
             "#fb9f3a"
            ],
            [
             0.8888888888888888,
             "#fdca26"
            ],
            [
             1,
             "#f0f921"
            ]
           ]
          },
          "colorway": [
           "#636efa",
           "#EF553B",
           "#00cc96",
           "#ab63fa",
           "#FFA15A",
           "#19d3f3",
           "#FF6692",
           "#B6E880",
           "#FF97FF",
           "#FECB52"
          ],
          "font": {
           "color": "#2a3f5f"
          },
          "geo": {
           "bgcolor": "white",
           "lakecolor": "white",
           "landcolor": "#E5ECF6",
           "showlakes": true,
           "showland": true,
           "subunitcolor": "white"
          },
          "hoverlabel": {
           "align": "left"
          },
          "hovermode": "closest",
          "mapbox": {
           "style": "light"
          },
          "paper_bgcolor": "white",
          "plot_bgcolor": "#E5ECF6",
          "polar": {
           "angularaxis": {
            "gridcolor": "white",
            "linecolor": "white",
            "ticks": ""
           },
           "bgcolor": "#E5ECF6",
           "radialaxis": {
            "gridcolor": "white",
            "linecolor": "white",
            "ticks": ""
           }
          },
          "scene": {
           "xaxis": {
            "backgroundcolor": "#E5ECF6",
            "gridcolor": "white",
            "gridwidth": 2,
            "linecolor": "white",
            "showbackground": true,
            "ticks": "",
            "zerolinecolor": "white"
           },
           "yaxis": {
            "backgroundcolor": "#E5ECF6",
            "gridcolor": "white",
            "gridwidth": 2,
            "linecolor": "white",
            "showbackground": true,
            "ticks": "",
            "zerolinecolor": "white"
           },
           "zaxis": {
            "backgroundcolor": "#E5ECF6",
            "gridcolor": "white",
            "gridwidth": 2,
            "linecolor": "white",
            "showbackground": true,
            "ticks": "",
            "zerolinecolor": "white"
           }
          },
          "shapedefaults": {
           "line": {
            "color": "#2a3f5f"
           }
          },
          "ternary": {
           "aaxis": {
            "gridcolor": "white",
            "linecolor": "white",
            "ticks": ""
           },
           "baxis": {
            "gridcolor": "white",
            "linecolor": "white",
            "ticks": ""
           },
           "bgcolor": "#E5ECF6",
           "caxis": {
            "gridcolor": "white",
            "linecolor": "white",
            "ticks": ""
           }
          },
          "title": {
           "x": 0.05
          },
          "xaxis": {
           "automargin": true,
           "gridcolor": "white",
           "linecolor": "white",
           "ticks": "",
           "title": {
            "standoff": 15
           },
           "zerolinecolor": "white",
           "zerolinewidth": 2
          },
          "yaxis": {
           "automargin": true,
           "gridcolor": "white",
           "linecolor": "white",
           "ticks": "",
           "title": {
            "standoff": 15
           },
           "zerolinecolor": "white",
           "zerolinewidth": 2
          }
         }
        },
        "xaxis": {
         "anchor": "y",
         "domain": [
          0,
          1
         ],
         "title": {
          "text": "datetime"
         }
        },
        "yaxis": {
         "anchor": "x",
         "domain": [
          0,
          1
         ],
         "title": {
          "text": "close"
         }
        }
       }
      },
      "text/html": [
       "<div>                            <div id=\"23b70a42-e38f-4c19-9f4d-f38405597e08\" class=\"plotly-graph-div\" style=\"height:525px; width:100%;\"></div>            <script type=\"text/javascript\">                require([\"plotly\"], function(Plotly) {                    window.PLOTLYENV=window.PLOTLYENV || {};                                    if (document.getElementById(\"23b70a42-e38f-4c19-9f4d-f38405597e08\")) {                    Plotly.newPlot(                        \"23b70a42-e38f-4c19-9f4d-f38405597e08\",                        [{\"hovertemplate\":\"datetime=%{x}<br>close=%{y}<br>risk_indicator_normalized=%{marker.color}<extra></extra>\",\"legendgroup\":\"\",\"marker\":{\"color\":[-1.6584822565652213,-1.6584822565652213,-1.6584822565652213,-1.6584822565652213,-1.6584822565652213,-1.6584822565652213,-1.6584822565652213,-1.6584822565652213,-1.6584822565652213,-1.6584822565652213,-1.6584822565652213,-1.6584822565652213,-1.6584822565652213,-1.6584822565652213,-1.6584822565652213,-1.6584822565652213,-1.6584822565652213,-1.6584822565652213,-1.6584822565652213,-1.6584822565652213,-1.6584822565652213,-1.6584822565652213,-1.6584822565652213,-1.6584822565652213,-1.6584822565652213,-1.6584822565652213,-1.6584822565652213,-1.6584822565652213,-1.6584822565652213,-1.6584822565652213,-1.637513846835395,-1.601072262823877,-1.5507653059157038,-1.4943726293602477,-1.4460141746067945,-1.4021001422534016,-1.3681688338567335,-1.3414841159883273,-1.2996468270906045,-1.2472420721848145,-1.19102931626054,-1.1315952154183944,-1.0848445620499756,-1.0389992539852733,-0.9772922196374962,-0.903038592338647,-0.8336131543180705,-0.766089324245151,-0.7018710572578919,-0.6277743819990093,-0.5671593127585693,-0.4589370531023258,-0.3695959324492666,-0.2600376664040309,-0.15375433865616867,-0.03772754311007017,0.10293689461241726,0.2454771006174438,0.3853941021008167,0.5418934694166261,0.6738853499062663,0.7842360323484102,0.9116868309499616,0.997681236458103,1.0854461375390458,1.1570650760206342,1.2419598602243662,1.2618698007090448,1.2941339721933727,1.2980778707098797,1.2876539583969047,1.264668140738712,1.2967552626657612,1.324269720891801,1.3504299892608003,1.3547337290396706,1.3276566310713465,1.2892435763138945,1.2559496463234345,1.2334854070907444,1.2054493704392033,1.1453223837620776,1.1122236867969464,1.0438854287605335,0.9745671774989609,0.9134975215573942,0.809704371907068,0.6980846748003043,0.5920635718021454,0.4572953628494199,0.326887698709985,0.20586868773737102,0.06397270804099632,-0.039130822475136086,-0.13760127486679444,-0.2213037838531223,-0.30846290375769714,-0.3310874377395055,-0.3828527341113819,-0.40755960417519854,-0.44126725161820857,-0.46195396518137033,-0.5194736592934299,-0.5763080327528013,-0.6573133355771676,-0.7268964496574353,-0.7602474152340349,-0.7770149726016566,-0.7951298217054382,-0.8289914907893352,-0.8627437597880063,-0.9026751858867837,-0.9498616551668561,-0.9783246910986475,-1.0093444504814515,-1.042159578670257,-1.063270682687205,-1.0898184066358023,-1.121037609456273,-1.1435412202319168,-1.1569032185376031,-1.174209748023421,-1.2034333136579234,-1.2337400142293131,-1.267383166081224,-1.2937544337723121,-1.32266825086993,-1.3440758693476846,-1.3610669675389062,-1.3850699587276207,-1.3672186443180618,-1.347533808391301,-1.3323733075390565,-1.3130563749424282,-1.2749685019171835,-1.2334745199666217,-1.1980257807819863,-1.1708066050544745,-1.1452724304021749,-1.120695097491175,-1.0788179873156967,-1.0277877466563408,-0.9834328183703778,-0.9456888214201601,-0.8857296624810533,-0.8310579307602423,-0.7615363299577208,-0.6586425065047913,-0.5643394385562809,-0.45190712867764454,-0.35022342084530667,-0.24135175254241018,-0.12231653675200416,-0.004380114573317241,0.11474097227244998,0.2312241897523558,0.33975972779380426,0.41517326852646286,0.5063193256494982,0.5985227713317155,0.6733846324870009,0.7354971168156812,0.8066140382174438,0.8770651346305668,0.9453702972192958,1.0087373886624738,1.0492458479959375,1.0940479421290463,1.1344196296900202,1.1766243725166463,1.2111057081153134,1.2549668444158912,1.3179760430536747,1.3801434531806342,1.4289519936883264,1.469494412520129,1.502152067498162,1.5107122160763393,1.5118553639257326,1.500007647817942,1.4828167339038762,1.4561603908388363,1.444833487286563,1.4226082865374776,1.398176643754413,1.3726392737001718,1.3670078768429323,1.3649877040438818,1.3539183860879935,1.3339198211931356,1.2916181571144048,1.2389166740625799,1.1791812905166725,1.1290478734136715,1.0878533627467086,1.0347643287332755,0.9953366338185844,0.9527675477810522,0.9096338022358972,0.8663382441070766,0.8213311087802614,0.7707451533378028,0.7085447916310922,0.6561831773422586,0.5922981461145134,0.5345308831294115,0.479193432396606,0.4228382419525776,0.4005266703982764,0.3719461028330615,0.34995421976174856,0.3328995721834997,0.3158958768179265,0.28950051800239107,0.27354672814912223,0.2547173596520049,0.22843594023473732,0.20201622219389828,0.18550424183677305,0.16233657770542279,0.15575170994640236,0.18296746366372799,0.22121334396231765,0.237058755328182,0.25700940563497726,0.2869961073802491,0.3243066435067225,0.34959692290227073,0.3758060417571479,0.42314847767542046,0.47416076363990795,0.5124287973553456,0.5323334096029515,0.5461981659102096,0.5730646545863572,0.603576330963784,0.6261772213056299,0.6483514105019231,0.6682102621434287,0.695671192741202,0.728169203443633,0.7665113691924306,0.7930596240118344,0.83073182812704,0.8598703432032124,0.8790416271407738,0.890298439096615,0.9006591891086093,0.8981270423544674,0.9070960291328458,0.9011978987110465,0.890593135019843,0.8892963756932012,0.8890394289320608,0.8695567330878963,0.8642227074972672,0.8466304566308461,0.8455470149225328,0.8377677390506402,0.8139609041208986,0.7880650285716386,0.7757448916947295,0.7784297916115129,0.777935009708261,0.7637695535092828,0.7394012875915245,0.7153112297015789,0.6964092802707202,0.6712623672009371,0.6417918600248125,0.6051655775871397,0.5587286216793942,0.5097046018083469,0.46415303028225735,0.420674598944139,0.3698009546710539,0.3260720301394288,0.28847482820214165,0.26295536907375155,0.2324718740970625,0.2186547497250531,0.18044511531893026,0.1331977604154138,0.10179256471937884,0.07825130282226714,0.042892625498316836,0.008388707667847687,-0.034648873769465106,-0.05504846597435571,-0.08064664240189498,-0.12301769848329405,-0.17565393388263914,-0.2286290213408091,-0.27978747863900594,-0.3242012346013622,-0.35262631572270164,-0.37568223131528583,-0.4004033161365414,-0.4410454769224139,-0.48443318739047597],\"coloraxis\":\"coloraxis\",\"symbol\":\"circle\"},\"mode\":\"markers\",\"name\":\"\",\"orientation\":\"v\",\"showlegend\":false,\"x\":[\"2021-03-13T00:00:00\",\"2021-03-14T00:00:00\",\"2021-03-15T00:00:00\",\"2021-03-16T00:00:00\",\"2021-03-17T00:00:00\",\"2021-03-18T00:00:00\",\"2021-03-19T00:00:00\",\"2021-03-20T00:00:00\",\"2021-03-21T00:00:00\",\"2021-03-22T00:00:00\",\"2021-03-23T00:00:00\",\"2021-03-24T00:00:00\",\"2021-03-25T00:00:00\",\"2021-03-26T00:00:00\",\"2021-03-27T00:00:00\",\"2021-03-28T00:00:00\",\"2021-03-29T00:00:00\",\"2021-03-30T00:00:00\",\"2021-03-31T00:00:00\",\"2021-04-01T00:00:00\",\"2021-04-02T00:00:00\",\"2021-04-03T00:00:00\",\"2021-04-04T00:00:00\",\"2021-04-05T00:00:00\",\"2021-04-06T00:00:00\",\"2021-04-07T00:00:00\",\"2021-04-08T00:00:00\",\"2021-04-09T00:00:00\",\"2021-04-10T00:00:00\",\"2021-04-11T00:00:00\",\"2021-04-12T00:00:00\",\"2021-04-13T00:00:00\",\"2021-04-14T00:00:00\",\"2021-04-15T00:00:00\",\"2021-04-16T00:00:00\",\"2021-04-17T00:00:00\",\"2021-04-18T00:00:00\",\"2021-04-19T00:00:00\",\"2021-04-20T00:00:00\",\"2021-04-21T00:00:00\",\"2021-04-22T00:00:00\",\"2021-04-23T00:00:00\",\"2021-04-24T00:00:00\",\"2021-04-25T00:00:00\",\"2021-04-26T00:00:00\",\"2021-04-27T00:00:00\",\"2021-04-28T00:00:00\",\"2021-04-29T00:00:00\",\"2021-04-30T00:00:00\",\"2021-05-01T00:00:00\",\"2021-05-02T00:00:00\",\"2021-05-03T00:00:00\",\"2021-05-04T00:00:00\",\"2021-05-05T00:00:00\",\"2021-05-06T00:00:00\",\"2021-05-07T00:00:00\",\"2021-05-08T00:00:00\",\"2021-05-09T00:00:00\",\"2021-05-10T00:00:00\",\"2021-05-11T00:00:00\",\"2021-05-12T00:00:00\",\"2021-05-13T00:00:00\",\"2021-05-14T00:00:00\",\"2021-05-15T00:00:00\",\"2021-05-16T00:00:00\",\"2021-05-17T00:00:00\",\"2021-05-18T00:00:00\",\"2021-05-19T00:00:00\",\"2021-05-20T00:00:00\",\"2021-05-21T00:00:00\",\"2021-05-22T00:00:00\",\"2021-05-23T00:00:00\",\"2021-05-24T00:00:00\",\"2021-05-25T00:00:00\",\"2021-05-26T00:00:00\",\"2021-05-27T00:00:00\",\"2021-05-28T00:00:00\",\"2021-05-29T00:00:00\",\"2021-05-30T00:00:00\",\"2021-05-31T00:00:00\",\"2021-06-01T00:00:00\",\"2021-06-02T00:00:00\",\"2021-06-03T00:00:00\",\"2021-06-04T00:00:00\",\"2021-06-05T00:00:00\",\"2021-06-06T00:00:00\",\"2021-06-07T00:00:00\",\"2021-06-08T00:00:00\",\"2021-06-09T00:00:00\",\"2021-06-10T00:00:00\",\"2021-06-11T00:00:00\",\"2021-06-12T00:00:00\",\"2021-06-13T00:00:00\",\"2021-06-14T00:00:00\",\"2021-06-15T00:00:00\",\"2021-06-16T00:00:00\",\"2021-06-17T00:00:00\",\"2021-06-18T00:00:00\",\"2021-06-19T00:00:00\",\"2021-06-20T00:00:00\",\"2021-06-21T00:00:00\",\"2021-06-22T00:00:00\",\"2021-06-23T00:00:00\",\"2021-06-24T00:00:00\",\"2021-06-25T00:00:00\",\"2021-06-26T00:00:00\",\"2021-06-27T00:00:00\",\"2021-06-28T00:00:00\",\"2021-06-29T00:00:00\",\"2021-06-30T00:00:00\",\"2021-07-01T00:00:00\",\"2021-07-02T00:00:00\",\"2021-07-03T00:00:00\",\"2021-07-04T00:00:00\",\"2021-07-05T00:00:00\",\"2021-07-06T00:00:00\",\"2021-07-07T00:00:00\",\"2021-07-08T00:00:00\",\"2021-07-09T00:00:00\",\"2021-07-10T00:00:00\",\"2021-07-11T00:00:00\",\"2021-07-12T00:00:00\",\"2021-07-13T00:00:00\",\"2021-07-14T00:00:00\",\"2021-07-15T00:00:00\",\"2021-07-16T00:00:00\",\"2021-07-17T00:00:00\",\"2021-07-18T00:00:00\",\"2021-07-19T00:00:00\",\"2021-07-20T00:00:00\",\"2021-07-21T00:00:00\",\"2021-07-22T00:00:00\",\"2021-07-23T00:00:00\",\"2021-07-24T00:00:00\",\"2021-07-25T00:00:00\",\"2021-07-26T00:00:00\",\"2021-07-27T00:00:00\",\"2021-07-28T00:00:00\",\"2021-07-29T00:00:00\",\"2021-07-30T00:00:00\",\"2021-07-31T00:00:00\",\"2021-08-01T00:00:00\",\"2021-08-02T00:00:00\",\"2021-08-03T00:00:00\",\"2021-08-04T00:00:00\",\"2021-08-05T00:00:00\",\"2021-08-06T00:00:00\",\"2021-08-07T00:00:00\",\"2021-08-08T00:00:00\",\"2021-08-09T00:00:00\",\"2021-08-10T00:00:00\",\"2021-08-11T00:00:00\",\"2021-08-12T00:00:00\",\"2021-08-13T00:00:00\",\"2021-08-14T00:00:00\",\"2021-08-15T00:00:00\",\"2021-08-16T00:00:00\",\"2021-08-17T00:00:00\",\"2021-08-18T00:00:00\",\"2021-08-19T00:00:00\",\"2021-08-20T00:00:00\",\"2021-08-21T00:00:00\",\"2021-08-22T00:00:00\",\"2021-08-23T00:00:00\",\"2021-08-24T00:00:00\",\"2021-08-25T00:00:00\",\"2021-08-26T00:00:00\",\"2021-08-27T00:00:00\",\"2021-08-28T00:00:00\",\"2021-08-29T00:00:00\",\"2021-08-30T00:00:00\",\"2021-08-31T00:00:00\",\"2021-09-01T00:00:00\",\"2021-09-02T00:00:00\",\"2021-09-03T00:00:00\",\"2021-09-04T00:00:00\",\"2021-09-05T00:00:00\",\"2021-09-06T00:00:00\",\"2021-09-07T00:00:00\",\"2021-09-08T00:00:00\",\"2021-09-09T00:00:00\",\"2021-09-10T00:00:00\",\"2021-09-11T00:00:00\",\"2021-09-12T00:00:00\",\"2021-09-13T00:00:00\",\"2021-09-14T00:00:00\",\"2021-09-15T00:00:00\",\"2021-09-16T00:00:00\",\"2021-09-17T00:00:00\",\"2021-09-18T00:00:00\",\"2021-09-19T00:00:00\",\"2021-09-20T00:00:00\",\"2021-09-21T00:00:00\",\"2021-09-22T00:00:00\",\"2021-09-23T00:00:00\",\"2021-09-24T00:00:00\",\"2021-09-25T00:00:00\",\"2021-09-26T00:00:00\",\"2021-09-27T00:00:00\",\"2021-09-28T00:00:00\",\"2021-09-29T00:00:00\",\"2021-09-30T00:00:00\",\"2021-10-01T00:00:00\",\"2021-10-02T00:00:00\",\"2021-10-03T00:00:00\",\"2021-10-04T00:00:00\",\"2021-10-05T00:00:00\",\"2021-10-06T00:00:00\",\"2021-10-07T00:00:00\",\"2021-10-08T00:00:00\",\"2021-10-09T00:00:00\",\"2021-10-10T00:00:00\",\"2021-10-11T00:00:00\",\"2021-10-12T00:00:00\",\"2021-10-13T00:00:00\",\"2021-10-14T00:00:00\",\"2021-10-15T00:00:00\",\"2021-10-16T00:00:00\",\"2021-10-17T00:00:00\",\"2021-10-18T00:00:00\",\"2021-10-19T00:00:00\",\"2021-10-20T00:00:00\",\"2021-10-21T00:00:00\",\"2021-10-22T00:00:00\",\"2021-10-23T00:00:00\",\"2021-10-24T00:00:00\",\"2021-10-25T00:00:00\",\"2021-10-26T00:00:00\",\"2021-10-27T00:00:00\",\"2021-10-28T00:00:00\",\"2021-10-29T00:00:00\",\"2021-10-30T00:00:00\",\"2021-10-31T00:00:00\",\"2021-11-01T00:00:00\",\"2021-11-02T00:00:00\",\"2021-11-03T00:00:00\",\"2021-11-04T00:00:00\",\"2021-11-05T00:00:00\",\"2021-11-06T00:00:00\",\"2021-11-07T00:00:00\",\"2021-11-08T00:00:00\",\"2021-11-09T00:00:00\",\"2021-11-10T00:00:00\",\"2021-11-11T00:00:00\",\"2021-11-12T00:00:00\",\"2021-11-13T00:00:00\",\"2021-11-14T00:00:00\",\"2021-11-15T00:00:00\",\"2021-11-16T00:00:00\",\"2021-11-17T00:00:00\",\"2021-11-18T00:00:00\",\"2021-11-19T00:00:00\",\"2021-11-20T00:00:00\",\"2021-11-21T00:00:00\",\"2021-11-22T00:00:00\",\"2021-11-23T00:00:00\",\"2021-11-24T00:00:00\",\"2021-11-25T00:00:00\",\"2021-11-26T00:00:00\",\"2021-11-27T00:00:00\",\"2021-11-28T00:00:00\",\"2021-11-29T00:00:00\",\"2021-11-30T00:00:00\",\"2021-12-01T00:00:00\",\"2021-12-02T00:00:00\",\"2021-12-03T00:00:00\",\"2021-12-04T00:00:00\",\"2021-12-05T00:00:00\",\"2021-12-06T00:00:00\",\"2021-12-07T00:00:00\",\"2021-12-08T00:00:00\",\"2021-12-09T00:00:00\",\"2021-12-10T00:00:00\",\"2021-12-11T00:00:00\",\"2021-12-12T00:00:00\",\"2021-12-13T00:00:00\",\"2021-12-14T00:00:00\",\"2021-12-15T00:00:00\",\"2021-12-16T00:00:00\",\"2021-12-17T00:00:00\",\"2021-12-18T00:00:00\",\"2021-12-19T00:00:00\",\"2021-12-20T00:00:00\",\"2021-12-21T00:00:00\",\"2021-12-22T00:00:00\",\"2021-12-23T00:00:00\",\"2021-12-24T00:00:00\",\"2021-12-25T00:00:00\",\"2021-12-26T00:00:00\",\"2021-12-27T00:00:00\",\"2021-12-28T00:00:00\",\"2021-12-29T00:00:00\",\"2021-12-30T00:00:00\",\"2021-12-31T00:00:00\",\"2022-01-01T00:00:00\",\"2022-01-02T00:00:00\",\"2022-01-03T00:00:00\",\"2022-01-04T00:00:00\",\"2022-01-05T00:00:00\",\"2022-01-06T00:00:00\"],\"xaxis\":\"x\",\"y\":[1575.08,1546.17,1505.43,1516.85,1522.02,1492.14,1522.82,1519.8,1502.0,1412.41,1410.63,1341.05,1349.03,1441.95,1452.8,1431.33,1540.43,1569.97,1636.64,1671.87,1816.16,1715.95,1766.82,1784.03,1780.82,1656.86,1747.36,1738.71,1788.94,1803.94,1794.18,1926.95,2031.09,2106.1,2027.32,1951.0,1877.37,1798.63,1939.16,1959.99,1998.0,1962.08,1837.53,1920.99,2097.58,2207.21,2265.86,2275.53,2307.66,2446.11,2449.53,2846.77,2700.35,2928.81,2891.38,2869.23,3217.17,3228.12,3250.94,3439.21,3173.37,3080.01,3362.83,3004.66,2944.38,2699.35,2764.44,2006.67,2276.29,2001.2,1889.08,1721.9,2172.81,2208.49,2370.93,2252.18,1982.93,1874.15,1959.77,2211.38,2156.58,2218.5,2354.5,2214.74,2167.07,2231.11,2132.63,2061.8,2143.12,2031.01,1945.46,1961.13,2071.62,2130.18,2099.99,1973.21,1993.67,1885.5,1830.93,1892.19,1583.65,1575.0,1651.23,1668.7,1520.0,1534.67,1659.98,1746.95,1819.45,1920.1,1781.32,1816.61,1876.22,1957.15,1851.6,1963.87,1966.23,1787.22,1809.79,1779.59,1802.65,1713.16,1647.56,1685.35,1625.91,1589.96,1609.49,1602.1,1540.98,1515.57,1692.14,1719.57,1803.73,1857.31,1861.0,1888.0,1948.1,1942.31,2004.44,2074.86,2132.88,2154.72,2194.83,2113.48,2302.03,2387.94,2456.05,2680.03,2564.8,2693.52,2680.3,2693.7,2598.41,2812.67,2768.26,2803.99,2673.07,2572.44,2576.86,2725.96,2806.27,2754.88,2768.81,2830.44,2700.12,2743.3,2632.08,2777.58,2752.06,2735.02,2737.13,2904.95,3233.62,3190.0,3314.01,3270.18,3320.85,3309.78,2904.56,2962.16,2896.78,2720.4,2768.48,2882.68,2781.31,2910.75,3057.72,3033.1,2899.48,2931.28,2839.84,2539.52,2359.62,2635.37,2687.24,2502.58,2496.98,2612.32,2504.4,2402.26,2457.02,2592.44,2851.63,2915.71,2941.75,2913.24,3031.03,3087.62,3099.32,3077.23,3086.78,2955.23,3065.46,3027.87,3109.74,3269.0,3327.9,3283.04,3308.24,3226.9,3331.45,3567.61,3486.74,3412.06,3585.01,3508.04,3636.57,3562.33,3384.07,3670.59,3821.69,3742.51,3711.78,3725.72,3968.08,3965.67,3930.29,3879.12,3917.34,3994.57,4150.81,4083.42,4034.91,4127.21,4079.8,4067.64,4048.29,4019.25,3720.29,3792.21,3519.12,3817.17,3921.04,3784.98,3638.69,3861.35,3812.79,4040.33,3581.02,3625.27,3810.67,3939.99,4089.36,4053.03,3994.38,3735.89,3652.14,3716.76,3857.63,3823.9,3914.6,3637.26,3452.64,3620.92,3655.69,3353.55,3429.14,3560.83,3492.43,3449.78,3524.0,3490.61,3498.54,3559.53,3514.72,3631.39,3576.49,3625.1,3589.86,3564.83,3356.07,3197.49,3277.6,3237.0,3315.51,3372.0,3333.22,3355.94,3131.57,3019.16],\"yaxis\":\"y\",\"type\":\"scatter\"}],                        {\"template\":{\"data\":{\"bar\":[{\"error_x\":{\"color\":\"#2a3f5f\"},\"error_y\":{\"color\":\"#2a3f5f\"},\"marker\":{\"line\":{\"color\":\"#E5ECF6\",\"width\":0.5},\"pattern\":{\"fillmode\":\"overlay\",\"size\":10,\"solidity\":0.2}},\"type\":\"bar\"}],\"barpolar\":[{\"marker\":{\"line\":{\"color\":\"#E5ECF6\",\"width\":0.5},\"pattern\":{\"fillmode\":\"overlay\",\"size\":10,\"solidity\":0.2}},\"type\":\"barpolar\"}],\"carpet\":[{\"aaxis\":{\"endlinecolor\":\"#2a3f5f\",\"gridcolor\":\"white\",\"linecolor\":\"white\",\"minorgridcolor\":\"white\",\"startlinecolor\":\"#2a3f5f\"},\"baxis\":{\"endlinecolor\":\"#2a3f5f\",\"gridcolor\":\"white\",\"linecolor\":\"white\",\"minorgridcolor\":\"white\",\"startlinecolor\":\"#2a3f5f\"},\"type\":\"carpet\"}],\"choropleth\":[{\"colorbar\":{\"outlinewidth\":0,\"ticks\":\"\"},\"type\":\"choropleth\"}],\"contour\":[{\"colorbar\":{\"outlinewidth\":0,\"ticks\":\"\"},\"colorscale\":[[0.0,\"#0d0887\"],[0.1111111111111111,\"#46039f\"],[0.2222222222222222,\"#7201a8\"],[0.3333333333333333,\"#9c179e\"],[0.4444444444444444,\"#bd3786\"],[0.5555555555555556,\"#d8576b\"],[0.6666666666666666,\"#ed7953\"],[0.7777777777777778,\"#fb9f3a\"],[0.8888888888888888,\"#fdca26\"],[1.0,\"#f0f921\"]],\"type\":\"contour\"}],\"contourcarpet\":[{\"colorbar\":{\"outlinewidth\":0,\"ticks\":\"\"},\"type\":\"contourcarpet\"}],\"heatmap\":[{\"colorbar\":{\"outlinewidth\":0,\"ticks\":\"\"},\"colorscale\":[[0.0,\"#0d0887\"],[0.1111111111111111,\"#46039f\"],[0.2222222222222222,\"#7201a8\"],[0.3333333333333333,\"#9c179e\"],[0.4444444444444444,\"#bd3786\"],[0.5555555555555556,\"#d8576b\"],[0.6666666666666666,\"#ed7953\"],[0.7777777777777778,\"#fb9f3a\"],[0.8888888888888888,\"#fdca26\"],[1.0,\"#f0f921\"]],\"type\":\"heatmap\"}],\"heatmapgl\":[{\"colorbar\":{\"outlinewidth\":0,\"ticks\":\"\"},\"colorscale\":[[0.0,\"#0d0887\"],[0.1111111111111111,\"#46039f\"],[0.2222222222222222,\"#7201a8\"],[0.3333333333333333,\"#9c179e\"],[0.4444444444444444,\"#bd3786\"],[0.5555555555555556,\"#d8576b\"],[0.6666666666666666,\"#ed7953\"],[0.7777777777777778,\"#fb9f3a\"],[0.8888888888888888,\"#fdca26\"],[1.0,\"#f0f921\"]],\"type\":\"heatmapgl\"}],\"histogram\":[{\"marker\":{\"pattern\":{\"fillmode\":\"overlay\",\"size\":10,\"solidity\":0.2}},\"type\":\"histogram\"}],\"histogram2d\":[{\"colorbar\":{\"outlinewidth\":0,\"ticks\":\"\"},\"colorscale\":[[0.0,\"#0d0887\"],[0.1111111111111111,\"#46039f\"],[0.2222222222222222,\"#7201a8\"],[0.3333333333333333,\"#9c179e\"],[0.4444444444444444,\"#bd3786\"],[0.5555555555555556,\"#d8576b\"],[0.6666666666666666,\"#ed7953\"],[0.7777777777777778,\"#fb9f3a\"],[0.8888888888888888,\"#fdca26\"],[1.0,\"#f0f921\"]],\"type\":\"histogram2d\"}],\"histogram2dcontour\":[{\"colorbar\":{\"outlinewidth\":0,\"ticks\":\"\"},\"colorscale\":[[0.0,\"#0d0887\"],[0.1111111111111111,\"#46039f\"],[0.2222222222222222,\"#7201a8\"],[0.3333333333333333,\"#9c179e\"],[0.4444444444444444,\"#bd3786\"],[0.5555555555555556,\"#d8576b\"],[0.6666666666666666,\"#ed7953\"],[0.7777777777777778,\"#fb9f3a\"],[0.8888888888888888,\"#fdca26\"],[1.0,\"#f0f921\"]],\"type\":\"histogram2dcontour\"}],\"mesh3d\":[{\"colorbar\":{\"outlinewidth\":0,\"ticks\":\"\"},\"type\":\"mesh3d\"}],\"parcoords\":[{\"line\":{\"colorbar\":{\"outlinewidth\":0,\"ticks\":\"\"}},\"type\":\"parcoords\"}],\"pie\":[{\"automargin\":true,\"type\":\"pie\"}],\"scatter\":[{\"marker\":{\"colorbar\":{\"outlinewidth\":0,\"ticks\":\"\"}},\"type\":\"scatter\"}],\"scatter3d\":[{\"line\":{\"colorbar\":{\"outlinewidth\":0,\"ticks\":\"\"}},\"marker\":{\"colorbar\":{\"outlinewidth\":0,\"ticks\":\"\"}},\"type\":\"scatter3d\"}],\"scattercarpet\":[{\"marker\":{\"colorbar\":{\"outlinewidth\":0,\"ticks\":\"\"}},\"type\":\"scattercarpet\"}],\"scattergeo\":[{\"marker\":{\"colorbar\":{\"outlinewidth\":0,\"ticks\":\"\"}},\"type\":\"scattergeo\"}],\"scattergl\":[{\"marker\":{\"colorbar\":{\"outlinewidth\":0,\"ticks\":\"\"}},\"type\":\"scattergl\"}],\"scattermapbox\":[{\"marker\":{\"colorbar\":{\"outlinewidth\":0,\"ticks\":\"\"}},\"type\":\"scattermapbox\"}],\"scatterpolar\":[{\"marker\":{\"colorbar\":{\"outlinewidth\":0,\"ticks\":\"\"}},\"type\":\"scatterpolar\"}],\"scatterpolargl\":[{\"marker\":{\"colorbar\":{\"outlinewidth\":0,\"ticks\":\"\"}},\"type\":\"scatterpolargl\"}],\"scatterternary\":[{\"marker\":{\"colorbar\":{\"outlinewidth\":0,\"ticks\":\"\"}},\"type\":\"scatterternary\"}],\"surface\":[{\"colorbar\":{\"outlinewidth\":0,\"ticks\":\"\"},\"colorscale\":[[0.0,\"#0d0887\"],[0.1111111111111111,\"#46039f\"],[0.2222222222222222,\"#7201a8\"],[0.3333333333333333,\"#9c179e\"],[0.4444444444444444,\"#bd3786\"],[0.5555555555555556,\"#d8576b\"],[0.6666666666666666,\"#ed7953\"],[0.7777777777777778,\"#fb9f3a\"],[0.8888888888888888,\"#fdca26\"],[1.0,\"#f0f921\"]],\"type\":\"surface\"}],\"table\":[{\"cells\":{\"fill\":{\"color\":\"#EBF0F8\"},\"line\":{\"color\":\"white\"}},\"header\":{\"fill\":{\"color\":\"#C8D4E3\"},\"line\":{\"color\":\"white\"}},\"type\":\"table\"}]},\"layout\":{\"annotationdefaults\":{\"arrowcolor\":\"#2a3f5f\",\"arrowhead\":0,\"arrowwidth\":1},\"autotypenumbers\":\"strict\",\"coloraxis\":{\"colorbar\":{\"outlinewidth\":0,\"ticks\":\"\"}},\"colorscale\":{\"diverging\":[[0,\"#8e0152\"],[0.1,\"#c51b7d\"],[0.2,\"#de77ae\"],[0.3,\"#f1b6da\"],[0.4,\"#fde0ef\"],[0.5,\"#f7f7f7\"],[0.6,\"#e6f5d0\"],[0.7,\"#b8e186\"],[0.8,\"#7fbc41\"],[0.9,\"#4d9221\"],[1,\"#276419\"]],\"sequential\":[[0.0,\"#0d0887\"],[0.1111111111111111,\"#46039f\"],[0.2222222222222222,\"#7201a8\"],[0.3333333333333333,\"#9c179e\"],[0.4444444444444444,\"#bd3786\"],[0.5555555555555556,\"#d8576b\"],[0.6666666666666666,\"#ed7953\"],[0.7777777777777778,\"#fb9f3a\"],[0.8888888888888888,\"#fdca26\"],[1.0,\"#f0f921\"]],\"sequentialminus\":[[0.0,\"#0d0887\"],[0.1111111111111111,\"#46039f\"],[0.2222222222222222,\"#7201a8\"],[0.3333333333333333,\"#9c179e\"],[0.4444444444444444,\"#bd3786\"],[0.5555555555555556,\"#d8576b\"],[0.6666666666666666,\"#ed7953\"],[0.7777777777777778,\"#fb9f3a\"],[0.8888888888888888,\"#fdca26\"],[1.0,\"#f0f921\"]]},\"colorway\":[\"#636efa\",\"#EF553B\",\"#00cc96\",\"#ab63fa\",\"#FFA15A\",\"#19d3f3\",\"#FF6692\",\"#B6E880\",\"#FF97FF\",\"#FECB52\"],\"font\":{\"color\":\"#2a3f5f\"},\"geo\":{\"bgcolor\":\"white\",\"lakecolor\":\"white\",\"landcolor\":\"#E5ECF6\",\"showlakes\":true,\"showland\":true,\"subunitcolor\":\"white\"},\"hoverlabel\":{\"align\":\"left\"},\"hovermode\":\"closest\",\"mapbox\":{\"style\":\"light\"},\"paper_bgcolor\":\"white\",\"plot_bgcolor\":\"#E5ECF6\",\"polar\":{\"angularaxis\":{\"gridcolor\":\"white\",\"linecolor\":\"white\",\"ticks\":\"\"},\"bgcolor\":\"#E5ECF6\",\"radialaxis\":{\"gridcolor\":\"white\",\"linecolor\":\"white\",\"ticks\":\"\"}},\"scene\":{\"xaxis\":{\"backgroundcolor\":\"#E5ECF6\",\"gridcolor\":\"white\",\"gridwidth\":2,\"linecolor\":\"white\",\"showbackground\":true,\"ticks\":\"\",\"zerolinecolor\":\"white\"},\"yaxis\":{\"backgroundcolor\":\"#E5ECF6\",\"gridcolor\":\"white\",\"gridwidth\":2,\"linecolor\":\"white\",\"showbackground\":true,\"ticks\":\"\",\"zerolinecolor\":\"white\"},\"zaxis\":{\"backgroundcolor\":\"#E5ECF6\",\"gridcolor\":\"white\",\"gridwidth\":2,\"linecolor\":\"white\",\"showbackground\":true,\"ticks\":\"\",\"zerolinecolor\":\"white\"}},\"shapedefaults\":{\"line\":{\"color\":\"#2a3f5f\"}},\"ternary\":{\"aaxis\":{\"gridcolor\":\"white\",\"linecolor\":\"white\",\"ticks\":\"\"},\"baxis\":{\"gridcolor\":\"white\",\"linecolor\":\"white\",\"ticks\":\"\"},\"bgcolor\":\"#E5ECF6\",\"caxis\":{\"gridcolor\":\"white\",\"linecolor\":\"white\",\"ticks\":\"\"}},\"title\":{\"x\":0.05},\"xaxis\":{\"automargin\":true,\"gridcolor\":\"white\",\"linecolor\":\"white\",\"ticks\":\"\",\"title\":{\"standoff\":15},\"zerolinecolor\":\"white\",\"zerolinewidth\":2},\"yaxis\":{\"automargin\":true,\"gridcolor\":\"white\",\"linecolor\":\"white\",\"ticks\":\"\",\"title\":{\"standoff\":15},\"zerolinecolor\":\"white\",\"zerolinewidth\":2}}},\"xaxis\":{\"anchor\":\"y\",\"domain\":[0.0,1.0],\"title\":{\"text\":\"datetime\"}},\"yaxis\":{\"anchor\":\"x\",\"domain\":[0.0,1.0],\"title\":{\"text\":\"close\"}},\"coloraxis\":{\"colorbar\":{\"title\":{\"text\":\"risk_indicator_normalized\"}},\"colorscale\":[[0.0,\"rgb(5,48,97)\"],[0.1,\"rgb(33,102,172)\"],[0.2,\"rgb(67,147,195)\"],[0.3,\"rgb(146,197,222)\"],[0.4,\"rgb(209,229,240)\"],[0.5,\"rgb(247,247,247)\"],[0.6,\"rgb(253,219,199)\"],[0.7,\"rgb(244,165,130)\"],[0.8,\"rgb(214,96,77)\"],[0.9,\"rgb(178,24,43)\"],[1.0,\"rgb(103,0,31)\"]]},\"legend\":{\"tracegroupgap\":0},\"margin\":{\"t\":60}},                        {\"responsive\": true}                    ).then(function(){\n",
       "                            \n",
       "var gd = document.getElementById('23b70a42-e38f-4c19-9f4d-f38405597e08');\n",
       "var x = new MutationObserver(function (mutations, observer) {{\n",
       "        var display = window.getComputedStyle(gd).display;\n",
       "        if (!display || display === 'none') {{\n",
       "            console.log([gd, 'removed!']);\n",
       "            Plotly.purge(gd);\n",
       "            observer.disconnect();\n",
       "        }}\n",
       "}});\n",
       "\n",
       "// Listen for the removal of the full notebook cells\n",
       "var notebookContainer = gd.closest('#notebook-container');\n",
       "if (notebookContainer) {{\n",
       "    x.observe(notebookContainer, {childList: true});\n",
       "}}\n",
       "\n",
       "// Listen for the clearing of the current output cell\n",
       "var outputEl = gd.closest('.output');\n",
       "if (outputEl) {{\n",
       "    x.observe(outputEl, {childList: true});\n",
       "}}\n",
       "\n",
       "                        })                };                });            </script>        </div>"
      ]
     },
     "metadata": {},
     "output_type": "display_data"
    }
   ],
   "source": [
    "px.scatter(df, x=df.index, y=df.close, color=df.risk_indicator_normalized, color_continuous_scale='RdBu_r')"
   ]
  },
  {
   "cell_type": "markdown",
   "metadata": {},
   "source": [
    "Notice that we are using a divergent colorscale to represent an attribute that changes in both directions from a middle point. We want this middle point 0, to match the white color on the scale. Thus, the colormap \"RdBu_r\" is appropriate. There are other Diverging Colormaps that you can find in [here](https://matplotlib.org/stable/tutorials/colors/colormaps.html)."
   ]
  },
  {
   "cell_type": "code",
   "execution_count": 349,
   "metadata": {},
   "outputs": [],
   "source": [
    "# TODO: Explain the 2nd graph, and what vol_fiat does and why we want to show it. Why do we want to show them together?"
   ]
  },
  {
   "cell_type": "markdown",
   "metadata": {},
   "source": [
    "Next, we want to create another graph that can give us extra information about the risk. The second figure we are going to make is the Volume in Fiat (see this [link](https://en.wikipedia.org/wiki/Fiat_money) for further explanations. "
   ]
  },
  {
   "cell_type": "code",
   "execution_count": 350,
   "metadata": {
    "scrolled": true
   },
   "outputs": [
    {
     "data": {
      "application/vnd.plotly.v1+json": {
       "config": {
        "plotlyServerURL": "https://plot.ly"
       },
       "data": [
        {
         "hovertemplate": "datetime=%{x}<br>vol_fiat=%{y}<br>risk_indicator_normalized=%{marker.color}<extra></extra>",
         "legendgroup": "",
         "marker": {
          "color": [
           -1.6584822565652213,
           -1.6584822565652213,
           -1.6584822565652213,
           -1.6584822565652213,
           -1.6584822565652213,
           -1.6584822565652213,
           -1.6584822565652213,
           -1.6584822565652213,
           -1.6584822565652213,
           -1.6584822565652213,
           -1.6584822565652213,
           -1.6584822565652213,
           -1.6584822565652213,
           -1.6584822565652213,
           -1.6584822565652213,
           -1.6584822565652213,
           -1.6584822565652213,
           -1.6584822565652213,
           -1.6584822565652213,
           -1.6584822565652213,
           -1.6584822565652213,
           -1.6584822565652213,
           -1.6584822565652213,
           -1.6584822565652213,
           -1.6584822565652213,
           -1.6584822565652213,
           -1.6584822565652213,
           -1.6584822565652213,
           -1.6584822565652213,
           -1.6584822565652213,
           -1.637513846835395,
           -1.601072262823877,
           -1.5507653059157038,
           -1.4943726293602477,
           -1.4460141746067945,
           -1.4021001422534016,
           -1.3681688338567335,
           -1.3414841159883273,
           -1.2996468270906045,
           -1.2472420721848145,
           -1.19102931626054,
           -1.1315952154183944,
           -1.0848445620499756,
           -1.0389992539852733,
           -0.9772922196374962,
           -0.903038592338647,
           -0.8336131543180705,
           -0.766089324245151,
           -0.7018710572578919,
           -0.6277743819990093,
           -0.5671593127585693,
           -0.4589370531023258,
           -0.3695959324492666,
           -0.2600376664040309,
           -0.15375433865616867,
           -0.03772754311007017,
           0.10293689461241726,
           0.2454771006174438,
           0.3853941021008167,
           0.5418934694166261,
           0.6738853499062663,
           0.7842360323484102,
           0.9116868309499616,
           0.997681236458103,
           1.0854461375390458,
           1.1570650760206342,
           1.2419598602243662,
           1.2618698007090448,
           1.2941339721933727,
           1.2980778707098797,
           1.2876539583969047,
           1.264668140738712,
           1.2967552626657612,
           1.324269720891801,
           1.3504299892608003,
           1.3547337290396706,
           1.3276566310713465,
           1.2892435763138945,
           1.2559496463234345,
           1.2334854070907444,
           1.2054493704392033,
           1.1453223837620776,
           1.1122236867969464,
           1.0438854287605335,
           0.9745671774989609,
           0.9134975215573942,
           0.809704371907068,
           0.6980846748003043,
           0.5920635718021454,
           0.4572953628494199,
           0.326887698709985,
           0.20586868773737102,
           0.06397270804099632,
           -0.039130822475136086,
           -0.13760127486679444,
           -0.2213037838531223,
           -0.30846290375769714,
           -0.3310874377395055,
           -0.3828527341113819,
           -0.40755960417519854,
           -0.44126725161820857,
           -0.46195396518137033,
           -0.5194736592934299,
           -0.5763080327528013,
           -0.6573133355771676,
           -0.7268964496574353,
           -0.7602474152340349,
           -0.7770149726016566,
           -0.7951298217054382,
           -0.8289914907893352,
           -0.8627437597880063,
           -0.9026751858867837,
           -0.9498616551668561,
           -0.9783246910986475,
           -1.0093444504814515,
           -1.042159578670257,
           -1.063270682687205,
           -1.0898184066358023,
           -1.121037609456273,
           -1.1435412202319168,
           -1.1569032185376031,
           -1.174209748023421,
           -1.2034333136579234,
           -1.2337400142293131,
           -1.267383166081224,
           -1.2937544337723121,
           -1.32266825086993,
           -1.3440758693476846,
           -1.3610669675389062,
           -1.3850699587276207,
           -1.3672186443180618,
           -1.347533808391301,
           -1.3323733075390565,
           -1.3130563749424282,
           -1.2749685019171835,
           -1.2334745199666217,
           -1.1980257807819863,
           -1.1708066050544745,
           -1.1452724304021749,
           -1.120695097491175,
           -1.0788179873156967,
           -1.0277877466563408,
           -0.9834328183703778,
           -0.9456888214201601,
           -0.8857296624810533,
           -0.8310579307602423,
           -0.7615363299577208,
           -0.6586425065047913,
           -0.5643394385562809,
           -0.45190712867764454,
           -0.35022342084530667,
           -0.24135175254241018,
           -0.12231653675200416,
           -0.004380114573317241,
           0.11474097227244998,
           0.2312241897523558,
           0.33975972779380426,
           0.41517326852646286,
           0.5063193256494982,
           0.5985227713317155,
           0.6733846324870009,
           0.7354971168156812,
           0.8066140382174438,
           0.8770651346305668,
           0.9453702972192958,
           1.0087373886624738,
           1.0492458479959375,
           1.0940479421290463,
           1.1344196296900202,
           1.1766243725166463,
           1.2111057081153134,
           1.2549668444158912,
           1.3179760430536747,
           1.3801434531806342,
           1.4289519936883264,
           1.469494412520129,
           1.502152067498162,
           1.5107122160763393,
           1.5118553639257326,
           1.500007647817942,
           1.4828167339038762,
           1.4561603908388363,
           1.444833487286563,
           1.4226082865374776,
           1.398176643754413,
           1.3726392737001718,
           1.3670078768429323,
           1.3649877040438818,
           1.3539183860879935,
           1.3339198211931356,
           1.2916181571144048,
           1.2389166740625799,
           1.1791812905166725,
           1.1290478734136715,
           1.0878533627467086,
           1.0347643287332755,
           0.9953366338185844,
           0.9527675477810522,
           0.9096338022358972,
           0.8663382441070766,
           0.8213311087802614,
           0.7707451533378028,
           0.7085447916310922,
           0.6561831773422586,
           0.5922981461145134,
           0.5345308831294115,
           0.479193432396606,
           0.4228382419525776,
           0.4005266703982764,
           0.3719461028330615,
           0.34995421976174856,
           0.3328995721834997,
           0.3158958768179265,
           0.28950051800239107,
           0.27354672814912223,
           0.2547173596520049,
           0.22843594023473732,
           0.20201622219389828,
           0.18550424183677305,
           0.16233657770542279,
           0.15575170994640236,
           0.18296746366372799,
           0.22121334396231765,
           0.237058755328182,
           0.25700940563497726,
           0.2869961073802491,
           0.3243066435067225,
           0.34959692290227073,
           0.3758060417571479,
           0.42314847767542046,
           0.47416076363990795,
           0.5124287973553456,
           0.5323334096029515,
           0.5461981659102096,
           0.5730646545863572,
           0.603576330963784,
           0.6261772213056299,
           0.6483514105019231,
           0.6682102621434287,
           0.695671192741202,
           0.728169203443633,
           0.7665113691924306,
           0.7930596240118344,
           0.83073182812704,
           0.8598703432032124,
           0.8790416271407738,
           0.890298439096615,
           0.9006591891086093,
           0.8981270423544674,
           0.9070960291328458,
           0.9011978987110465,
           0.890593135019843,
           0.8892963756932012,
           0.8890394289320608,
           0.8695567330878963,
           0.8642227074972672,
           0.8466304566308461,
           0.8455470149225328,
           0.8377677390506402,
           0.8139609041208986,
           0.7880650285716386,
           0.7757448916947295,
           0.7784297916115129,
           0.777935009708261,
           0.7637695535092828,
           0.7394012875915245,
           0.7153112297015789,
           0.6964092802707202,
           0.6712623672009371,
           0.6417918600248125,
           0.6051655775871397,
           0.5587286216793942,
           0.5097046018083469,
           0.46415303028225735,
           0.420674598944139,
           0.3698009546710539,
           0.3260720301394288,
           0.28847482820214165,
           0.26295536907375155,
           0.2324718740970625,
           0.2186547497250531,
           0.18044511531893026,
           0.1331977604154138,
           0.10179256471937884,
           0.07825130282226714,
           0.042892625498316836,
           0.008388707667847687,
           -0.034648873769465106,
           -0.05504846597435571,
           -0.08064664240189498,
           -0.12301769848329405,
           -0.17565393388263914,
           -0.2286290213408091,
           -0.27978747863900594,
           -0.3242012346013622,
           -0.35262631572270164,
           -0.37568223131528583,
           -0.4004033161365414,
           -0.4410454769224139,
           -0.48443318739047597
          ],
          "coloraxis": "coloraxis",
          "symbol": "circle"
         },
         "mode": "markers",
         "name": "",
         "orientation": "v",
         "showlegend": false,
         "type": "scatter",
         "x": [
          "2021-03-13T00:00:00",
          "2021-03-14T00:00:00",
          "2021-03-15T00:00:00",
          "2021-03-16T00:00:00",
          "2021-03-17T00:00:00",
          "2021-03-18T00:00:00",
          "2021-03-19T00:00:00",
          "2021-03-20T00:00:00",
          "2021-03-21T00:00:00",
          "2021-03-22T00:00:00",
          "2021-03-23T00:00:00",
          "2021-03-24T00:00:00",
          "2021-03-25T00:00:00",
          "2021-03-26T00:00:00",
          "2021-03-27T00:00:00",
          "2021-03-28T00:00:00",
          "2021-03-29T00:00:00",
          "2021-03-30T00:00:00",
          "2021-03-31T00:00:00",
          "2021-04-01T00:00:00",
          "2021-04-02T00:00:00",
          "2021-04-03T00:00:00",
          "2021-04-04T00:00:00",
          "2021-04-05T00:00:00",
          "2021-04-06T00:00:00",
          "2021-04-07T00:00:00",
          "2021-04-08T00:00:00",
          "2021-04-09T00:00:00",
          "2021-04-10T00:00:00",
          "2021-04-11T00:00:00",
          "2021-04-12T00:00:00",
          "2021-04-13T00:00:00",
          "2021-04-14T00:00:00",
          "2021-04-15T00:00:00",
          "2021-04-16T00:00:00",
          "2021-04-17T00:00:00",
          "2021-04-18T00:00:00",
          "2021-04-19T00:00:00",
          "2021-04-20T00:00:00",
          "2021-04-21T00:00:00",
          "2021-04-22T00:00:00",
          "2021-04-23T00:00:00",
          "2021-04-24T00:00:00",
          "2021-04-25T00:00:00",
          "2021-04-26T00:00:00",
          "2021-04-27T00:00:00",
          "2021-04-28T00:00:00",
          "2021-04-29T00:00:00",
          "2021-04-30T00:00:00",
          "2021-05-01T00:00:00",
          "2021-05-02T00:00:00",
          "2021-05-03T00:00:00",
          "2021-05-04T00:00:00",
          "2021-05-05T00:00:00",
          "2021-05-06T00:00:00",
          "2021-05-07T00:00:00",
          "2021-05-08T00:00:00",
          "2021-05-09T00:00:00",
          "2021-05-10T00:00:00",
          "2021-05-11T00:00:00",
          "2021-05-12T00:00:00",
          "2021-05-13T00:00:00",
          "2021-05-14T00:00:00",
          "2021-05-15T00:00:00",
          "2021-05-16T00:00:00",
          "2021-05-17T00:00:00",
          "2021-05-18T00:00:00",
          "2021-05-19T00:00:00",
          "2021-05-20T00:00:00",
          "2021-05-21T00:00:00",
          "2021-05-22T00:00:00",
          "2021-05-23T00:00:00",
          "2021-05-24T00:00:00",
          "2021-05-25T00:00:00",
          "2021-05-26T00:00:00",
          "2021-05-27T00:00:00",
          "2021-05-28T00:00:00",
          "2021-05-29T00:00:00",
          "2021-05-30T00:00:00",
          "2021-05-31T00:00:00",
          "2021-06-01T00:00:00",
          "2021-06-02T00:00:00",
          "2021-06-03T00:00:00",
          "2021-06-04T00:00:00",
          "2021-06-05T00:00:00",
          "2021-06-06T00:00:00",
          "2021-06-07T00:00:00",
          "2021-06-08T00:00:00",
          "2021-06-09T00:00:00",
          "2021-06-10T00:00:00",
          "2021-06-11T00:00:00",
          "2021-06-12T00:00:00",
          "2021-06-13T00:00:00",
          "2021-06-14T00:00:00",
          "2021-06-15T00:00:00",
          "2021-06-16T00:00:00",
          "2021-06-17T00:00:00",
          "2021-06-18T00:00:00",
          "2021-06-19T00:00:00",
          "2021-06-20T00:00:00",
          "2021-06-21T00:00:00",
          "2021-06-22T00:00:00",
          "2021-06-23T00:00:00",
          "2021-06-24T00:00:00",
          "2021-06-25T00:00:00",
          "2021-06-26T00:00:00",
          "2021-06-27T00:00:00",
          "2021-06-28T00:00:00",
          "2021-06-29T00:00:00",
          "2021-06-30T00:00:00",
          "2021-07-01T00:00:00",
          "2021-07-02T00:00:00",
          "2021-07-03T00:00:00",
          "2021-07-04T00:00:00",
          "2021-07-05T00:00:00",
          "2021-07-06T00:00:00",
          "2021-07-07T00:00:00",
          "2021-07-08T00:00:00",
          "2021-07-09T00:00:00",
          "2021-07-10T00:00:00",
          "2021-07-11T00:00:00",
          "2021-07-12T00:00:00",
          "2021-07-13T00:00:00",
          "2021-07-14T00:00:00",
          "2021-07-15T00:00:00",
          "2021-07-16T00:00:00",
          "2021-07-17T00:00:00",
          "2021-07-18T00:00:00",
          "2021-07-19T00:00:00",
          "2021-07-20T00:00:00",
          "2021-07-21T00:00:00",
          "2021-07-22T00:00:00",
          "2021-07-23T00:00:00",
          "2021-07-24T00:00:00",
          "2021-07-25T00:00:00",
          "2021-07-26T00:00:00",
          "2021-07-27T00:00:00",
          "2021-07-28T00:00:00",
          "2021-07-29T00:00:00",
          "2021-07-30T00:00:00",
          "2021-07-31T00:00:00",
          "2021-08-01T00:00:00",
          "2021-08-02T00:00:00",
          "2021-08-03T00:00:00",
          "2021-08-04T00:00:00",
          "2021-08-05T00:00:00",
          "2021-08-06T00:00:00",
          "2021-08-07T00:00:00",
          "2021-08-08T00:00:00",
          "2021-08-09T00:00:00",
          "2021-08-10T00:00:00",
          "2021-08-11T00:00:00",
          "2021-08-12T00:00:00",
          "2021-08-13T00:00:00",
          "2021-08-14T00:00:00",
          "2021-08-15T00:00:00",
          "2021-08-16T00:00:00",
          "2021-08-17T00:00:00",
          "2021-08-18T00:00:00",
          "2021-08-19T00:00:00",
          "2021-08-20T00:00:00",
          "2021-08-21T00:00:00",
          "2021-08-22T00:00:00",
          "2021-08-23T00:00:00",
          "2021-08-24T00:00:00",
          "2021-08-25T00:00:00",
          "2021-08-26T00:00:00",
          "2021-08-27T00:00:00",
          "2021-08-28T00:00:00",
          "2021-08-29T00:00:00",
          "2021-08-30T00:00:00",
          "2021-08-31T00:00:00",
          "2021-09-01T00:00:00",
          "2021-09-02T00:00:00",
          "2021-09-03T00:00:00",
          "2021-09-04T00:00:00",
          "2021-09-05T00:00:00",
          "2021-09-06T00:00:00",
          "2021-09-07T00:00:00",
          "2021-09-08T00:00:00",
          "2021-09-09T00:00:00",
          "2021-09-10T00:00:00",
          "2021-09-11T00:00:00",
          "2021-09-12T00:00:00",
          "2021-09-13T00:00:00",
          "2021-09-14T00:00:00",
          "2021-09-15T00:00:00",
          "2021-09-16T00:00:00",
          "2021-09-17T00:00:00",
          "2021-09-18T00:00:00",
          "2021-09-19T00:00:00",
          "2021-09-20T00:00:00",
          "2021-09-21T00:00:00",
          "2021-09-22T00:00:00",
          "2021-09-23T00:00:00",
          "2021-09-24T00:00:00",
          "2021-09-25T00:00:00",
          "2021-09-26T00:00:00",
          "2021-09-27T00:00:00",
          "2021-09-28T00:00:00",
          "2021-09-29T00:00:00",
          "2021-09-30T00:00:00",
          "2021-10-01T00:00:00",
          "2021-10-02T00:00:00",
          "2021-10-03T00:00:00",
          "2021-10-04T00:00:00",
          "2021-10-05T00:00:00",
          "2021-10-06T00:00:00",
          "2021-10-07T00:00:00",
          "2021-10-08T00:00:00",
          "2021-10-09T00:00:00",
          "2021-10-10T00:00:00",
          "2021-10-11T00:00:00",
          "2021-10-12T00:00:00",
          "2021-10-13T00:00:00",
          "2021-10-14T00:00:00",
          "2021-10-15T00:00:00",
          "2021-10-16T00:00:00",
          "2021-10-17T00:00:00",
          "2021-10-18T00:00:00",
          "2021-10-19T00:00:00",
          "2021-10-20T00:00:00",
          "2021-10-21T00:00:00",
          "2021-10-22T00:00:00",
          "2021-10-23T00:00:00",
          "2021-10-24T00:00:00",
          "2021-10-25T00:00:00",
          "2021-10-26T00:00:00",
          "2021-10-27T00:00:00",
          "2021-10-28T00:00:00",
          "2021-10-29T00:00:00",
          "2021-10-30T00:00:00",
          "2021-10-31T00:00:00",
          "2021-11-01T00:00:00",
          "2021-11-02T00:00:00",
          "2021-11-03T00:00:00",
          "2021-11-04T00:00:00",
          "2021-11-05T00:00:00",
          "2021-11-06T00:00:00",
          "2021-11-07T00:00:00",
          "2021-11-08T00:00:00",
          "2021-11-09T00:00:00",
          "2021-11-10T00:00:00",
          "2021-11-11T00:00:00",
          "2021-11-12T00:00:00",
          "2021-11-13T00:00:00",
          "2021-11-14T00:00:00",
          "2021-11-15T00:00:00",
          "2021-11-16T00:00:00",
          "2021-11-17T00:00:00",
          "2021-11-18T00:00:00",
          "2021-11-19T00:00:00",
          "2021-11-20T00:00:00",
          "2021-11-21T00:00:00",
          "2021-11-22T00:00:00",
          "2021-11-23T00:00:00",
          "2021-11-24T00:00:00",
          "2021-11-25T00:00:00",
          "2021-11-26T00:00:00",
          "2021-11-27T00:00:00",
          "2021-11-28T00:00:00",
          "2021-11-29T00:00:00",
          "2021-11-30T00:00:00",
          "2021-12-01T00:00:00",
          "2021-12-02T00:00:00",
          "2021-12-03T00:00:00",
          "2021-12-04T00:00:00",
          "2021-12-05T00:00:00",
          "2021-12-06T00:00:00",
          "2021-12-07T00:00:00",
          "2021-12-08T00:00:00",
          "2021-12-09T00:00:00",
          "2021-12-10T00:00:00",
          "2021-12-11T00:00:00",
          "2021-12-12T00:00:00",
          "2021-12-13T00:00:00",
          "2021-12-14T00:00:00",
          "2021-12-15T00:00:00",
          "2021-12-16T00:00:00",
          "2021-12-17T00:00:00",
          "2021-12-18T00:00:00",
          "2021-12-19T00:00:00",
          "2021-12-20T00:00:00",
          "2021-12-21T00:00:00",
          "2021-12-22T00:00:00",
          "2021-12-23T00:00:00",
          "2021-12-24T00:00:00",
          "2021-12-25T00:00:00",
          "2021-12-26T00:00:00",
          "2021-12-27T00:00:00",
          "2021-12-28T00:00:00",
          "2021-12-29T00:00:00",
          "2021-12-30T00:00:00",
          "2021-12-31T00:00:00",
          "2022-01-01T00:00:00",
          "2022-01-02T00:00:00",
          "2022-01-03T00:00:00",
          "2022-01-04T00:00:00",
          "2022-01-05T00:00:00",
          "2022-01-06T00:00:00"
         ],
         "xaxis": "x",
         "y": [
          41553446.116384074,
          25151293.425501056,
          49209018.18204003,
          32720318.63961816,
          26805684.00019029,
          25728580.940137953,
          22337844.983599927,
          19868594.296399765,
          27895710.7448536,
          36003189.0109808,
          30880111.618232418,
          36890764.45897608,
          42478921.106871456,
          17658366.799401265,
          13640921.750964414,
          11447350.141727127,
          31516804.076243438,
          19106164.957136106,
          42078791.52236699,
          28028383.834250785,
          39647448.17516494,
          28009722.91918776,
          18191250.270768195,
          22873977.02251348,
          31833389.77319622,
          47819843.20977427,
          21532193.624480285,
          15507054.209093895,
          28580326.388956092,
          14391308.951767085,
          27588867.58324331,
          45054010.77469336,
          63902190.26774115,
          38488505.08567939,
          68175348.54387307,
          34698528.19280492,
          120447367.48413888,
          60396098.75646401,
          60240679.31728317,
          55827760.32729968,
          109601326.17716563,
          147239392.76109558,
          40626911.073707044,
          45057525.89730921,
          63759918.39122362,
          52857172.25938392,
          65153562.59145415,
          51832672.82830779,
          41579403.86925,
          63279113.85748875,
          47104130.82125576,
          151350407.16164067,
          217149884.726204,
          128540572.94946587,
          96430224.60057274,
          68404046.51470615,
          120754314.3986247,
          97775813.49832429,
          202447935.41968927,
          140038644.6064632,
          172285610.7111152,
          234970520.47742018,
          114609134.05352767,
          116690885.41186534,
          158289730.6247515,
          197148629.47402653,
          135782180.02959597,
          359682818.87205017,
          240587800.80473587,
          172868700.4441916,
          121803638.1110915,
          184251436.3099989,
          206690154.66386262,
          208409019.8477537,
          149929318.08349487,
          85630269.33817026,
          208915643.5084519,
          126342369.25261879,
          60858590.1931486,
          91290109.43411198,
          59748576.76548275,
          42721616.070721485,
          54340149.36630254,
          65873737.650738254,
          41943841.23741873,
          26431501.32257242,
          46168816.01991251,
          101531399.75313674,
          53101686.605925635,
          27809497.698978767,
          22477567.544695448,
          28359862.170716964,
          29531066.34040449,
          24868993.28473129,
          23004751.706520647,
          28173941.117058847,
          20834969.17201655,
          29675154.160908226,
          14743337.973412864,
          42039967.99798703,
          88814091.35470933,
          80346976.63780725,
          35071237.31467288,
          17854360.248454623,
          28564107.1632712,
          28122713.30706451,
          15990550.352143044,
          32445247.628316082,
          25077556.15702647,
          34563736.42927924,
          31124831.62812502,
          28081721.42681416,
          17102570.73949923,
          25695451.149853684,
          27941738.299025457,
          34292216.285367176,
          31130125.182744462,
          39574932.22439611,
          33168385.93682674,
          17572043.748600453,
          11509601.441919642,
          22677920.50067228,
          25201612.066212293,
          28846129.683523584,
          25493607.345456522,
          22333471.455081202,
          13482979.517094966,
          17442170.37460968,
          28962432.880331844,
          32139951.268587053,
          43042635.02994888,
          30062497.51580991,
          33374475.40746599,
          28619115.678665675,
          23709342.31442775,
          90041388.18713248,
          55129498.39089192,
          49892596.74842272,
          25124145.32247367,
          58105193.78339739,
          35762940.30255686,
          56325838.23431442,
          59133218.20543448,
          52565261.819222465,
          62515174.345844656,
          105284570.1535906,
          63676893.78797691,
          116058759.90092005,
          98440747.65853406,
          101698811.78499553,
          73909163.60268097,
          51477942.91454773,
          112370531.7030712,
          55506713.91862751,
          36369243.99127913,
          44693642.76986602,
          47172905.90271621,
          70197033.37338443,
          46823256.74940496,
          48471203.090897694,
          44028243.970024414,
          27799538.53051223,
          30374486.027266428,
          49040853.980772324,
          49856261.743879154,
          40339187.57144227,
          39422255.19873052,
          39722796.71226519,
          18997154.260327086,
          24987522.205748063,
          42633049.64592475,
          65125893.35630009,
          99991541.49616984,
          70227627.4037459,
          83622828.2802716,
          53841131.93464047,
          44724940.49827463,
          46802937.64018174,
          197669331.79653388,
          156593673.21273482,
          98451888.58372055,
          63207776.897391245,
          62011994.918188974,
          56686051.634776026,
          72070336.61710504,
          37327810.70934535,
          44410383.04702721,
          50735377.99875037,
          37254166.66971297,
          27106465.861264814,
          24629253.241499297,
          114913852.04945633,
          100425632.91096371,
          83388713.52002709,
          57564483.08564975,
          108677776.99526846,
          39255902.36970364,
          51954511.580315314,
          44402888.11657324,
          40301188.15078604,
          26436843.51577394,
          42778933.15318487,
          56264205.880578,
          35935642.50028291,
          31324913.338291597,
          46472532.12605793,
          41080711.079998866,
          76329243.38564892,
          49372552.43459915,
          39581008.76518394,
          27929349.152501356,
          25619311.883986387,
          39093388.22313523,
          43790411.66412958,
          42276543.83347167,
          61982342.7525407,
          57339580.25642261,
          32112476.786046878,
          31529902.39156627,
          49367344.585166566,
          46762028.92477661,
          73087242.6081251,
          104714308.68030089,
          53715873.60545843,
          35659931.46024061,
          35882519.71056681,
          42600574.89176235,
          44399490.99192847,
          73339941.87426543,
          66139113.20547248,
          77988435.08342917,
          37028249.7032155,
          35669684.59734584,
          46763939.66121914,
          62208997.22831142,
          56751101.76199531,
          37842768.915700324,
          29335287.674377624,
          29024890.487432517,
          26701784.815089334,
          44065396.2247688,
          40750773.03160691,
          73631915.65291215,
          34284527.65173285,
          47572453.570812926,
          24108509.376523975,
          31570401.179120302,
          36002773.97253932,
          112144984.83050467,
          47828113.04191342,
          64397973.53138373,
          50372054.31228299,
          27317587.717621725,
          22839932.399926927,
          47501900.55529285,
          45462447.200720444,
          44593068.80663599,
          44303167.16271553,
          96007577.14152245,
          27376896.357832465,
          34902784.301109016,
          44380891.730273716,
          79279359.82902777,
          63670946.25215127,
          42816239.11571786,
          69588875.79446395,
          153416824.64217132,
          55509933.37721978,
          79826608.45974767,
          47198059.440138586,
          47430180.043593444,
          60393313.90165655,
          61233806.49238663,
          34929405.87463574,
          24142415.72631374,
          63080747.115068644,
          47531534.531121984,
          69707635.21693957,
          44008540.54929696,
          58386975.51166024,
          29683359.12034256,
          30893493.755090393,
          49478891.194070086,
          33624604.70854218,
          26614299.134996653,
          38991388.308784366,
          21891417.38800036,
          18511651.08903373,
          20347836.6862678,
          25514558.60949714,
          48967428.50712921,
          38843835.92032549,
          35338556.43373136,
          41311007.253611945,
          16898751.57472855,
          20347442.1255576,
          28278552.99527371,
          34607360.81440367,
          61210994.134665124,
          56681099.63225867
         ],
         "yaxis": "y"
        }
       ],
       "layout": {
        "coloraxis": {
         "colorbar": {
          "title": {
           "text": "risk_indicator_normalized"
          }
         },
         "colorscale": [
          [
           0,
           "rgb(5,48,97)"
          ],
          [
           0.1,
           "rgb(33,102,172)"
          ],
          [
           0.2,
           "rgb(67,147,195)"
          ],
          [
           0.3,
           "rgb(146,197,222)"
          ],
          [
           0.4,
           "rgb(209,229,240)"
          ],
          [
           0.5,
           "rgb(247,247,247)"
          ],
          [
           0.6,
           "rgb(253,219,199)"
          ],
          [
           0.7,
           "rgb(244,165,130)"
          ],
          [
           0.8,
           "rgb(214,96,77)"
          ],
          [
           0.9,
           "rgb(178,24,43)"
          ],
          [
           1,
           "rgb(103,0,31)"
          ]
         ]
        },
        "legend": {
         "tracegroupgap": 0
        },
        "margin": {
         "t": 60
        },
        "template": {
         "data": {
          "bar": [
           {
            "error_x": {
             "color": "#2a3f5f"
            },
            "error_y": {
             "color": "#2a3f5f"
            },
            "marker": {
             "line": {
              "color": "#E5ECF6",
              "width": 0.5
             },
             "pattern": {
              "fillmode": "overlay",
              "size": 10,
              "solidity": 0.2
             }
            },
            "type": "bar"
           }
          ],
          "barpolar": [
           {
            "marker": {
             "line": {
              "color": "#E5ECF6",
              "width": 0.5
             },
             "pattern": {
              "fillmode": "overlay",
              "size": 10,
              "solidity": 0.2
             }
            },
            "type": "barpolar"
           }
          ],
          "carpet": [
           {
            "aaxis": {
             "endlinecolor": "#2a3f5f",
             "gridcolor": "white",
             "linecolor": "white",
             "minorgridcolor": "white",
             "startlinecolor": "#2a3f5f"
            },
            "baxis": {
             "endlinecolor": "#2a3f5f",
             "gridcolor": "white",
             "linecolor": "white",
             "minorgridcolor": "white",
             "startlinecolor": "#2a3f5f"
            },
            "type": "carpet"
           }
          ],
          "choropleth": [
           {
            "colorbar": {
             "outlinewidth": 0,
             "ticks": ""
            },
            "type": "choropleth"
           }
          ],
          "contour": [
           {
            "colorbar": {
             "outlinewidth": 0,
             "ticks": ""
            },
            "colorscale": [
             [
              0,
              "#0d0887"
             ],
             [
              0.1111111111111111,
              "#46039f"
             ],
             [
              0.2222222222222222,
              "#7201a8"
             ],
             [
              0.3333333333333333,
              "#9c179e"
             ],
             [
              0.4444444444444444,
              "#bd3786"
             ],
             [
              0.5555555555555556,
              "#d8576b"
             ],
             [
              0.6666666666666666,
              "#ed7953"
             ],
             [
              0.7777777777777778,
              "#fb9f3a"
             ],
             [
              0.8888888888888888,
              "#fdca26"
             ],
             [
              1,
              "#f0f921"
             ]
            ],
            "type": "contour"
           }
          ],
          "contourcarpet": [
           {
            "colorbar": {
             "outlinewidth": 0,
             "ticks": ""
            },
            "type": "contourcarpet"
           }
          ],
          "heatmap": [
           {
            "colorbar": {
             "outlinewidth": 0,
             "ticks": ""
            },
            "colorscale": [
             [
              0,
              "#0d0887"
             ],
             [
              0.1111111111111111,
              "#46039f"
             ],
             [
              0.2222222222222222,
              "#7201a8"
             ],
             [
              0.3333333333333333,
              "#9c179e"
             ],
             [
              0.4444444444444444,
              "#bd3786"
             ],
             [
              0.5555555555555556,
              "#d8576b"
             ],
             [
              0.6666666666666666,
              "#ed7953"
             ],
             [
              0.7777777777777778,
              "#fb9f3a"
             ],
             [
              0.8888888888888888,
              "#fdca26"
             ],
             [
              1,
              "#f0f921"
             ]
            ],
            "type": "heatmap"
           }
          ],
          "heatmapgl": [
           {
            "colorbar": {
             "outlinewidth": 0,
             "ticks": ""
            },
            "colorscale": [
             [
              0,
              "#0d0887"
             ],
             [
              0.1111111111111111,
              "#46039f"
             ],
             [
              0.2222222222222222,
              "#7201a8"
             ],
             [
              0.3333333333333333,
              "#9c179e"
             ],
             [
              0.4444444444444444,
              "#bd3786"
             ],
             [
              0.5555555555555556,
              "#d8576b"
             ],
             [
              0.6666666666666666,
              "#ed7953"
             ],
             [
              0.7777777777777778,
              "#fb9f3a"
             ],
             [
              0.8888888888888888,
              "#fdca26"
             ],
             [
              1,
              "#f0f921"
             ]
            ],
            "type": "heatmapgl"
           }
          ],
          "histogram": [
           {
            "marker": {
             "pattern": {
              "fillmode": "overlay",
              "size": 10,
              "solidity": 0.2
             }
            },
            "type": "histogram"
           }
          ],
          "histogram2d": [
           {
            "colorbar": {
             "outlinewidth": 0,
             "ticks": ""
            },
            "colorscale": [
             [
              0,
              "#0d0887"
             ],
             [
              0.1111111111111111,
              "#46039f"
             ],
             [
              0.2222222222222222,
              "#7201a8"
             ],
             [
              0.3333333333333333,
              "#9c179e"
             ],
             [
              0.4444444444444444,
              "#bd3786"
             ],
             [
              0.5555555555555556,
              "#d8576b"
             ],
             [
              0.6666666666666666,
              "#ed7953"
             ],
             [
              0.7777777777777778,
              "#fb9f3a"
             ],
             [
              0.8888888888888888,
              "#fdca26"
             ],
             [
              1,
              "#f0f921"
             ]
            ],
            "type": "histogram2d"
           }
          ],
          "histogram2dcontour": [
           {
            "colorbar": {
             "outlinewidth": 0,
             "ticks": ""
            },
            "colorscale": [
             [
              0,
              "#0d0887"
             ],
             [
              0.1111111111111111,
              "#46039f"
             ],
             [
              0.2222222222222222,
              "#7201a8"
             ],
             [
              0.3333333333333333,
              "#9c179e"
             ],
             [
              0.4444444444444444,
              "#bd3786"
             ],
             [
              0.5555555555555556,
              "#d8576b"
             ],
             [
              0.6666666666666666,
              "#ed7953"
             ],
             [
              0.7777777777777778,
              "#fb9f3a"
             ],
             [
              0.8888888888888888,
              "#fdca26"
             ],
             [
              1,
              "#f0f921"
             ]
            ],
            "type": "histogram2dcontour"
           }
          ],
          "mesh3d": [
           {
            "colorbar": {
             "outlinewidth": 0,
             "ticks": ""
            },
            "type": "mesh3d"
           }
          ],
          "parcoords": [
           {
            "line": {
             "colorbar": {
              "outlinewidth": 0,
              "ticks": ""
             }
            },
            "type": "parcoords"
           }
          ],
          "pie": [
           {
            "automargin": true,
            "type": "pie"
           }
          ],
          "scatter": [
           {
            "marker": {
             "colorbar": {
              "outlinewidth": 0,
              "ticks": ""
             }
            },
            "type": "scatter"
           }
          ],
          "scatter3d": [
           {
            "line": {
             "colorbar": {
              "outlinewidth": 0,
              "ticks": ""
             }
            },
            "marker": {
             "colorbar": {
              "outlinewidth": 0,
              "ticks": ""
             }
            },
            "type": "scatter3d"
           }
          ],
          "scattercarpet": [
           {
            "marker": {
             "colorbar": {
              "outlinewidth": 0,
              "ticks": ""
             }
            },
            "type": "scattercarpet"
           }
          ],
          "scattergeo": [
           {
            "marker": {
             "colorbar": {
              "outlinewidth": 0,
              "ticks": ""
             }
            },
            "type": "scattergeo"
           }
          ],
          "scattergl": [
           {
            "marker": {
             "colorbar": {
              "outlinewidth": 0,
              "ticks": ""
             }
            },
            "type": "scattergl"
           }
          ],
          "scattermapbox": [
           {
            "marker": {
             "colorbar": {
              "outlinewidth": 0,
              "ticks": ""
             }
            },
            "type": "scattermapbox"
           }
          ],
          "scatterpolar": [
           {
            "marker": {
             "colorbar": {
              "outlinewidth": 0,
              "ticks": ""
             }
            },
            "type": "scatterpolar"
           }
          ],
          "scatterpolargl": [
           {
            "marker": {
             "colorbar": {
              "outlinewidth": 0,
              "ticks": ""
             }
            },
            "type": "scatterpolargl"
           }
          ],
          "scatterternary": [
           {
            "marker": {
             "colorbar": {
              "outlinewidth": 0,
              "ticks": ""
             }
            },
            "type": "scatterternary"
           }
          ],
          "surface": [
           {
            "colorbar": {
             "outlinewidth": 0,
             "ticks": ""
            },
            "colorscale": [
             [
              0,
              "#0d0887"
             ],
             [
              0.1111111111111111,
              "#46039f"
             ],
             [
              0.2222222222222222,
              "#7201a8"
             ],
             [
              0.3333333333333333,
              "#9c179e"
             ],
             [
              0.4444444444444444,
              "#bd3786"
             ],
             [
              0.5555555555555556,
              "#d8576b"
             ],
             [
              0.6666666666666666,
              "#ed7953"
             ],
             [
              0.7777777777777778,
              "#fb9f3a"
             ],
             [
              0.8888888888888888,
              "#fdca26"
             ],
             [
              1,
              "#f0f921"
             ]
            ],
            "type": "surface"
           }
          ],
          "table": [
           {
            "cells": {
             "fill": {
              "color": "#EBF0F8"
             },
             "line": {
              "color": "white"
             }
            },
            "header": {
             "fill": {
              "color": "#C8D4E3"
             },
             "line": {
              "color": "white"
             }
            },
            "type": "table"
           }
          ]
         },
         "layout": {
          "annotationdefaults": {
           "arrowcolor": "#2a3f5f",
           "arrowhead": 0,
           "arrowwidth": 1
          },
          "autotypenumbers": "strict",
          "coloraxis": {
           "colorbar": {
            "outlinewidth": 0,
            "ticks": ""
           }
          },
          "colorscale": {
           "diverging": [
            [
             0,
             "#8e0152"
            ],
            [
             0.1,
             "#c51b7d"
            ],
            [
             0.2,
             "#de77ae"
            ],
            [
             0.3,
             "#f1b6da"
            ],
            [
             0.4,
             "#fde0ef"
            ],
            [
             0.5,
             "#f7f7f7"
            ],
            [
             0.6,
             "#e6f5d0"
            ],
            [
             0.7,
             "#b8e186"
            ],
            [
             0.8,
             "#7fbc41"
            ],
            [
             0.9,
             "#4d9221"
            ],
            [
             1,
             "#276419"
            ]
           ],
           "sequential": [
            [
             0,
             "#0d0887"
            ],
            [
             0.1111111111111111,
             "#46039f"
            ],
            [
             0.2222222222222222,
             "#7201a8"
            ],
            [
             0.3333333333333333,
             "#9c179e"
            ],
            [
             0.4444444444444444,
             "#bd3786"
            ],
            [
             0.5555555555555556,
             "#d8576b"
            ],
            [
             0.6666666666666666,
             "#ed7953"
            ],
            [
             0.7777777777777778,
             "#fb9f3a"
            ],
            [
             0.8888888888888888,
             "#fdca26"
            ],
            [
             1,
             "#f0f921"
            ]
           ],
           "sequentialminus": [
            [
             0,
             "#0d0887"
            ],
            [
             0.1111111111111111,
             "#46039f"
            ],
            [
             0.2222222222222222,
             "#7201a8"
            ],
            [
             0.3333333333333333,
             "#9c179e"
            ],
            [
             0.4444444444444444,
             "#bd3786"
            ],
            [
             0.5555555555555556,
             "#d8576b"
            ],
            [
             0.6666666666666666,
             "#ed7953"
            ],
            [
             0.7777777777777778,
             "#fb9f3a"
            ],
            [
             0.8888888888888888,
             "#fdca26"
            ],
            [
             1,
             "#f0f921"
            ]
           ]
          },
          "colorway": [
           "#636efa",
           "#EF553B",
           "#00cc96",
           "#ab63fa",
           "#FFA15A",
           "#19d3f3",
           "#FF6692",
           "#B6E880",
           "#FF97FF",
           "#FECB52"
          ],
          "font": {
           "color": "#2a3f5f"
          },
          "geo": {
           "bgcolor": "white",
           "lakecolor": "white",
           "landcolor": "#E5ECF6",
           "showlakes": true,
           "showland": true,
           "subunitcolor": "white"
          },
          "hoverlabel": {
           "align": "left"
          },
          "hovermode": "closest",
          "mapbox": {
           "style": "light"
          },
          "paper_bgcolor": "white",
          "plot_bgcolor": "#E5ECF6",
          "polar": {
           "angularaxis": {
            "gridcolor": "white",
            "linecolor": "white",
            "ticks": ""
           },
           "bgcolor": "#E5ECF6",
           "radialaxis": {
            "gridcolor": "white",
            "linecolor": "white",
            "ticks": ""
           }
          },
          "scene": {
           "xaxis": {
            "backgroundcolor": "#E5ECF6",
            "gridcolor": "white",
            "gridwidth": 2,
            "linecolor": "white",
            "showbackground": true,
            "ticks": "",
            "zerolinecolor": "white"
           },
           "yaxis": {
            "backgroundcolor": "#E5ECF6",
            "gridcolor": "white",
            "gridwidth": 2,
            "linecolor": "white",
            "showbackground": true,
            "ticks": "",
            "zerolinecolor": "white"
           },
           "zaxis": {
            "backgroundcolor": "#E5ECF6",
            "gridcolor": "white",
            "gridwidth": 2,
            "linecolor": "white",
            "showbackground": true,
            "ticks": "",
            "zerolinecolor": "white"
           }
          },
          "shapedefaults": {
           "line": {
            "color": "#2a3f5f"
           }
          },
          "ternary": {
           "aaxis": {
            "gridcolor": "white",
            "linecolor": "white",
            "ticks": ""
           },
           "baxis": {
            "gridcolor": "white",
            "linecolor": "white",
            "ticks": ""
           },
           "bgcolor": "#E5ECF6",
           "caxis": {
            "gridcolor": "white",
            "linecolor": "white",
            "ticks": ""
           }
          },
          "title": {
           "x": 0.05
          },
          "xaxis": {
           "automargin": true,
           "gridcolor": "white",
           "linecolor": "white",
           "ticks": "",
           "title": {
            "standoff": 15
           },
           "zerolinecolor": "white",
           "zerolinewidth": 2
          },
          "yaxis": {
           "automargin": true,
           "gridcolor": "white",
           "linecolor": "white",
           "ticks": "",
           "title": {
            "standoff": 15
           },
           "zerolinecolor": "white",
           "zerolinewidth": 2
          }
         }
        },
        "xaxis": {
         "anchor": "y",
         "domain": [
          0,
          1
         ],
         "title": {
          "text": "datetime"
         }
        },
        "yaxis": {
         "anchor": "x",
         "domain": [
          0,
          1
         ],
         "title": {
          "text": "vol_fiat"
         }
        }
       }
      },
      "text/html": [
       "<div>                            <div id=\"adcd6b6a-a314-43bf-b02c-a4a9edda2d10\" class=\"plotly-graph-div\" style=\"height:525px; width:100%;\"></div>            <script type=\"text/javascript\">                require([\"plotly\"], function(Plotly) {                    window.PLOTLYENV=window.PLOTLYENV || {};                                    if (document.getElementById(\"adcd6b6a-a314-43bf-b02c-a4a9edda2d10\")) {                    Plotly.newPlot(                        \"adcd6b6a-a314-43bf-b02c-a4a9edda2d10\",                        [{\"hovertemplate\":\"datetime=%{x}<br>vol_fiat=%{y}<br>risk_indicator_normalized=%{marker.color}<extra></extra>\",\"legendgroup\":\"\",\"marker\":{\"color\":[-1.6584822565652213,-1.6584822565652213,-1.6584822565652213,-1.6584822565652213,-1.6584822565652213,-1.6584822565652213,-1.6584822565652213,-1.6584822565652213,-1.6584822565652213,-1.6584822565652213,-1.6584822565652213,-1.6584822565652213,-1.6584822565652213,-1.6584822565652213,-1.6584822565652213,-1.6584822565652213,-1.6584822565652213,-1.6584822565652213,-1.6584822565652213,-1.6584822565652213,-1.6584822565652213,-1.6584822565652213,-1.6584822565652213,-1.6584822565652213,-1.6584822565652213,-1.6584822565652213,-1.6584822565652213,-1.6584822565652213,-1.6584822565652213,-1.6584822565652213,-1.637513846835395,-1.601072262823877,-1.5507653059157038,-1.4943726293602477,-1.4460141746067945,-1.4021001422534016,-1.3681688338567335,-1.3414841159883273,-1.2996468270906045,-1.2472420721848145,-1.19102931626054,-1.1315952154183944,-1.0848445620499756,-1.0389992539852733,-0.9772922196374962,-0.903038592338647,-0.8336131543180705,-0.766089324245151,-0.7018710572578919,-0.6277743819990093,-0.5671593127585693,-0.4589370531023258,-0.3695959324492666,-0.2600376664040309,-0.15375433865616867,-0.03772754311007017,0.10293689461241726,0.2454771006174438,0.3853941021008167,0.5418934694166261,0.6738853499062663,0.7842360323484102,0.9116868309499616,0.997681236458103,1.0854461375390458,1.1570650760206342,1.2419598602243662,1.2618698007090448,1.2941339721933727,1.2980778707098797,1.2876539583969047,1.264668140738712,1.2967552626657612,1.324269720891801,1.3504299892608003,1.3547337290396706,1.3276566310713465,1.2892435763138945,1.2559496463234345,1.2334854070907444,1.2054493704392033,1.1453223837620776,1.1122236867969464,1.0438854287605335,0.9745671774989609,0.9134975215573942,0.809704371907068,0.6980846748003043,0.5920635718021454,0.4572953628494199,0.326887698709985,0.20586868773737102,0.06397270804099632,-0.039130822475136086,-0.13760127486679444,-0.2213037838531223,-0.30846290375769714,-0.3310874377395055,-0.3828527341113819,-0.40755960417519854,-0.44126725161820857,-0.46195396518137033,-0.5194736592934299,-0.5763080327528013,-0.6573133355771676,-0.7268964496574353,-0.7602474152340349,-0.7770149726016566,-0.7951298217054382,-0.8289914907893352,-0.8627437597880063,-0.9026751858867837,-0.9498616551668561,-0.9783246910986475,-1.0093444504814515,-1.042159578670257,-1.063270682687205,-1.0898184066358023,-1.121037609456273,-1.1435412202319168,-1.1569032185376031,-1.174209748023421,-1.2034333136579234,-1.2337400142293131,-1.267383166081224,-1.2937544337723121,-1.32266825086993,-1.3440758693476846,-1.3610669675389062,-1.3850699587276207,-1.3672186443180618,-1.347533808391301,-1.3323733075390565,-1.3130563749424282,-1.2749685019171835,-1.2334745199666217,-1.1980257807819863,-1.1708066050544745,-1.1452724304021749,-1.120695097491175,-1.0788179873156967,-1.0277877466563408,-0.9834328183703778,-0.9456888214201601,-0.8857296624810533,-0.8310579307602423,-0.7615363299577208,-0.6586425065047913,-0.5643394385562809,-0.45190712867764454,-0.35022342084530667,-0.24135175254241018,-0.12231653675200416,-0.004380114573317241,0.11474097227244998,0.2312241897523558,0.33975972779380426,0.41517326852646286,0.5063193256494982,0.5985227713317155,0.6733846324870009,0.7354971168156812,0.8066140382174438,0.8770651346305668,0.9453702972192958,1.0087373886624738,1.0492458479959375,1.0940479421290463,1.1344196296900202,1.1766243725166463,1.2111057081153134,1.2549668444158912,1.3179760430536747,1.3801434531806342,1.4289519936883264,1.469494412520129,1.502152067498162,1.5107122160763393,1.5118553639257326,1.500007647817942,1.4828167339038762,1.4561603908388363,1.444833487286563,1.4226082865374776,1.398176643754413,1.3726392737001718,1.3670078768429323,1.3649877040438818,1.3539183860879935,1.3339198211931356,1.2916181571144048,1.2389166740625799,1.1791812905166725,1.1290478734136715,1.0878533627467086,1.0347643287332755,0.9953366338185844,0.9527675477810522,0.9096338022358972,0.8663382441070766,0.8213311087802614,0.7707451533378028,0.7085447916310922,0.6561831773422586,0.5922981461145134,0.5345308831294115,0.479193432396606,0.4228382419525776,0.4005266703982764,0.3719461028330615,0.34995421976174856,0.3328995721834997,0.3158958768179265,0.28950051800239107,0.27354672814912223,0.2547173596520049,0.22843594023473732,0.20201622219389828,0.18550424183677305,0.16233657770542279,0.15575170994640236,0.18296746366372799,0.22121334396231765,0.237058755328182,0.25700940563497726,0.2869961073802491,0.3243066435067225,0.34959692290227073,0.3758060417571479,0.42314847767542046,0.47416076363990795,0.5124287973553456,0.5323334096029515,0.5461981659102096,0.5730646545863572,0.603576330963784,0.6261772213056299,0.6483514105019231,0.6682102621434287,0.695671192741202,0.728169203443633,0.7665113691924306,0.7930596240118344,0.83073182812704,0.8598703432032124,0.8790416271407738,0.890298439096615,0.9006591891086093,0.8981270423544674,0.9070960291328458,0.9011978987110465,0.890593135019843,0.8892963756932012,0.8890394289320608,0.8695567330878963,0.8642227074972672,0.8466304566308461,0.8455470149225328,0.8377677390506402,0.8139609041208986,0.7880650285716386,0.7757448916947295,0.7784297916115129,0.777935009708261,0.7637695535092828,0.7394012875915245,0.7153112297015789,0.6964092802707202,0.6712623672009371,0.6417918600248125,0.6051655775871397,0.5587286216793942,0.5097046018083469,0.46415303028225735,0.420674598944139,0.3698009546710539,0.3260720301394288,0.28847482820214165,0.26295536907375155,0.2324718740970625,0.2186547497250531,0.18044511531893026,0.1331977604154138,0.10179256471937884,0.07825130282226714,0.042892625498316836,0.008388707667847687,-0.034648873769465106,-0.05504846597435571,-0.08064664240189498,-0.12301769848329405,-0.17565393388263914,-0.2286290213408091,-0.27978747863900594,-0.3242012346013622,-0.35262631572270164,-0.37568223131528583,-0.4004033161365414,-0.4410454769224139,-0.48443318739047597],\"coloraxis\":\"coloraxis\",\"symbol\":\"circle\"},\"mode\":\"markers\",\"name\":\"\",\"orientation\":\"v\",\"showlegend\":false,\"x\":[\"2021-03-13T00:00:00\",\"2021-03-14T00:00:00\",\"2021-03-15T00:00:00\",\"2021-03-16T00:00:00\",\"2021-03-17T00:00:00\",\"2021-03-18T00:00:00\",\"2021-03-19T00:00:00\",\"2021-03-20T00:00:00\",\"2021-03-21T00:00:00\",\"2021-03-22T00:00:00\",\"2021-03-23T00:00:00\",\"2021-03-24T00:00:00\",\"2021-03-25T00:00:00\",\"2021-03-26T00:00:00\",\"2021-03-27T00:00:00\",\"2021-03-28T00:00:00\",\"2021-03-29T00:00:00\",\"2021-03-30T00:00:00\",\"2021-03-31T00:00:00\",\"2021-04-01T00:00:00\",\"2021-04-02T00:00:00\",\"2021-04-03T00:00:00\",\"2021-04-04T00:00:00\",\"2021-04-05T00:00:00\",\"2021-04-06T00:00:00\",\"2021-04-07T00:00:00\",\"2021-04-08T00:00:00\",\"2021-04-09T00:00:00\",\"2021-04-10T00:00:00\",\"2021-04-11T00:00:00\",\"2021-04-12T00:00:00\",\"2021-04-13T00:00:00\",\"2021-04-14T00:00:00\",\"2021-04-15T00:00:00\",\"2021-04-16T00:00:00\",\"2021-04-17T00:00:00\",\"2021-04-18T00:00:00\",\"2021-04-19T00:00:00\",\"2021-04-20T00:00:00\",\"2021-04-21T00:00:00\",\"2021-04-22T00:00:00\",\"2021-04-23T00:00:00\",\"2021-04-24T00:00:00\",\"2021-04-25T00:00:00\",\"2021-04-26T00:00:00\",\"2021-04-27T00:00:00\",\"2021-04-28T00:00:00\",\"2021-04-29T00:00:00\",\"2021-04-30T00:00:00\",\"2021-05-01T00:00:00\",\"2021-05-02T00:00:00\",\"2021-05-03T00:00:00\",\"2021-05-04T00:00:00\",\"2021-05-05T00:00:00\",\"2021-05-06T00:00:00\",\"2021-05-07T00:00:00\",\"2021-05-08T00:00:00\",\"2021-05-09T00:00:00\",\"2021-05-10T00:00:00\",\"2021-05-11T00:00:00\",\"2021-05-12T00:00:00\",\"2021-05-13T00:00:00\",\"2021-05-14T00:00:00\",\"2021-05-15T00:00:00\",\"2021-05-16T00:00:00\",\"2021-05-17T00:00:00\",\"2021-05-18T00:00:00\",\"2021-05-19T00:00:00\",\"2021-05-20T00:00:00\",\"2021-05-21T00:00:00\",\"2021-05-22T00:00:00\",\"2021-05-23T00:00:00\",\"2021-05-24T00:00:00\",\"2021-05-25T00:00:00\",\"2021-05-26T00:00:00\",\"2021-05-27T00:00:00\",\"2021-05-28T00:00:00\",\"2021-05-29T00:00:00\",\"2021-05-30T00:00:00\",\"2021-05-31T00:00:00\",\"2021-06-01T00:00:00\",\"2021-06-02T00:00:00\",\"2021-06-03T00:00:00\",\"2021-06-04T00:00:00\",\"2021-06-05T00:00:00\",\"2021-06-06T00:00:00\",\"2021-06-07T00:00:00\",\"2021-06-08T00:00:00\",\"2021-06-09T00:00:00\",\"2021-06-10T00:00:00\",\"2021-06-11T00:00:00\",\"2021-06-12T00:00:00\",\"2021-06-13T00:00:00\",\"2021-06-14T00:00:00\",\"2021-06-15T00:00:00\",\"2021-06-16T00:00:00\",\"2021-06-17T00:00:00\",\"2021-06-18T00:00:00\",\"2021-06-19T00:00:00\",\"2021-06-20T00:00:00\",\"2021-06-21T00:00:00\",\"2021-06-22T00:00:00\",\"2021-06-23T00:00:00\",\"2021-06-24T00:00:00\",\"2021-06-25T00:00:00\",\"2021-06-26T00:00:00\",\"2021-06-27T00:00:00\",\"2021-06-28T00:00:00\",\"2021-06-29T00:00:00\",\"2021-06-30T00:00:00\",\"2021-07-01T00:00:00\",\"2021-07-02T00:00:00\",\"2021-07-03T00:00:00\",\"2021-07-04T00:00:00\",\"2021-07-05T00:00:00\",\"2021-07-06T00:00:00\",\"2021-07-07T00:00:00\",\"2021-07-08T00:00:00\",\"2021-07-09T00:00:00\",\"2021-07-10T00:00:00\",\"2021-07-11T00:00:00\",\"2021-07-12T00:00:00\",\"2021-07-13T00:00:00\",\"2021-07-14T00:00:00\",\"2021-07-15T00:00:00\",\"2021-07-16T00:00:00\",\"2021-07-17T00:00:00\",\"2021-07-18T00:00:00\",\"2021-07-19T00:00:00\",\"2021-07-20T00:00:00\",\"2021-07-21T00:00:00\",\"2021-07-22T00:00:00\",\"2021-07-23T00:00:00\",\"2021-07-24T00:00:00\",\"2021-07-25T00:00:00\",\"2021-07-26T00:00:00\",\"2021-07-27T00:00:00\",\"2021-07-28T00:00:00\",\"2021-07-29T00:00:00\",\"2021-07-30T00:00:00\",\"2021-07-31T00:00:00\",\"2021-08-01T00:00:00\",\"2021-08-02T00:00:00\",\"2021-08-03T00:00:00\",\"2021-08-04T00:00:00\",\"2021-08-05T00:00:00\",\"2021-08-06T00:00:00\",\"2021-08-07T00:00:00\",\"2021-08-08T00:00:00\",\"2021-08-09T00:00:00\",\"2021-08-10T00:00:00\",\"2021-08-11T00:00:00\",\"2021-08-12T00:00:00\",\"2021-08-13T00:00:00\",\"2021-08-14T00:00:00\",\"2021-08-15T00:00:00\",\"2021-08-16T00:00:00\",\"2021-08-17T00:00:00\",\"2021-08-18T00:00:00\",\"2021-08-19T00:00:00\",\"2021-08-20T00:00:00\",\"2021-08-21T00:00:00\",\"2021-08-22T00:00:00\",\"2021-08-23T00:00:00\",\"2021-08-24T00:00:00\",\"2021-08-25T00:00:00\",\"2021-08-26T00:00:00\",\"2021-08-27T00:00:00\",\"2021-08-28T00:00:00\",\"2021-08-29T00:00:00\",\"2021-08-30T00:00:00\",\"2021-08-31T00:00:00\",\"2021-09-01T00:00:00\",\"2021-09-02T00:00:00\",\"2021-09-03T00:00:00\",\"2021-09-04T00:00:00\",\"2021-09-05T00:00:00\",\"2021-09-06T00:00:00\",\"2021-09-07T00:00:00\",\"2021-09-08T00:00:00\",\"2021-09-09T00:00:00\",\"2021-09-10T00:00:00\",\"2021-09-11T00:00:00\",\"2021-09-12T00:00:00\",\"2021-09-13T00:00:00\",\"2021-09-14T00:00:00\",\"2021-09-15T00:00:00\",\"2021-09-16T00:00:00\",\"2021-09-17T00:00:00\",\"2021-09-18T00:00:00\",\"2021-09-19T00:00:00\",\"2021-09-20T00:00:00\",\"2021-09-21T00:00:00\",\"2021-09-22T00:00:00\",\"2021-09-23T00:00:00\",\"2021-09-24T00:00:00\",\"2021-09-25T00:00:00\",\"2021-09-26T00:00:00\",\"2021-09-27T00:00:00\",\"2021-09-28T00:00:00\",\"2021-09-29T00:00:00\",\"2021-09-30T00:00:00\",\"2021-10-01T00:00:00\",\"2021-10-02T00:00:00\",\"2021-10-03T00:00:00\",\"2021-10-04T00:00:00\",\"2021-10-05T00:00:00\",\"2021-10-06T00:00:00\",\"2021-10-07T00:00:00\",\"2021-10-08T00:00:00\",\"2021-10-09T00:00:00\",\"2021-10-10T00:00:00\",\"2021-10-11T00:00:00\",\"2021-10-12T00:00:00\",\"2021-10-13T00:00:00\",\"2021-10-14T00:00:00\",\"2021-10-15T00:00:00\",\"2021-10-16T00:00:00\",\"2021-10-17T00:00:00\",\"2021-10-18T00:00:00\",\"2021-10-19T00:00:00\",\"2021-10-20T00:00:00\",\"2021-10-21T00:00:00\",\"2021-10-22T00:00:00\",\"2021-10-23T00:00:00\",\"2021-10-24T00:00:00\",\"2021-10-25T00:00:00\",\"2021-10-26T00:00:00\",\"2021-10-27T00:00:00\",\"2021-10-28T00:00:00\",\"2021-10-29T00:00:00\",\"2021-10-30T00:00:00\",\"2021-10-31T00:00:00\",\"2021-11-01T00:00:00\",\"2021-11-02T00:00:00\",\"2021-11-03T00:00:00\",\"2021-11-04T00:00:00\",\"2021-11-05T00:00:00\",\"2021-11-06T00:00:00\",\"2021-11-07T00:00:00\",\"2021-11-08T00:00:00\",\"2021-11-09T00:00:00\",\"2021-11-10T00:00:00\",\"2021-11-11T00:00:00\",\"2021-11-12T00:00:00\",\"2021-11-13T00:00:00\",\"2021-11-14T00:00:00\",\"2021-11-15T00:00:00\",\"2021-11-16T00:00:00\",\"2021-11-17T00:00:00\",\"2021-11-18T00:00:00\",\"2021-11-19T00:00:00\",\"2021-11-20T00:00:00\",\"2021-11-21T00:00:00\",\"2021-11-22T00:00:00\",\"2021-11-23T00:00:00\",\"2021-11-24T00:00:00\",\"2021-11-25T00:00:00\",\"2021-11-26T00:00:00\",\"2021-11-27T00:00:00\",\"2021-11-28T00:00:00\",\"2021-11-29T00:00:00\",\"2021-11-30T00:00:00\",\"2021-12-01T00:00:00\",\"2021-12-02T00:00:00\",\"2021-12-03T00:00:00\",\"2021-12-04T00:00:00\",\"2021-12-05T00:00:00\",\"2021-12-06T00:00:00\",\"2021-12-07T00:00:00\",\"2021-12-08T00:00:00\",\"2021-12-09T00:00:00\",\"2021-12-10T00:00:00\",\"2021-12-11T00:00:00\",\"2021-12-12T00:00:00\",\"2021-12-13T00:00:00\",\"2021-12-14T00:00:00\",\"2021-12-15T00:00:00\",\"2021-12-16T00:00:00\",\"2021-12-17T00:00:00\",\"2021-12-18T00:00:00\",\"2021-12-19T00:00:00\",\"2021-12-20T00:00:00\",\"2021-12-21T00:00:00\",\"2021-12-22T00:00:00\",\"2021-12-23T00:00:00\",\"2021-12-24T00:00:00\",\"2021-12-25T00:00:00\",\"2021-12-26T00:00:00\",\"2021-12-27T00:00:00\",\"2021-12-28T00:00:00\",\"2021-12-29T00:00:00\",\"2021-12-30T00:00:00\",\"2021-12-31T00:00:00\",\"2022-01-01T00:00:00\",\"2022-01-02T00:00:00\",\"2022-01-03T00:00:00\",\"2022-01-04T00:00:00\",\"2022-01-05T00:00:00\",\"2022-01-06T00:00:00\"],\"xaxis\":\"x\",\"y\":[41553446.116384074,25151293.425501056,49209018.18204003,32720318.63961816,26805684.00019029,25728580.940137953,22337844.983599927,19868594.296399765,27895710.7448536,36003189.0109808,30880111.618232418,36890764.45897608,42478921.106871456,17658366.799401265,13640921.750964414,11447350.141727127,31516804.076243438,19106164.957136106,42078791.52236699,28028383.834250785,39647448.17516494,28009722.91918776,18191250.270768195,22873977.02251348,31833389.77319622,47819843.20977427,21532193.624480285,15507054.209093895,28580326.388956092,14391308.951767085,27588867.58324331,45054010.77469336,63902190.26774115,38488505.08567939,68175348.54387307,34698528.19280492,120447367.48413888,60396098.75646401,60240679.31728317,55827760.32729968,109601326.17716563,147239392.76109558,40626911.073707044,45057525.89730921,63759918.39122362,52857172.25938392,65153562.59145415,51832672.82830779,41579403.86925,63279113.85748875,47104130.82125576,151350407.16164067,217149884.726204,128540572.94946587,96430224.60057274,68404046.51470615,120754314.3986247,97775813.49832429,202447935.41968927,140038644.6064632,172285610.7111152,234970520.47742018,114609134.05352767,116690885.41186534,158289730.6247515,197148629.47402653,135782180.02959597,359682818.87205017,240587800.80473587,172868700.4441916,121803638.1110915,184251436.3099989,206690154.66386262,208409019.8477537,149929318.08349487,85630269.33817026,208915643.5084519,126342369.25261879,60858590.1931486,91290109.43411198,59748576.76548275,42721616.070721485,54340149.36630254,65873737.650738254,41943841.23741873,26431501.32257242,46168816.01991251,101531399.75313674,53101686.605925635,27809497.698978767,22477567.544695448,28359862.170716964,29531066.34040449,24868993.28473129,23004751.706520647,28173941.117058847,20834969.17201655,29675154.160908226,14743337.973412864,42039967.99798703,88814091.35470933,80346976.63780725,35071237.31467288,17854360.248454623,28564107.1632712,28122713.30706451,15990550.352143044,32445247.628316082,25077556.15702647,34563736.42927924,31124831.62812502,28081721.42681416,17102570.73949923,25695451.149853684,27941738.299025457,34292216.285367176,31130125.182744462,39574932.22439611,33168385.93682674,17572043.748600453,11509601.441919642,22677920.50067228,25201612.066212293,28846129.683523584,25493607.345456522,22333471.455081202,13482979.517094966,17442170.37460968,28962432.880331844,32139951.268587053,43042635.02994888,30062497.51580991,33374475.40746599,28619115.678665675,23709342.31442775,90041388.18713248,55129498.39089192,49892596.74842272,25124145.32247367,58105193.78339739,35762940.30255686,56325838.23431442,59133218.20543448,52565261.819222465,62515174.345844656,105284570.1535906,63676893.78797691,116058759.90092005,98440747.65853406,101698811.78499553,73909163.60268097,51477942.91454773,112370531.7030712,55506713.91862751,36369243.99127913,44693642.76986602,47172905.90271621,70197033.37338443,46823256.74940496,48471203.090897694,44028243.970024414,27799538.53051223,30374486.027266428,49040853.980772324,49856261.743879154,40339187.57144227,39422255.19873052,39722796.71226519,18997154.260327086,24987522.205748063,42633049.64592475,65125893.35630009,99991541.49616984,70227627.4037459,83622828.2802716,53841131.93464047,44724940.49827463,46802937.64018174,197669331.79653388,156593673.21273482,98451888.58372055,63207776.897391245,62011994.918188974,56686051.634776026,72070336.61710504,37327810.70934535,44410383.04702721,50735377.99875037,37254166.66971297,27106465.861264814,24629253.241499297,114913852.04945633,100425632.91096371,83388713.52002709,57564483.08564975,108677776.99526846,39255902.36970364,51954511.580315314,44402888.11657324,40301188.15078604,26436843.51577394,42778933.15318487,56264205.880578,35935642.50028291,31324913.338291597,46472532.12605793,41080711.079998866,76329243.38564892,49372552.43459915,39581008.76518394,27929349.152501356,25619311.883986387,39093388.22313523,43790411.66412958,42276543.83347167,61982342.7525407,57339580.25642261,32112476.786046878,31529902.39156627,49367344.585166566,46762028.92477661,73087242.6081251,104714308.68030089,53715873.60545843,35659931.46024061,35882519.71056681,42600574.89176235,44399490.99192847,73339941.87426543,66139113.20547248,77988435.08342917,37028249.7032155,35669684.59734584,46763939.66121914,62208997.22831142,56751101.76199531,37842768.915700324,29335287.674377624,29024890.487432517,26701784.815089334,44065396.2247688,40750773.03160691,73631915.65291215,34284527.65173285,47572453.570812926,24108509.376523975,31570401.179120302,36002773.97253932,112144984.83050467,47828113.04191342,64397973.53138373,50372054.31228299,27317587.717621725,22839932.399926927,47501900.55529285,45462447.200720444,44593068.80663599,44303167.16271553,96007577.14152245,27376896.357832465,34902784.301109016,44380891.730273716,79279359.82902777,63670946.25215127,42816239.11571786,69588875.79446395,153416824.64217132,55509933.37721978,79826608.45974767,47198059.440138586,47430180.043593444,60393313.90165655,61233806.49238663,34929405.87463574,24142415.72631374,63080747.115068644,47531534.531121984,69707635.21693957,44008540.54929696,58386975.51166024,29683359.12034256,30893493.755090393,49478891.194070086,33624604.70854218,26614299.134996653,38991388.308784366,21891417.38800036,18511651.08903373,20347836.6862678,25514558.60949714,48967428.50712921,38843835.92032549,35338556.43373136,41311007.253611945,16898751.57472855,20347442.1255576,28278552.99527371,34607360.81440367,61210994.134665124,56681099.63225867],\"yaxis\":\"y\",\"type\":\"scatter\"}],                        {\"template\":{\"data\":{\"bar\":[{\"error_x\":{\"color\":\"#2a3f5f\"},\"error_y\":{\"color\":\"#2a3f5f\"},\"marker\":{\"line\":{\"color\":\"#E5ECF6\",\"width\":0.5},\"pattern\":{\"fillmode\":\"overlay\",\"size\":10,\"solidity\":0.2}},\"type\":\"bar\"}],\"barpolar\":[{\"marker\":{\"line\":{\"color\":\"#E5ECF6\",\"width\":0.5},\"pattern\":{\"fillmode\":\"overlay\",\"size\":10,\"solidity\":0.2}},\"type\":\"barpolar\"}],\"carpet\":[{\"aaxis\":{\"endlinecolor\":\"#2a3f5f\",\"gridcolor\":\"white\",\"linecolor\":\"white\",\"minorgridcolor\":\"white\",\"startlinecolor\":\"#2a3f5f\"},\"baxis\":{\"endlinecolor\":\"#2a3f5f\",\"gridcolor\":\"white\",\"linecolor\":\"white\",\"minorgridcolor\":\"white\",\"startlinecolor\":\"#2a3f5f\"},\"type\":\"carpet\"}],\"choropleth\":[{\"colorbar\":{\"outlinewidth\":0,\"ticks\":\"\"},\"type\":\"choropleth\"}],\"contour\":[{\"colorbar\":{\"outlinewidth\":0,\"ticks\":\"\"},\"colorscale\":[[0.0,\"#0d0887\"],[0.1111111111111111,\"#46039f\"],[0.2222222222222222,\"#7201a8\"],[0.3333333333333333,\"#9c179e\"],[0.4444444444444444,\"#bd3786\"],[0.5555555555555556,\"#d8576b\"],[0.6666666666666666,\"#ed7953\"],[0.7777777777777778,\"#fb9f3a\"],[0.8888888888888888,\"#fdca26\"],[1.0,\"#f0f921\"]],\"type\":\"contour\"}],\"contourcarpet\":[{\"colorbar\":{\"outlinewidth\":0,\"ticks\":\"\"},\"type\":\"contourcarpet\"}],\"heatmap\":[{\"colorbar\":{\"outlinewidth\":0,\"ticks\":\"\"},\"colorscale\":[[0.0,\"#0d0887\"],[0.1111111111111111,\"#46039f\"],[0.2222222222222222,\"#7201a8\"],[0.3333333333333333,\"#9c179e\"],[0.4444444444444444,\"#bd3786\"],[0.5555555555555556,\"#d8576b\"],[0.6666666666666666,\"#ed7953\"],[0.7777777777777778,\"#fb9f3a\"],[0.8888888888888888,\"#fdca26\"],[1.0,\"#f0f921\"]],\"type\":\"heatmap\"}],\"heatmapgl\":[{\"colorbar\":{\"outlinewidth\":0,\"ticks\":\"\"},\"colorscale\":[[0.0,\"#0d0887\"],[0.1111111111111111,\"#46039f\"],[0.2222222222222222,\"#7201a8\"],[0.3333333333333333,\"#9c179e\"],[0.4444444444444444,\"#bd3786\"],[0.5555555555555556,\"#d8576b\"],[0.6666666666666666,\"#ed7953\"],[0.7777777777777778,\"#fb9f3a\"],[0.8888888888888888,\"#fdca26\"],[1.0,\"#f0f921\"]],\"type\":\"heatmapgl\"}],\"histogram\":[{\"marker\":{\"pattern\":{\"fillmode\":\"overlay\",\"size\":10,\"solidity\":0.2}},\"type\":\"histogram\"}],\"histogram2d\":[{\"colorbar\":{\"outlinewidth\":0,\"ticks\":\"\"},\"colorscale\":[[0.0,\"#0d0887\"],[0.1111111111111111,\"#46039f\"],[0.2222222222222222,\"#7201a8\"],[0.3333333333333333,\"#9c179e\"],[0.4444444444444444,\"#bd3786\"],[0.5555555555555556,\"#d8576b\"],[0.6666666666666666,\"#ed7953\"],[0.7777777777777778,\"#fb9f3a\"],[0.8888888888888888,\"#fdca26\"],[1.0,\"#f0f921\"]],\"type\":\"histogram2d\"}],\"histogram2dcontour\":[{\"colorbar\":{\"outlinewidth\":0,\"ticks\":\"\"},\"colorscale\":[[0.0,\"#0d0887\"],[0.1111111111111111,\"#46039f\"],[0.2222222222222222,\"#7201a8\"],[0.3333333333333333,\"#9c179e\"],[0.4444444444444444,\"#bd3786\"],[0.5555555555555556,\"#d8576b\"],[0.6666666666666666,\"#ed7953\"],[0.7777777777777778,\"#fb9f3a\"],[0.8888888888888888,\"#fdca26\"],[1.0,\"#f0f921\"]],\"type\":\"histogram2dcontour\"}],\"mesh3d\":[{\"colorbar\":{\"outlinewidth\":0,\"ticks\":\"\"},\"type\":\"mesh3d\"}],\"parcoords\":[{\"line\":{\"colorbar\":{\"outlinewidth\":0,\"ticks\":\"\"}},\"type\":\"parcoords\"}],\"pie\":[{\"automargin\":true,\"type\":\"pie\"}],\"scatter\":[{\"marker\":{\"colorbar\":{\"outlinewidth\":0,\"ticks\":\"\"}},\"type\":\"scatter\"}],\"scatter3d\":[{\"line\":{\"colorbar\":{\"outlinewidth\":0,\"ticks\":\"\"}},\"marker\":{\"colorbar\":{\"outlinewidth\":0,\"ticks\":\"\"}},\"type\":\"scatter3d\"}],\"scattercarpet\":[{\"marker\":{\"colorbar\":{\"outlinewidth\":0,\"ticks\":\"\"}},\"type\":\"scattercarpet\"}],\"scattergeo\":[{\"marker\":{\"colorbar\":{\"outlinewidth\":0,\"ticks\":\"\"}},\"type\":\"scattergeo\"}],\"scattergl\":[{\"marker\":{\"colorbar\":{\"outlinewidth\":0,\"ticks\":\"\"}},\"type\":\"scattergl\"}],\"scattermapbox\":[{\"marker\":{\"colorbar\":{\"outlinewidth\":0,\"ticks\":\"\"}},\"type\":\"scattermapbox\"}],\"scatterpolar\":[{\"marker\":{\"colorbar\":{\"outlinewidth\":0,\"ticks\":\"\"}},\"type\":\"scatterpolar\"}],\"scatterpolargl\":[{\"marker\":{\"colorbar\":{\"outlinewidth\":0,\"ticks\":\"\"}},\"type\":\"scatterpolargl\"}],\"scatterternary\":[{\"marker\":{\"colorbar\":{\"outlinewidth\":0,\"ticks\":\"\"}},\"type\":\"scatterternary\"}],\"surface\":[{\"colorbar\":{\"outlinewidth\":0,\"ticks\":\"\"},\"colorscale\":[[0.0,\"#0d0887\"],[0.1111111111111111,\"#46039f\"],[0.2222222222222222,\"#7201a8\"],[0.3333333333333333,\"#9c179e\"],[0.4444444444444444,\"#bd3786\"],[0.5555555555555556,\"#d8576b\"],[0.6666666666666666,\"#ed7953\"],[0.7777777777777778,\"#fb9f3a\"],[0.8888888888888888,\"#fdca26\"],[1.0,\"#f0f921\"]],\"type\":\"surface\"}],\"table\":[{\"cells\":{\"fill\":{\"color\":\"#EBF0F8\"},\"line\":{\"color\":\"white\"}},\"header\":{\"fill\":{\"color\":\"#C8D4E3\"},\"line\":{\"color\":\"white\"}},\"type\":\"table\"}]},\"layout\":{\"annotationdefaults\":{\"arrowcolor\":\"#2a3f5f\",\"arrowhead\":0,\"arrowwidth\":1},\"autotypenumbers\":\"strict\",\"coloraxis\":{\"colorbar\":{\"outlinewidth\":0,\"ticks\":\"\"}},\"colorscale\":{\"diverging\":[[0,\"#8e0152\"],[0.1,\"#c51b7d\"],[0.2,\"#de77ae\"],[0.3,\"#f1b6da\"],[0.4,\"#fde0ef\"],[0.5,\"#f7f7f7\"],[0.6,\"#e6f5d0\"],[0.7,\"#b8e186\"],[0.8,\"#7fbc41\"],[0.9,\"#4d9221\"],[1,\"#276419\"]],\"sequential\":[[0.0,\"#0d0887\"],[0.1111111111111111,\"#46039f\"],[0.2222222222222222,\"#7201a8\"],[0.3333333333333333,\"#9c179e\"],[0.4444444444444444,\"#bd3786\"],[0.5555555555555556,\"#d8576b\"],[0.6666666666666666,\"#ed7953\"],[0.7777777777777778,\"#fb9f3a\"],[0.8888888888888888,\"#fdca26\"],[1.0,\"#f0f921\"]],\"sequentialminus\":[[0.0,\"#0d0887\"],[0.1111111111111111,\"#46039f\"],[0.2222222222222222,\"#7201a8\"],[0.3333333333333333,\"#9c179e\"],[0.4444444444444444,\"#bd3786\"],[0.5555555555555556,\"#d8576b\"],[0.6666666666666666,\"#ed7953\"],[0.7777777777777778,\"#fb9f3a\"],[0.8888888888888888,\"#fdca26\"],[1.0,\"#f0f921\"]]},\"colorway\":[\"#636efa\",\"#EF553B\",\"#00cc96\",\"#ab63fa\",\"#FFA15A\",\"#19d3f3\",\"#FF6692\",\"#B6E880\",\"#FF97FF\",\"#FECB52\"],\"font\":{\"color\":\"#2a3f5f\"},\"geo\":{\"bgcolor\":\"white\",\"lakecolor\":\"white\",\"landcolor\":\"#E5ECF6\",\"showlakes\":true,\"showland\":true,\"subunitcolor\":\"white\"},\"hoverlabel\":{\"align\":\"left\"},\"hovermode\":\"closest\",\"mapbox\":{\"style\":\"light\"},\"paper_bgcolor\":\"white\",\"plot_bgcolor\":\"#E5ECF6\",\"polar\":{\"angularaxis\":{\"gridcolor\":\"white\",\"linecolor\":\"white\",\"ticks\":\"\"},\"bgcolor\":\"#E5ECF6\",\"radialaxis\":{\"gridcolor\":\"white\",\"linecolor\":\"white\",\"ticks\":\"\"}},\"scene\":{\"xaxis\":{\"backgroundcolor\":\"#E5ECF6\",\"gridcolor\":\"white\",\"gridwidth\":2,\"linecolor\":\"white\",\"showbackground\":true,\"ticks\":\"\",\"zerolinecolor\":\"white\"},\"yaxis\":{\"backgroundcolor\":\"#E5ECF6\",\"gridcolor\":\"white\",\"gridwidth\":2,\"linecolor\":\"white\",\"showbackground\":true,\"ticks\":\"\",\"zerolinecolor\":\"white\"},\"zaxis\":{\"backgroundcolor\":\"#E5ECF6\",\"gridcolor\":\"white\",\"gridwidth\":2,\"linecolor\":\"white\",\"showbackground\":true,\"ticks\":\"\",\"zerolinecolor\":\"white\"}},\"shapedefaults\":{\"line\":{\"color\":\"#2a3f5f\"}},\"ternary\":{\"aaxis\":{\"gridcolor\":\"white\",\"linecolor\":\"white\",\"ticks\":\"\"},\"baxis\":{\"gridcolor\":\"white\",\"linecolor\":\"white\",\"ticks\":\"\"},\"bgcolor\":\"#E5ECF6\",\"caxis\":{\"gridcolor\":\"white\",\"linecolor\":\"white\",\"ticks\":\"\"}},\"title\":{\"x\":0.05},\"xaxis\":{\"automargin\":true,\"gridcolor\":\"white\",\"linecolor\":\"white\",\"ticks\":\"\",\"title\":{\"standoff\":15},\"zerolinecolor\":\"white\",\"zerolinewidth\":2},\"yaxis\":{\"automargin\":true,\"gridcolor\":\"white\",\"linecolor\":\"white\",\"ticks\":\"\",\"title\":{\"standoff\":15},\"zerolinecolor\":\"white\",\"zerolinewidth\":2}}},\"xaxis\":{\"anchor\":\"y\",\"domain\":[0.0,1.0],\"title\":{\"text\":\"datetime\"}},\"yaxis\":{\"anchor\":\"x\",\"domain\":[0.0,1.0],\"title\":{\"text\":\"vol_fiat\"}},\"coloraxis\":{\"colorbar\":{\"title\":{\"text\":\"risk_indicator_normalized\"}},\"colorscale\":[[0.0,\"rgb(5,48,97)\"],[0.1,\"rgb(33,102,172)\"],[0.2,\"rgb(67,147,195)\"],[0.3,\"rgb(146,197,222)\"],[0.4,\"rgb(209,229,240)\"],[0.5,\"rgb(247,247,247)\"],[0.6,\"rgb(253,219,199)\"],[0.7,\"rgb(244,165,130)\"],[0.8,\"rgb(214,96,77)\"],[0.9,\"rgb(178,24,43)\"],[1.0,\"rgb(103,0,31)\"]]},\"legend\":{\"tracegroupgap\":0},\"margin\":{\"t\":60}},                        {\"responsive\": true}                    ).then(function(){\n",
       "                            \n",
       "var gd = document.getElementById('adcd6b6a-a314-43bf-b02c-a4a9edda2d10');\n",
       "var x = new MutationObserver(function (mutations, observer) {{\n",
       "        var display = window.getComputedStyle(gd).display;\n",
       "        if (!display || display === 'none') {{\n",
       "            console.log([gd, 'removed!']);\n",
       "            Plotly.purge(gd);\n",
       "            observer.disconnect();\n",
       "        }}\n",
       "}});\n",
       "\n",
       "// Listen for the removal of the full notebook cells\n",
       "var notebookContainer = gd.closest('#notebook-container');\n",
       "if (notebookContainer) {{\n",
       "    x.observe(notebookContainer, {childList: true});\n",
       "}}\n",
       "\n",
       "// Listen for the clearing of the current output cell\n",
       "var outputEl = gd.closest('.output');\n",
       "if (outputEl) {{\n",
       "    x.observe(outputEl, {childList: true});\n",
       "}}\n",
       "\n",
       "                        })                };                });            </script>        </div>"
      ]
     },
     "metadata": {},
     "output_type": "display_data"
    }
   ],
   "source": [
    "px.scatter(df, x=df.index, y=df.vol_fiat, color=df.risk_indicator_normalized, color_continuous_scale='RdBu_r')"
   ]
  },
  {
   "cell_type": "markdown",
   "metadata": {},
   "source": [
    "And now we will use these same graphs to make our own Dashboard! "
   ]
  },
  {
   "cell_type": "code",
   "execution_count": 351,
   "metadata": {},
   "outputs": [],
   "source": [
    "app.layout = html.Div(children=[\n",
    "  html.H1(children='Our amazing risk indicator!', \n",
    "          style={'textAlign': 'center'}),\n",
    "      html.H2(children='Risk indicator #1'),\n",
    "      dcc.Graph(id='risk_indicator_1',\n",
    "        figure=px.scatter(df,\n",
    "                      x=df.index, \n",
    "                      y=df.close, \n",
    "                      color=df.risk_indicator_normalized, \n",
    "                      color_continuous_scale='RdBu_r'\n",
    "                         )\n",
    "            ),\n",
    "      html.H2(children='Risk indicator #2'),\n",
    "      dcc.Graph(id='vol_fiat_1',\n",
    "        figure=px.scatter(df,\n",
    "                      x=df.index,\n",
    "                      y=df.vol_fiat, \n",
    "                      color=df.risk_indicator_normalized, \n",
    "                      color_continuous_scale='RdBu_r')\n",
    "             )\n",
    "  ])"
   ]
  },
  {
   "cell_type": "code",
   "execution_count": 352,
   "metadata": {
    "scrolled": false
   },
   "outputs": [
    {
     "name": "stderr",
     "output_type": "stream",
     "text": [
      "/Users/franciscoregalado/opt/anaconda3/lib/python3.9/site-packages/jupyter_dash/jupyter_app.py:139: UserWarning:\n",
      "\n",
      "The 'environ['werkzeug.server.shutdown']' function is deprecated and will be removed in Werkzeug 2.1.\n",
      "\n"
     ]
    },
    {
     "name": "stdout",
     "output_type": "stream",
     "text": [
      "Dash app running on http://127.0.0.1:8051/\n"
     ]
    }
   ],
   "source": [
    "app.run_server(mode='external', host = '127.0.0.1', port=8051, debug=True)"
   ]
  },
  {
   "cell_type": "markdown",
   "metadata": {},
   "source": [
    "Great! Now we have created our first dashboard. We have simply joined two graphs into a Dashboard, to show different aspects of the risk that we want to represent."
   ]
  },
  {
   "cell_type": "markdown",
   "metadata": {},
   "source": [
    "# Part 3: Adding more charts to our dashboard"
   ]
  },
  {
   "cell_type": "markdown",
   "metadata": {},
   "source": [
    "Add new graph with weekly data."
   ]
  },
  {
   "cell_type": "code",
   "execution_count": 353,
   "metadata": {},
   "outputs": [
    {
     "data": {
      "image/png": "[encoded data removed]",
      "text/plain": [
       "<Figure size 864x288 with 1 Axes>"
      ]
     },
     "metadata": {
      "needs_background": "light"
     },
     "output_type": "display_data"
    }
   ],
   "source": [
    "df.resample('W').mean()['close'].plot(figsize=(12, 4), color='k', linestyle='--', linewidth=3)\n",
    "plt.bar(df.resample('W').mean()['close'].index,\n",
    "       df.resample('W').mean()['close'], alpha=.5, edgecolor='k')\n",
    "plt.grid(True)\n",
    "plt.show()"
   ]
  },
  {
   "cell_type": "code",
   "execution_count": 354,
   "metadata": {},
   "outputs": [],
   "source": [
    "df_resampled_weekly = df.resample('W').mean()['close']"
   ]
  },
  {
   "cell_type": "code",
   "execution_count": 355,
   "metadata": {},
   "outputs": [
    {
     "data": {
      "text/plain": [
       "datetime\n",
       "2021-03-14    1560.625000\n",
       "2021-03-21    1511.580000\n",
       "2021-03-28    1405.600000\n",
       "2021-04-04    1673.977143\n",
       "2021-04-11    1757.237143\n",
       "Freq: W-SUN, Name: close, dtype: float64"
      ]
     },
     "execution_count": 355,
     "metadata": {},
     "output_type": "execute_result"
    }
   ],
   "source": [
    "df_resampled_weekly.head()"
   ]
  },
  {
   "cell_type": "code",
   "execution_count": 356,
   "metadata": {},
   "outputs": [],
   "source": [
    "df_last_days = df['close'].tail(8).diff(1).tail(7)"
   ]
  },
  {
   "cell_type": "code",
   "execution_count": 357,
   "metadata": {},
   "outputs": [],
   "source": [
    "df_last_days.index = ['{}_days_ago'.format(j) for j in range(1, 8)]"
   ]
  },
  {
   "cell_type": "code",
   "execution_count": 358,
   "metadata": {},
   "outputs": [],
   "source": [
    "from pandas import DataFrame\n",
    "\n",
    "df_for_table = DataFrame(df_last_days)"
   ]
  },
  {
   "cell_type": "code",
   "execution_count": 359,
   "metadata": {},
   "outputs": [
    {
     "data": {
      "application/vnd.plotly.v1+json": {
       "config": {
        "plotlyServerURL": "https://plot.ly"
       },
       "data": [
        {
         "cells": {
          "align": "left",
          "font": {
           "color": [
            [
             "red"
            ],
            [
             "green"
            ],
            [
             "green"
            ],
            [
             "red"
            ],
            [
             "green"
            ],
            [
             "red"
            ],
            [
             "red"
            ]
           ]
          },
          "height": 30,
          "line": {
           "color": "darkslategray"
          },
          "values": [
           -40.6,
           78.51,
           56.49,
           -38.78,
           22.72,
           -224.37,
           -112.41
          ]
         },
         "columnwidth": [
          30,
          30,
          30
         ],
         "header": {
          "align": "center",
          "font": {
           "color": "black",
           "family": "Lato",
           "size": 20
          },
          "height": 30,
          "line": {
           "color": "darkslategray"
          },
          "values": [
           "1 days ago",
           "2 days ago",
           "3 days ago",
           "4 days ago",
           "5 days ago",
           "6 days ago",
           "7 days ago"
          ]
         },
         "type": "table"
        }
       ],
       "layout": {
        "template": {
         "data": {
          "bar": [
           {
            "error_x": {
             "color": "#2a3f5f"
            },
            "error_y": {
             "color": "#2a3f5f"
            },
            "marker": {
             "line": {
              "color": "#E5ECF6",
              "width": 0.5
             },
             "pattern": {
              "fillmode": "overlay",
              "size": 10,
              "solidity": 0.2
             }
            },
            "type": "bar"
           }
          ],
          "barpolar": [
           {
            "marker": {
             "line": {
              "color": "#E5ECF6",
              "width": 0.5
             },
             "pattern": {
              "fillmode": "overlay",
              "size": 10,
              "solidity": 0.2
             }
            },
            "type": "barpolar"
           }
          ],
          "carpet": [
           {
            "aaxis": {
             "endlinecolor": "#2a3f5f",
             "gridcolor": "white",
             "linecolor": "white",
             "minorgridcolor": "white",
             "startlinecolor": "#2a3f5f"
            },
            "baxis": {
             "endlinecolor": "#2a3f5f",
             "gridcolor": "white",
             "linecolor": "white",
             "minorgridcolor": "white",
             "startlinecolor": "#2a3f5f"
            },
            "type": "carpet"
           }
          ],
          "choropleth": [
           {
            "colorbar": {
             "outlinewidth": 0,
             "ticks": ""
            },
            "type": "choropleth"
           }
          ],
          "contour": [
           {
            "colorbar": {
             "outlinewidth": 0,
             "ticks": ""
            },
            "colorscale": [
             [
              0,
              "#0d0887"
             ],
             [
              0.1111111111111111,
              "#46039f"
             ],
             [
              0.2222222222222222,
              "#7201a8"
             ],
             [
              0.3333333333333333,
              "#9c179e"
             ],
             [
              0.4444444444444444,
              "#bd3786"
             ],
             [
              0.5555555555555556,
              "#d8576b"
             ],
             [
              0.6666666666666666,
              "#ed7953"
             ],
             [
              0.7777777777777778,
              "#fb9f3a"
             ],
             [
              0.8888888888888888,
              "#fdca26"
             ],
             [
              1,
              "#f0f921"
             ]
            ],
            "type": "contour"
           }
          ],
          "contourcarpet": [
           {
            "colorbar": {
             "outlinewidth": 0,
             "ticks": ""
            },
            "type": "contourcarpet"
           }
          ],
          "heatmap": [
           {
            "colorbar": {
             "outlinewidth": 0,
             "ticks": ""
            },
            "colorscale": [
             [
              0,
              "#0d0887"
             ],
             [
              0.1111111111111111,
              "#46039f"
             ],
             [
              0.2222222222222222,
              "#7201a8"
             ],
             [
              0.3333333333333333,
              "#9c179e"
             ],
             [
              0.4444444444444444,
              "#bd3786"
             ],
             [
              0.5555555555555556,
              "#d8576b"
             ],
             [
              0.6666666666666666,
              "#ed7953"
             ],
             [
              0.7777777777777778,
              "#fb9f3a"
             ],
             [
              0.8888888888888888,
              "#fdca26"
             ],
             [
              1,
              "#f0f921"
             ]
            ],
            "type": "heatmap"
           }
          ],
          "heatmapgl": [
           {
            "colorbar": {
             "outlinewidth": 0,
             "ticks": ""
            },
            "colorscale": [
             [
              0,
              "#0d0887"
             ],
             [
              0.1111111111111111,
              "#46039f"
             ],
             [
              0.2222222222222222,
              "#7201a8"
             ],
             [
              0.3333333333333333,
              "#9c179e"
             ],
             [
              0.4444444444444444,
              "#bd3786"
             ],
             [
              0.5555555555555556,
              "#d8576b"
             ],
             [
              0.6666666666666666,
              "#ed7953"
             ],
             [
              0.7777777777777778,
              "#fb9f3a"
             ],
             [
              0.8888888888888888,
              "#fdca26"
             ],
             [
              1,
              "#f0f921"
             ]
            ],
            "type": "heatmapgl"
           }
          ],
          "histogram": [
           {
            "marker": {
             "pattern": {
              "fillmode": "overlay",
              "size": 10,
              "solidity": 0.2
             }
            },
            "type": "histogram"
           }
          ],
          "histogram2d": [
           {
            "colorbar": {
             "outlinewidth": 0,
             "ticks": ""
            },
            "colorscale": [
             [
              0,
              "#0d0887"
             ],
             [
              0.1111111111111111,
              "#46039f"
             ],
             [
              0.2222222222222222,
              "#7201a8"
             ],
             [
              0.3333333333333333,
              "#9c179e"
             ],
             [
              0.4444444444444444,
              "#bd3786"
             ],
             [
              0.5555555555555556,
              "#d8576b"
             ],
             [
              0.6666666666666666,
              "#ed7953"
             ],
             [
              0.7777777777777778,
              "#fb9f3a"
             ],
             [
              0.8888888888888888,
              "#fdca26"
             ],
             [
              1,
              "#f0f921"
             ]
            ],
            "type": "histogram2d"
           }
          ],
          "histogram2dcontour": [
           {
            "colorbar": {
             "outlinewidth": 0,
             "ticks": ""
            },
            "colorscale": [
             [
              0,
              "#0d0887"
             ],
             [
              0.1111111111111111,
              "#46039f"
             ],
             [
              0.2222222222222222,
              "#7201a8"
             ],
             [
              0.3333333333333333,
              "#9c179e"
             ],
             [
              0.4444444444444444,
              "#bd3786"
             ],
             [
              0.5555555555555556,
              "#d8576b"
             ],
             [
              0.6666666666666666,
              "#ed7953"
             ],
             [
              0.7777777777777778,
              "#fb9f3a"
             ],
             [
              0.8888888888888888,
              "#fdca26"
             ],
             [
              1,
              "#f0f921"
             ]
            ],
            "type": "histogram2dcontour"
           }
          ],
          "mesh3d": [
           {
            "colorbar": {
             "outlinewidth": 0,
             "ticks": ""
            },
            "type": "mesh3d"
           }
          ],
          "parcoords": [
           {
            "line": {
             "colorbar": {
              "outlinewidth": 0,
              "ticks": ""
             }
            },
            "type": "parcoords"
           }
          ],
          "pie": [
           {
            "automargin": true,
            "type": "pie"
           }
          ],
          "scatter": [
           {
            "marker": {
             "colorbar": {
              "outlinewidth": 0,
              "ticks": ""
             }
            },
            "type": "scatter"
           }
          ],
          "scatter3d": [
           {
            "line": {
             "colorbar": {
              "outlinewidth": 0,
              "ticks": ""
             }
            },
            "marker": {
             "colorbar": {
              "outlinewidth": 0,
              "ticks": ""
             }
            },
            "type": "scatter3d"
           }
          ],
          "scattercarpet": [
           {
            "marker": {
             "colorbar": {
              "outlinewidth": 0,
              "ticks": ""
             }
            },
            "type": "scattercarpet"
           }
          ],
          "scattergeo": [
           {
            "marker": {
             "colorbar": {
              "outlinewidth": 0,
              "ticks": ""
             }
            },
            "type": "scattergeo"
           }
          ],
          "scattergl": [
           {
            "marker": {
             "colorbar": {
              "outlinewidth": 0,
              "ticks": ""
             }
            },
            "type": "scattergl"
           }
          ],
          "scattermapbox": [
           {
            "marker": {
             "colorbar": {
              "outlinewidth": 0,
              "ticks": ""
             }
            },
            "type": "scattermapbox"
           }
          ],
          "scatterpolar": [
           {
            "marker": {
             "colorbar": {
              "outlinewidth": 0,
              "ticks": ""
             }
            },
            "type": "scatterpolar"
           }
          ],
          "scatterpolargl": [
           {
            "marker": {
             "colorbar": {
              "outlinewidth": 0,
              "ticks": ""
             }
            },
            "type": "scatterpolargl"
           }
          ],
          "scatterternary": [
           {
            "marker": {
             "colorbar": {
              "outlinewidth": 0,
              "ticks": ""
             }
            },
            "type": "scatterternary"
           }
          ],
          "surface": [
           {
            "colorbar": {
             "outlinewidth": 0,
             "ticks": ""
            },
            "colorscale": [
             [
              0,
              "#0d0887"
             ],
             [
              0.1111111111111111,
              "#46039f"
             ],
             [
              0.2222222222222222,
              "#7201a8"
             ],
             [
              0.3333333333333333,
              "#9c179e"
             ],
             [
              0.4444444444444444,
              "#bd3786"
             ],
             [
              0.5555555555555556,
              "#d8576b"
             ],
             [
              0.6666666666666666,
              "#ed7953"
             ],
             [
              0.7777777777777778,
              "#fb9f3a"
             ],
             [
              0.8888888888888888,
              "#fdca26"
             ],
             [
              1,
              "#f0f921"
             ]
            ],
            "type": "surface"
           }
          ],
          "table": [
           {
            "cells": {
             "fill": {
              "color": "#EBF0F8"
             },
             "line": {
              "color": "white"
             }
            },
            "header": {
             "fill": {
              "color": "#C8D4E3"
             },
             "line": {
              "color": "white"
             }
            },
            "type": "table"
           }
          ]
         },
         "layout": {
          "annotationdefaults": {
           "arrowcolor": "#2a3f5f",
           "arrowhead": 0,
           "arrowwidth": 1
          },
          "autotypenumbers": "strict",
          "coloraxis": {
           "colorbar": {
            "outlinewidth": 0,
            "ticks": ""
           }
          },
          "colorscale": {
           "diverging": [
            [
             0,
             "#8e0152"
            ],
            [
             0.1,
             "#c51b7d"
            ],
            [
             0.2,
             "#de77ae"
            ],
            [
             0.3,
             "#f1b6da"
            ],
            [
             0.4,
             "#fde0ef"
            ],
            [
             0.5,
             "#f7f7f7"
            ],
            [
             0.6,
             "#e6f5d0"
            ],
            [
             0.7,
             "#b8e186"
            ],
            [
             0.8,
             "#7fbc41"
            ],
            [
             0.9,
             "#4d9221"
            ],
            [
             1,
             "#276419"
            ]
           ],
           "sequential": [
            [
             0,
             "#0d0887"
            ],
            [
             0.1111111111111111,
             "#46039f"
            ],
            [
             0.2222222222222222,
             "#7201a8"
            ],
            [
             0.3333333333333333,
             "#9c179e"
            ],
            [
             0.4444444444444444,
             "#bd3786"
            ],
            [
             0.5555555555555556,
             "#d8576b"
            ],
            [
             0.6666666666666666,
             "#ed7953"
            ],
            [
             0.7777777777777778,
             "#fb9f3a"
            ],
            [
             0.8888888888888888,
             "#fdca26"
            ],
            [
             1,
             "#f0f921"
            ]
           ],
           "sequentialminus": [
            [
             0,
             "#0d0887"
            ],
            [
             0.1111111111111111,
             "#46039f"
            ],
            [
             0.2222222222222222,
             "#7201a8"
            ],
            [
             0.3333333333333333,
             "#9c179e"
            ],
            [
             0.4444444444444444,
             "#bd3786"
            ],
            [
             0.5555555555555556,
             "#d8576b"
            ],
            [
             0.6666666666666666,
             "#ed7953"
            ],
            [
             0.7777777777777778,
             "#fb9f3a"
            ],
            [
             0.8888888888888888,
             "#fdca26"
            ],
            [
             1,
             "#f0f921"
            ]
           ]
          },
          "colorway": [
           "#636efa",
           "#EF553B",
           "#00cc96",
           "#ab63fa",
           "#FFA15A",
           "#19d3f3",
           "#FF6692",
           "#B6E880",
           "#FF97FF",
           "#FECB52"
          ],
          "font": {
           "color": "#2a3f5f"
          },
          "geo": {
           "bgcolor": "white",
           "lakecolor": "white",
           "landcolor": "#E5ECF6",
           "showlakes": true,
           "showland": true,
           "subunitcolor": "white"
          },
          "hoverlabel": {
           "align": "left"
          },
          "hovermode": "closest",
          "mapbox": {
           "style": "light"
          },
          "paper_bgcolor": "white",
          "plot_bgcolor": "#E5ECF6",
          "polar": {
           "angularaxis": {
            "gridcolor": "white",
            "linecolor": "white",
            "ticks": ""
           },
           "bgcolor": "#E5ECF6",
           "radialaxis": {
            "gridcolor": "white",
            "linecolor": "white",
            "ticks": ""
           }
          },
          "scene": {
           "xaxis": {
            "backgroundcolor": "#E5ECF6",
            "gridcolor": "white",
            "gridwidth": 2,
            "linecolor": "white",
            "showbackground": true,
            "ticks": "",
            "zerolinecolor": "white"
           },
           "yaxis": {
            "backgroundcolor": "#E5ECF6",
            "gridcolor": "white",
            "gridwidth": 2,
            "linecolor": "white",
            "showbackground": true,
            "ticks": "",
            "zerolinecolor": "white"
           },
           "zaxis": {
            "backgroundcolor": "#E5ECF6",
            "gridcolor": "white",
            "gridwidth": 2,
            "linecolor": "white",
            "showbackground": true,
            "ticks": "",
            "zerolinecolor": "white"
           }
          },
          "shapedefaults": {
           "line": {
            "color": "#2a3f5f"
           }
          },
          "ternary": {
           "aaxis": {
            "gridcolor": "white",
            "linecolor": "white",
            "ticks": ""
           },
           "baxis": {
            "gridcolor": "white",
            "linecolor": "white",
            "ticks": ""
           },
           "bgcolor": "#E5ECF6",
           "caxis": {
            "gridcolor": "white",
            "linecolor": "white",
            "ticks": ""
           }
          },
          "title": {
           "x": 0.05
          },
          "xaxis": {
           "automargin": true,
           "gridcolor": "white",
           "linecolor": "white",
           "ticks": "",
           "title": {
            "standoff": 15
           },
           "zerolinecolor": "white",
           "zerolinewidth": 2
          },
          "yaxis": {
           "automargin": true,
           "gridcolor": "white",
           "linecolor": "white",
           "ticks": "",
           "title": {
            "standoff": 15
           },
           "zerolinecolor": "white",
           "zerolinewidth": 2
          }
         }
        }
       }
      },
      "text/html": [
       "<div>                            <div id=\"aa490e67-673c-4752-9c62-79e757c037e4\" class=\"plotly-graph-div\" style=\"height:525px; width:100%;\"></div>            <script type=\"text/javascript\">                require([\"plotly\"], function(Plotly) {                    window.PLOTLYENV=window.PLOTLYENV || {};                                    if (document.getElementById(\"aa490e67-673c-4752-9c62-79e757c037e4\")) {                    Plotly.newPlot(                        \"aa490e67-673c-4752-9c62-79e757c037e4\",                        [{\"cells\":{\"align\":\"left\",\"font\":{\"color\":[[\"red\"],[\"green\"],[\"green\"],[\"red\"],[\"green\"],[\"red\"],[\"red\"]]},\"height\":30,\"line\":{\"color\":\"darkslategray\"},\"values\":[-40.6,78.51,56.49,-38.78,22.72,-224.37,-112.41]},\"columnwidth\":[30,30,30],\"header\":{\"align\":\"center\",\"font\":{\"color\":\"black\",\"family\":\"Lato\",\"size\":20},\"height\":30,\"line\":{\"color\":\"darkslategray\"},\"values\":[\"1 days ago\",\"2 days ago\",\"3 days ago\",\"4 days ago\",\"5 days ago\",\"6 days ago\",\"7 days ago\"]},\"type\":\"table\"}],                        {\"template\":{\"data\":{\"bar\":[{\"error_x\":{\"color\":\"#2a3f5f\"},\"error_y\":{\"color\":\"#2a3f5f\"},\"marker\":{\"line\":{\"color\":\"#E5ECF6\",\"width\":0.5},\"pattern\":{\"fillmode\":\"overlay\",\"size\":10,\"solidity\":0.2}},\"type\":\"bar\"}],\"barpolar\":[{\"marker\":{\"line\":{\"color\":\"#E5ECF6\",\"width\":0.5},\"pattern\":{\"fillmode\":\"overlay\",\"size\":10,\"solidity\":0.2}},\"type\":\"barpolar\"}],\"carpet\":[{\"aaxis\":{\"endlinecolor\":\"#2a3f5f\",\"gridcolor\":\"white\",\"linecolor\":\"white\",\"minorgridcolor\":\"white\",\"startlinecolor\":\"#2a3f5f\"},\"baxis\":{\"endlinecolor\":\"#2a3f5f\",\"gridcolor\":\"white\",\"linecolor\":\"white\",\"minorgridcolor\":\"white\",\"startlinecolor\":\"#2a3f5f\"},\"type\":\"carpet\"}],\"choropleth\":[{\"colorbar\":{\"outlinewidth\":0,\"ticks\":\"\"},\"type\":\"choropleth\"}],\"contour\":[{\"colorbar\":{\"outlinewidth\":0,\"ticks\":\"\"},\"colorscale\":[[0.0,\"#0d0887\"],[0.1111111111111111,\"#46039f\"],[0.2222222222222222,\"#7201a8\"],[0.3333333333333333,\"#9c179e\"],[0.4444444444444444,\"#bd3786\"],[0.5555555555555556,\"#d8576b\"],[0.6666666666666666,\"#ed7953\"],[0.7777777777777778,\"#fb9f3a\"],[0.8888888888888888,\"#fdca26\"],[1.0,\"#f0f921\"]],\"type\":\"contour\"}],\"contourcarpet\":[{\"colorbar\":{\"outlinewidth\":0,\"ticks\":\"\"},\"type\":\"contourcarpet\"}],\"heatmap\":[{\"colorbar\":{\"outlinewidth\":0,\"ticks\":\"\"},\"colorscale\":[[0.0,\"#0d0887\"],[0.1111111111111111,\"#46039f\"],[0.2222222222222222,\"#7201a8\"],[0.3333333333333333,\"#9c179e\"],[0.4444444444444444,\"#bd3786\"],[0.5555555555555556,\"#d8576b\"],[0.6666666666666666,\"#ed7953\"],[0.7777777777777778,\"#fb9f3a\"],[0.8888888888888888,\"#fdca26\"],[1.0,\"#f0f921\"]],\"type\":\"heatmap\"}],\"heatmapgl\":[{\"colorbar\":{\"outlinewidth\":0,\"ticks\":\"\"},\"colorscale\":[[0.0,\"#0d0887\"],[0.1111111111111111,\"#46039f\"],[0.2222222222222222,\"#7201a8\"],[0.3333333333333333,\"#9c179e\"],[0.4444444444444444,\"#bd3786\"],[0.5555555555555556,\"#d8576b\"],[0.6666666666666666,\"#ed7953\"],[0.7777777777777778,\"#fb9f3a\"],[0.8888888888888888,\"#fdca26\"],[1.0,\"#f0f921\"]],\"type\":\"heatmapgl\"}],\"histogram\":[{\"marker\":{\"pattern\":{\"fillmode\":\"overlay\",\"size\":10,\"solidity\":0.2}},\"type\":\"histogram\"}],\"histogram2d\":[{\"colorbar\":{\"outlinewidth\":0,\"ticks\":\"\"},\"colorscale\":[[0.0,\"#0d0887\"],[0.1111111111111111,\"#46039f\"],[0.2222222222222222,\"#7201a8\"],[0.3333333333333333,\"#9c179e\"],[0.4444444444444444,\"#bd3786\"],[0.5555555555555556,\"#d8576b\"],[0.6666666666666666,\"#ed7953\"],[0.7777777777777778,\"#fb9f3a\"],[0.8888888888888888,\"#fdca26\"],[1.0,\"#f0f921\"]],\"type\":\"histogram2d\"}],\"histogram2dcontour\":[{\"colorbar\":{\"outlinewidth\":0,\"ticks\":\"\"},\"colorscale\":[[0.0,\"#0d0887\"],[0.1111111111111111,\"#46039f\"],[0.2222222222222222,\"#7201a8\"],[0.3333333333333333,\"#9c179e\"],[0.4444444444444444,\"#bd3786\"],[0.5555555555555556,\"#d8576b\"],[0.6666666666666666,\"#ed7953\"],[0.7777777777777778,\"#fb9f3a\"],[0.8888888888888888,\"#fdca26\"],[1.0,\"#f0f921\"]],\"type\":\"histogram2dcontour\"}],\"mesh3d\":[{\"colorbar\":{\"outlinewidth\":0,\"ticks\":\"\"},\"type\":\"mesh3d\"}],\"parcoords\":[{\"line\":{\"colorbar\":{\"outlinewidth\":0,\"ticks\":\"\"}},\"type\":\"parcoords\"}],\"pie\":[{\"automargin\":true,\"type\":\"pie\"}],\"scatter\":[{\"marker\":{\"colorbar\":{\"outlinewidth\":0,\"ticks\":\"\"}},\"type\":\"scatter\"}],\"scatter3d\":[{\"line\":{\"colorbar\":{\"outlinewidth\":0,\"ticks\":\"\"}},\"marker\":{\"colorbar\":{\"outlinewidth\":0,\"ticks\":\"\"}},\"type\":\"scatter3d\"}],\"scattercarpet\":[{\"marker\":{\"colorbar\":{\"outlinewidth\":0,\"ticks\":\"\"}},\"type\":\"scattercarpet\"}],\"scattergeo\":[{\"marker\":{\"colorbar\":{\"outlinewidth\":0,\"ticks\":\"\"}},\"type\":\"scattergeo\"}],\"scattergl\":[{\"marker\":{\"colorbar\":{\"outlinewidth\":0,\"ticks\":\"\"}},\"type\":\"scattergl\"}],\"scattermapbox\":[{\"marker\":{\"colorbar\":{\"outlinewidth\":0,\"ticks\":\"\"}},\"type\":\"scattermapbox\"}],\"scatterpolar\":[{\"marker\":{\"colorbar\":{\"outlinewidth\":0,\"ticks\":\"\"}},\"type\":\"scatterpolar\"}],\"scatterpolargl\":[{\"marker\":{\"colorbar\":{\"outlinewidth\":0,\"ticks\":\"\"}},\"type\":\"scatterpolargl\"}],\"scatterternary\":[{\"marker\":{\"colorbar\":{\"outlinewidth\":0,\"ticks\":\"\"}},\"type\":\"scatterternary\"}],\"surface\":[{\"colorbar\":{\"outlinewidth\":0,\"ticks\":\"\"},\"colorscale\":[[0.0,\"#0d0887\"],[0.1111111111111111,\"#46039f\"],[0.2222222222222222,\"#7201a8\"],[0.3333333333333333,\"#9c179e\"],[0.4444444444444444,\"#bd3786\"],[0.5555555555555556,\"#d8576b\"],[0.6666666666666666,\"#ed7953\"],[0.7777777777777778,\"#fb9f3a\"],[0.8888888888888888,\"#fdca26\"],[1.0,\"#f0f921\"]],\"type\":\"surface\"}],\"table\":[{\"cells\":{\"fill\":{\"color\":\"#EBF0F8\"},\"line\":{\"color\":\"white\"}},\"header\":{\"fill\":{\"color\":\"#C8D4E3\"},\"line\":{\"color\":\"white\"}},\"type\":\"table\"}]},\"layout\":{\"annotationdefaults\":{\"arrowcolor\":\"#2a3f5f\",\"arrowhead\":0,\"arrowwidth\":1},\"autotypenumbers\":\"strict\",\"coloraxis\":{\"colorbar\":{\"outlinewidth\":0,\"ticks\":\"\"}},\"colorscale\":{\"diverging\":[[0,\"#8e0152\"],[0.1,\"#c51b7d\"],[0.2,\"#de77ae\"],[0.3,\"#f1b6da\"],[0.4,\"#fde0ef\"],[0.5,\"#f7f7f7\"],[0.6,\"#e6f5d0\"],[0.7,\"#b8e186\"],[0.8,\"#7fbc41\"],[0.9,\"#4d9221\"],[1,\"#276419\"]],\"sequential\":[[0.0,\"#0d0887\"],[0.1111111111111111,\"#46039f\"],[0.2222222222222222,\"#7201a8\"],[0.3333333333333333,\"#9c179e\"],[0.4444444444444444,\"#bd3786\"],[0.5555555555555556,\"#d8576b\"],[0.6666666666666666,\"#ed7953\"],[0.7777777777777778,\"#fb9f3a\"],[0.8888888888888888,\"#fdca26\"],[1.0,\"#f0f921\"]],\"sequentialminus\":[[0.0,\"#0d0887\"],[0.1111111111111111,\"#46039f\"],[0.2222222222222222,\"#7201a8\"],[0.3333333333333333,\"#9c179e\"],[0.4444444444444444,\"#bd3786\"],[0.5555555555555556,\"#d8576b\"],[0.6666666666666666,\"#ed7953\"],[0.7777777777777778,\"#fb9f3a\"],[0.8888888888888888,\"#fdca26\"],[1.0,\"#f0f921\"]]},\"colorway\":[\"#636efa\",\"#EF553B\",\"#00cc96\",\"#ab63fa\",\"#FFA15A\",\"#19d3f3\",\"#FF6692\",\"#B6E880\",\"#FF97FF\",\"#FECB52\"],\"font\":{\"color\":\"#2a3f5f\"},\"geo\":{\"bgcolor\":\"white\",\"lakecolor\":\"white\",\"landcolor\":\"#E5ECF6\",\"showlakes\":true,\"showland\":true,\"subunitcolor\":\"white\"},\"hoverlabel\":{\"align\":\"left\"},\"hovermode\":\"closest\",\"mapbox\":{\"style\":\"light\"},\"paper_bgcolor\":\"white\",\"plot_bgcolor\":\"#E5ECF6\",\"polar\":{\"angularaxis\":{\"gridcolor\":\"white\",\"linecolor\":\"white\",\"ticks\":\"\"},\"bgcolor\":\"#E5ECF6\",\"radialaxis\":{\"gridcolor\":\"white\",\"linecolor\":\"white\",\"ticks\":\"\"}},\"scene\":{\"xaxis\":{\"backgroundcolor\":\"#E5ECF6\",\"gridcolor\":\"white\",\"gridwidth\":2,\"linecolor\":\"white\",\"showbackground\":true,\"ticks\":\"\",\"zerolinecolor\":\"white\"},\"yaxis\":{\"backgroundcolor\":\"#E5ECF6\",\"gridcolor\":\"white\",\"gridwidth\":2,\"linecolor\":\"white\",\"showbackground\":true,\"ticks\":\"\",\"zerolinecolor\":\"white\"},\"zaxis\":{\"backgroundcolor\":\"#E5ECF6\",\"gridcolor\":\"white\",\"gridwidth\":2,\"linecolor\":\"white\",\"showbackground\":true,\"ticks\":\"\",\"zerolinecolor\":\"white\"}},\"shapedefaults\":{\"line\":{\"color\":\"#2a3f5f\"}},\"ternary\":{\"aaxis\":{\"gridcolor\":\"white\",\"linecolor\":\"white\",\"ticks\":\"\"},\"baxis\":{\"gridcolor\":\"white\",\"linecolor\":\"white\",\"ticks\":\"\"},\"bgcolor\":\"#E5ECF6\",\"caxis\":{\"gridcolor\":\"white\",\"linecolor\":\"white\",\"ticks\":\"\"}},\"title\":{\"x\":0.05},\"xaxis\":{\"automargin\":true,\"gridcolor\":\"white\",\"linecolor\":\"white\",\"ticks\":\"\",\"title\":{\"standoff\":15},\"zerolinecolor\":\"white\",\"zerolinewidth\":2},\"yaxis\":{\"automargin\":true,\"gridcolor\":\"white\",\"linecolor\":\"white\",\"ticks\":\"\",\"title\":{\"standoff\":15},\"zerolinecolor\":\"white\",\"zerolinewidth\":2}}}},                        {\"responsive\": true}                    ).then(function(){\n",
       "                            \n",
       "var gd = document.getElementById('aa490e67-673c-4752-9c62-79e757c037e4');\n",
       "var x = new MutationObserver(function (mutations, observer) {{\n",
       "        var display = window.getComputedStyle(gd).display;\n",
       "        if (!display || display === 'none') {{\n",
       "            console.log([gd, 'removed!']);\n",
       "            Plotly.purge(gd);\n",
       "            observer.disconnect();\n",
       "        }}\n",
       "}});\n",
       "\n",
       "// Listen for the removal of the full notebook cells\n",
       "var notebookContainer = gd.closest('#notebook-container');\n",
       "if (notebookContainer) {{\n",
       "    x.observe(notebookContainer, {childList: true});\n",
       "}}\n",
       "\n",
       "// Listen for the clearing of the current output cell\n",
       "var outputEl = gd.closest('.output');\n",
       "if (outputEl) {{\n",
       "    x.observe(outputEl, {childList: true});\n",
       "}}\n",
       "\n",
       "                        })                };                });            </script>        </div>"
      ]
     },
     "metadata": {},
     "output_type": "display_data"
    }
   ],
   "source": [
    "import plotly.graph_objects as go\n",
    "from numpy import round\n",
    "\n",
    "fig = go.Figure(data=[go.Table(\n",
    "        columnwidth = [30,30,30],\n",
    "        header=dict(values=[i.replace('_', ' ') for i in df_for_table.T.columns.tolist()],\n",
    "        line_color='darkslategray',\n",
    "        align='center',\n",
    "        font=dict(color='black', family=\"Lato\", size=20),\n",
    "        height=30\n",
    "        ),\n",
    "        cells=dict(values=round(df_for_table.T.values.tolist()[0], 2),\n",
    "               line_color='darkslategray',\n",
    "               align='left',\n",
    "               font_color=[['green' if x > 0 else \"red\" if x < 0 else \"blue\"\n",
    "                            ] for x in df_for_table.values],\n",
    "       height=30\n",
    "       ))\n",
    " ])\n",
    "\n",
    "\n",
    "fig.show()"
   ]
  },
  {
   "cell_type": "markdown",
   "metadata": {},
   "source": [
    "Notice that when we introduce multiple charts, Dash automatically places them one on top of each other. If we want to arrange them differently we need to get into the `dash.html` module."
   ]
  },
  {
   "cell_type": "markdown",
   "metadata": {},
   "source": [
    "Using bootstrap to make our dash adaptive to any screen resolution, we would need to use to use bootstrap and advanced html. In this exercises we will adjust the width and heigth of our charts manually.\n",
    "\n",
    "In case you want to dig deeper in this topic, here you can find more information https://dash-bootstrap-components.opensource.faculty.ai/docs/components/layout/"
   ]
  },
  {
   "cell_type": "code",
   "execution_count": 360,
   "metadata": {},
   "outputs": [],
   "source": [
    "app.layout = \\\n",
    "    html.Div(children=[\n",
    "        html.H1(children='Our amazing risk indicator!', \n",
    "                      style={'textAlign': 'center'}),\n",
    "        #first row\n",
    "        html.Div(children=[\n",
    "            # first row, first column\n",
    "                html.H2(children='Risk indicator #1',style={'textAlign': 'center'}),\n",
    "                dcc.Graph(id='risk_indicator_1',\n",
    "                    figure=px.scatter(df,\n",
    "                    x=df.index, \n",
    "                    y=df.close, \n",
    "                    color_continuous_midpoint=0,\n",
    "                    color=df.risk_indicator_normalized, \n",
    "                    labels={'risk_indicator_normalized':'Risk', 'close':'Closing Price (€)', 'datetime':'Date'},\n",
    "                    color_continuous_scale='RdBu_r',\n",
    "                    width=1000, height=400, ### ADJUST THIS WIDTH AND HEIGHT ACCORDING TO YOUR SCREEN RESOLUTION\n",
    "                         )\n",
    "            )], style={'display':'inline-block'}),\n",
    "            html.Div(children=[\n",
    "            # first row, second column\n",
    "                html.H2(children='Risk indicator #2',style={'textAlign': 'center'}),\n",
    "                dcc.Graph(id='vol_fiat_1',\n",
    "                    figure=px.scatter(df,\n",
    "                    x=df.index,\n",
    "                    y=df.vol_fiat, \n",
    "                    color_continuous_midpoint=0,\n",
    "                    color=df.risk_indicator_normalized, \n",
    "                    labels={'risk_indicator_normalized':'Risk', 'vol_fiat':'Fiat Exchange Volume', 'datetime':'Date'},\n",
    "                    color_continuous_scale='RdBu_r',\n",
    "                    width=800, height=400) ### ADJUST THIS WIDTH AND HEIGHT ACCORDING TO YOUR SCREEN RESOLUTION\n",
    "                        )], style={'display': 'inline-block'}),\n",
    "    html.Div(children=[\n",
    "        # second row\n",
    "        html.Div(children=[\n",
    "                # second row, first column\n",
    "                html.H1(children='Weekly prices', style={'textAlign':'center'}),\n",
    "                dcc.Graph(id='weeklyprices',\n",
    "                          figure=px.line(df_resampled_weekly,\n",
    "                                        x=df_resampled_weekly.index,\n",
    "                                        y=df_resampled_weekly.values,\n",
    "                                        labels={'y':'Price ETH (€)', 'datetime':'Date'}\n",
    "                                        ))\n",
    "            ]),\n",
    "                # second row, second columns\n",
    "                    html.Div(children= [\n",
    "                        dcc.Graph(id='table', \n",
    "                                  figure=go.Figure(data=[go.Table(\n",
    "                                    columnwidth = [30,30,30],\n",
    "                                    header=dict(values=[i.replace('_', ' ') for i in df_for_table.T.columns.tolist()],\n",
    "                                    # fill_color='#b9e2ff',\n",
    "                                    line_color='darkslategray',\n",
    "                                    align='center',\n",
    "                                    font=dict(color='black', family=\"Lato\", size=20),\n",
    "                                    height=30 ### ADJUST THIS WIDTH AND HEIGHT ACCORDING TO YOUR SCREEN RESOLUTION\n",
    "                                    ),\n",
    "                                cells=dict(values=round(df_for_table.T.values.tolist()[0], 2),\n",
    "                                       line_color='darkslategray',\n",
    "                                       align='left',\n",
    "                                       font_color=[['green' if x >0 else       \n",
    "                                       \"red\" if x < 0 else \"blue\"\n",
    "                                       ] for x in df_for_table.values],\n",
    "                                       height=30 ### ADJUST THIS WIDTH AND HEIGHT ACCORDING TO YOUR SCREEN RESOLUTION\n",
    "                                       ))\n",
    "             ]))\n",
    "        ]),        \n",
    "        ])       \n",
    "])"
   ]
  },
  {
   "cell_type": "code",
   "execution_count": 361,
   "metadata": {},
   "outputs": [
    {
     "name": "stderr",
     "output_type": "stream",
     "text": [
      "/Users/franciscoregalado/opt/anaconda3/lib/python3.9/site-packages/jupyter_dash/jupyter_app.py:139: UserWarning:\n",
      "\n",
      "The 'environ['werkzeug.server.shutdown']' function is deprecated and will be removed in Werkzeug 2.1.\n",
      "\n"
     ]
    },
    {
     "name": "stdout",
     "output_type": "stream",
     "text": [
      "Dash app running on http://127.0.0.1:8051/\n"
     ]
    }
   ],
   "source": [
    "app.run_server(mode='external', host = '127.0.0.1', port=8051, debug=True)"
   ]
  },
  {
   "cell_type": "markdown",
   "metadata": {},
   "source": [
    "# Exercise 1:\n",
    "\n",
    "Create the same graphs and dashboards from above, now using the BTC data that we downloaded in the previous notebook: `Coinbase_BTCEUR_dailydata.csv`."
   ]
  },
  {
   "cell_type": "code",
   "execution_count": 362,
   "metadata": {},
   "outputs": [],
   "source": [
    "# First import the libraries that we need to use\n",
    "from pandas import DataFrame, to_datetime\n",
    "import requests\n",
    "import json\n"
   ]
  },
  {
   "cell_type": "code",
   "execution_count": 363,
   "metadata": {},
   "outputs": [],
   "source": [
    "def fetch_daily_data(symbol):\n",
    "\n",
    "    pair_split = symbol.split('/')  # symbol must be in format XXX/XXX ie. BTC/EUR\n",
    "    symbol = pair_split[0] + '-' + pair_split[1]\n",
    "    url = f'https://api.pro.coinbase.com/products/{symbol}/candles?granularity=86400'\n",
    "    response = requests.get(url)\n",
    "    if response.status_code == 200:  # check to make sure the response from server is good\n",
    "        data = DataFrame(json.loads(response.text), columns=['unix', 'low', 'high', 'open', 'close', 'volume'])\n",
    "        data['datetime'] = to_datetime(data['unix'], unit='s')  # convert to a readable date\n",
    "        data['vol_fiat'] = data['volume'] * data['close']      # multiply the BTC volume by closing price to approximate fiat volume\n",
    "\n",
    "        # if we failed to get any data, print an error...otherwise write the file\n",
    "        if data is None:\n",
    "            print(\"Did not return any data from Coinbase for this symbol\")\n",
    "        else:\n",
    "            data.to_csv(f'data/external/Coinbase_{pair_split[0] + pair_split[1]}_dailydata.csv', index=False)\n",
    "\n",
    "    else:\n",
    "        print(\"Did not receieve OK response from Coinbase API\")\n",
    "        "
   ]
  },
  {
   "cell_type": "code",
   "execution_count": 364,
   "metadata": {},
   "outputs": [],
   "source": [
    "fetch_daily_data('BTC/EUR')\n",
    "fetch_daily_data('ETH/EUR')\n",
    "fetch_daily_data('ADA/EUR')\n",
    "fetch_daily_data('SOL/EUR')"
   ]
  },
  {
   "cell_type": "code",
   "execution_count": 365,
   "metadata": {},
   "outputs": [],
   "source": [
    "from pandas import read_csv\n",
    "\n",
    "df_btc = read_csv('data/external/Coinbase_BTCEUR_dailydata.csv', parse_dates=['datetime'])\n",
    "df_eth = read_csv('data/external/Coinbase_ETHEUR_dailydata.csv', parse_dates=['datetime'])\n",
    "df_ada = read_csv('data/external/Coinbase_ADAEUR_dailydata.csv', parse_dates=['datetime'])\n",
    "df_sol = read_csv('data/external/Coinbase_SOLEUR_dailydata.csv', parse_dates=['datetime'])\n",
    "\n",
    "list_dfs = [df_btc, df_eth, df_ada, df_sol]"
   ]
  },
  {
   "cell_type": "code",
   "execution_count": 366,
   "metadata": {},
   "outputs": [],
   "source": [
    "list_coins = ['BTC', 'ETH', 'ADA', 'SOL']\n",
    "count =0 \n",
    "for df in list_dfs:\n",
    "    list_dfs[count]['coin'] = list_coins[count]\n",
    "    count += 1"
   ]
  },
  {
   "cell_type": "code",
   "execution_count": 367,
   "metadata": {},
   "outputs": [
    {
     "data": {
      "text/html": [
       "<div>\n",
       "<style scoped>\n",
       "    .dataframe tbody tr th:only-of-type {\n",
       "        vertical-align: middle;\n",
       "    }\n",
       "\n",
       "    .dataframe tbody tr th {\n",
       "        vertical-align: top;\n",
       "    }\n",
       "\n",
       "    .dataframe thead th {\n",
       "        text-align: right;\n",
       "    }\n",
       "</style>\n",
       "<table border=\"1\" class=\"dataframe\">\n",
       "  <thead>\n",
       "    <tr style=\"text-align: right;\">\n",
       "      <th></th>\n",
       "      <th>unix</th>\n",
       "      <th>low</th>\n",
       "      <th>high</th>\n",
       "      <th>open</th>\n",
       "      <th>close</th>\n",
       "      <th>volume</th>\n",
       "      <th>datetime</th>\n",
       "      <th>vol_fiat</th>\n",
       "      <th>coin</th>\n",
       "    </tr>\n",
       "  </thead>\n",
       "  <tbody>\n",
       "    <tr>\n",
       "      <th>0</th>\n",
       "      <td>1641427200</td>\n",
       "      <td>37550.00</td>\n",
       "      <td>38736.03</td>\n",
       "      <td>38449.22</td>\n",
       "      <td>38050.36</td>\n",
       "      <td>1520.269617</td>\n",
       "      <td>2022-01-06</td>\n",
       "      <td>5.784681e+07</td>\n",
       "      <td>BTC</td>\n",
       "    </tr>\n",
       "    <tr>\n",
       "      <th>1</th>\n",
       "      <td>1641340800</td>\n",
       "      <td>37600.00</td>\n",
       "      <td>41631.74</td>\n",
       "      <td>40623.36</td>\n",
       "      <td>38447.98</td>\n",
       "      <td>2113.026167</td>\n",
       "      <td>2022-01-05</td>\n",
       "      <td>8.124159e+07</td>\n",
       "      <td>BTC</td>\n",
       "    </tr>\n",
       "    <tr>\n",
       "      <th>2</th>\n",
       "      <td>1641254400</td>\n",
       "      <td>40370.71</td>\n",
       "      <td>42100.00</td>\n",
       "      <td>41123.26</td>\n",
       "      <td>40636.22</td>\n",
       "      <td>956.141383</td>\n",
       "      <td>2022-01-04</td>\n",
       "      <td>3.885397e+07</td>\n",
       "      <td>BTC</td>\n",
       "    </tr>\n",
       "    <tr>\n",
       "      <th>3</th>\n",
       "      <td>1641168000</td>\n",
       "      <td>40482.74</td>\n",
       "      <td>41923.25</td>\n",
       "      <td>41635.86</td>\n",
       "      <td>41123.69</td>\n",
       "      <td>736.908892</td>\n",
       "      <td>2022-01-03</td>\n",
       "      <td>3.030441e+07</td>\n",
       "      <td>BTC</td>\n",
       "    </tr>\n",
       "    <tr>\n",
       "      <th>4</th>\n",
       "      <td>1641081600</td>\n",
       "      <td>41066.46</td>\n",
       "      <td>42257.24</td>\n",
       "      <td>42013.43</td>\n",
       "      <td>41650.43</td>\n",
       "      <td>573.807277</td>\n",
       "      <td>2022-01-02</td>\n",
       "      <td>2.389932e+07</td>\n",
       "      <td>BTC</td>\n",
       "    </tr>\n",
       "  </tbody>\n",
       "</table>\n",
       "</div>"
      ],
      "text/plain": [
       "         unix       low      high      open     close       volume   datetime  \\\n",
       "0  1641427200  37550.00  38736.03  38449.22  38050.36  1520.269617 2022-01-06   \n",
       "1  1641340800  37600.00  41631.74  40623.36  38447.98  2113.026167 2022-01-05   \n",
       "2  1641254400  40370.71  42100.00  41123.26  40636.22   956.141383 2022-01-04   \n",
       "3  1641168000  40482.74  41923.25  41635.86  41123.69   736.908892 2022-01-03   \n",
       "4  1641081600  41066.46  42257.24  42013.43  41650.43   573.807277 2022-01-02   \n",
       "\n",
       "       vol_fiat coin  \n",
       "0  5.784681e+07  BTC  \n",
       "1  8.124159e+07  BTC  \n",
       "2  3.885397e+07  BTC  \n",
       "3  3.030441e+07  BTC  \n",
       "4  2.389932e+07  BTC  "
      ]
     },
     "execution_count": 367,
     "metadata": {},
     "output_type": "execute_result"
    }
   ],
   "source": [
    "from pandas import concat\n",
    "\n",
    "data_crypto = concat(list_dfs, axis=0)\n",
    "\n",
    "data_crypto.head()"
   ]
  },
  {
   "cell_type": "code",
   "execution_count": 368,
   "metadata": {},
   "outputs": [],
   "source": [
    "data_grouped_weekly = data_crypto.groupby(['datetime', 'coin']).first()['close'].unstack(1).resample('2W').mean()"
   ]
  },
  {
   "cell_type": "code",
   "execution_count": 369,
   "metadata": {},
   "outputs": [
    {
     "data": {
      "application/vnd.plotly.v1+json": {
       "config": {
        "plotlyServerURL": "https://plot.ly"
       },
       "data": [
        {
         "alignmentgroup": "True",
         "hovertemplate": "coin=ADA<br>datetime=%{x}<br>value=%{y}<extra></extra>",
         "legendgroup": "ADA",
         "marker": {
          "color": "#636efa",
          "pattern": {
           "shape": ""
          }
         },
         "name": "ADA",
         "offsetgroup": "ADA",
         "orientation": "v",
         "showlegend": true,
         "textposition": "auto",
         "type": "bar",
         "x": [
          "2021-03-14T00:00:00",
          "2021-03-28T00:00:00",
          "2021-04-11T00:00:00",
          "2021-04-25T00:00:00",
          "2021-05-09T00:00:00",
          "2021-05-23T00:00:00",
          "2021-06-06T00:00:00",
          "2021-06-20T00:00:00",
          "2021-07-04T00:00:00",
          "2021-07-18T00:00:00",
          "2021-08-01T00:00:00",
          "2021-08-15T00:00:00",
          "2021-08-29T00:00:00",
          "2021-09-12T00:00:00",
          "2021-09-26T00:00:00",
          "2021-10-10T00:00:00",
          "2021-10-24T00:00:00",
          "2021-11-07T00:00:00",
          "2021-11-21T00:00:00",
          "2021-12-05T00:00:00",
          "2021-12-19T00:00:00",
          "2022-01-02T00:00:00",
          "2022-01-16T00:00:00"
         ],
         "xaxis": "x",
         "y": [
          null,
          0.9899090909090908,
          1.0201857142857143,
          1.0673214285714285,
          1.1844714285714286,
          1.4759428571428572,
          1.357314285714286,
          1.25155,
          1.1082857142857143,
          1.0973857142857144,
          1.0429428571428572,
          1.39465,
          2.1712285714285717,
          2.29185,
          1.9570142857142856,
          1.8906714285714286,
          1.8577071428571428,
          1.7327714285714286,
          1.7475857142857143,
          1.414785714285714,
          1.148542857142857,
          1.2169,
          1.1287500000000001
         ],
         "yaxis": "y"
        },
        {
         "alignmentgroup": "True",
         "hovertemplate": "coin=BTC<br>datetime=%{x}<br>value=%{y}<extra></extra>",
         "legendgroup": "BTC",
         "marker": {
          "color": "#EF553B",
          "pattern": {
           "shape": ""
          }
         },
         "name": "BTC",
         "offsetgroup": "BTC",
         "orientation": "v",
         "showlegend": true,
         "textposition": "auto",
         "type": "bar",
         "x": [
          "2021-03-14T00:00:00",
          "2021-03-28T00:00:00",
          "2021-04-11T00:00:00",
          "2021-04-25T00:00:00",
          "2021-05-09T00:00:00",
          "2021-05-23T00:00:00",
          "2021-06-06T00:00:00",
          "2021-06-20T00:00:00",
          "2021-07-04T00:00:00",
          "2021-07-18T00:00:00",
          "2021-08-01T00:00:00",
          "2021-08-15T00:00:00",
          "2021-08-29T00:00:00",
          "2021-09-12T00:00:00",
          "2021-09-26T00:00:00",
          "2021-10-10T00:00:00",
          "2021-10-24T00:00:00",
          "2021-11-07T00:00:00",
          "2021-11-21T00:00:00",
          "2021-12-05T00:00:00",
          "2021-12-19T00:00:00",
          "2022-01-02T00:00:00",
          "2022-01-16T00:00:00"
         ],
         "xaxis": "x",
         "y": [
          49787.985,
          47056.20857142857,
          49407.51857142857,
          47384.10071428572,
          46623.24,
          36935.63071428572,
          30487.47357142857,
          30645.943571428572,
          28439.84,
          27861.990714285716,
          30751.93857142857,
          37139.96928571429,
          40719.977857142854,
          40541.73142857143,
          38433.44285714285,
          42235.44928571429,
          52234.368571428575,
          53190.80142857142,
          54880.534999999996,
          49207.46785714286,
          42859.44142857142,
          42922.47785714286,
          39564.5625
         ],
         "yaxis": "y"
        },
        {
         "alignmentgroup": "True",
         "hovertemplate": "coin=ETH<br>datetime=%{x}<br>value=%{y}<extra></extra>",
         "legendgroup": "ETH",
         "marker": {
          "color": "#00cc96",
          "pattern": {
           "shape": ""
          }
         },
         "name": "ETH",
         "offsetgroup": "ETH",
         "orientation": "v",
         "showlegend": true,
         "textposition": "auto",
         "type": "bar",
         "x": [
          "2021-03-14T00:00:00",
          "2021-03-28T00:00:00",
          "2021-04-11T00:00:00",
          "2021-04-25T00:00:00",
          "2021-05-09T00:00:00",
          "2021-05-23T00:00:00",
          "2021-06-06T00:00:00",
          "2021-06-20T00:00:00",
          "2021-07-04T00:00:00",
          "2021-07-18T00:00:00",
          "2021-08-01T00:00:00",
          "2021-08-15T00:00:00",
          "2021-08-29T00:00:00",
          "2021-09-12T00:00:00",
          "2021-09-26T00:00:00",
          "2021-10-10T00:00:00",
          "2021-10-24T00:00:00",
          "2021-11-07T00:00:00",
          "2021-11-21T00:00:00",
          "2021-12-05T00:00:00",
          "2021-12-19T00:00:00",
          "2022-01-02T00:00:00",
          "2022-01-16T00:00:00"
         ],
         "xaxis": "x",
         "y": [
          1560.625,
          1458.59,
          1715.607142857143,
          1937.885,
          2623.665,
          2686.737857142857,
          2169.652857142857,
          2010.8885714285714,
          1722.2164285714284,
          1745.32,
          1866.8292857142858,
          2553.572142857143,
          2717.777857142857,
          3029.684285714286,
          2734.7935714285713,
          2851.1185714285716,
          3322.075714285714,
          3779.309285714286,
          3940.4385714285713,
          3825.1192857142855,
          3590.2128571428575,
          3451.1521428571427,
          3212.0525
         ],
         "yaxis": "y"
        },
        {
         "alignmentgroup": "True",
         "hovertemplate": "coin=SOL<br>datetime=%{x}<br>value=%{y}<extra></extra>",
         "legendgroup": "SOL",
         "marker": {
          "color": "#ab63fa",
          "pattern": {
           "shape": ""
          }
         },
         "name": "SOL",
         "offsetgroup": "SOL",
         "orientation": "v",
         "showlegend": true,
         "textposition": "auto",
         "type": "bar",
         "x": [
          "2021-03-14T00:00:00",
          "2021-03-28T00:00:00",
          "2021-04-11T00:00:00",
          "2021-04-25T00:00:00",
          "2021-05-09T00:00:00",
          "2021-05-23T00:00:00",
          "2021-06-06T00:00:00",
          "2021-06-20T00:00:00",
          "2021-07-04T00:00:00",
          "2021-07-18T00:00:00",
          "2021-08-01T00:00:00",
          "2021-08-15T00:00:00",
          "2021-08-29T00:00:00",
          "2021-09-12T00:00:00",
          "2021-09-26T00:00:00",
          "2021-10-10T00:00:00",
          "2021-10-24T00:00:00",
          "2021-11-07T00:00:00",
          "2021-11-21T00:00:00",
          "2021-12-05T00:00:00",
          "2021-12-19T00:00:00",
          "2022-01-02T00:00:00",
          "2022-01-16T00:00:00"
         ],
         "xaxis": "x",
         "y": [
          null,
          null,
          null,
          null,
          null,
          null,
          null,
          30.916249999999998,
          26.648142857142858,
          26.172500000000003,
          24.537857142857142,
          34.05435714285714,
          65.03407142857142,
          128.77349999999998,
          126.19807142857142,
          132.46971428571428,
          144.61742857142858,
          187.99242857142858,
          200.48485714285715,
          185.321,
          157.1697142857143,
          160.55714285714288,
          142.5875
         ],
         "yaxis": "y"
        }
       ],
       "layout": {
        "barmode": "group",
        "legend": {
         "title": {
          "text": "coin"
         },
         "tracegroupgap": 0
        },
        "margin": {
         "t": 60
        },
        "template": {
         "data": {
          "bar": [
           {
            "error_x": {
             "color": "#2a3f5f"
            },
            "error_y": {
             "color": "#2a3f5f"
            },
            "marker": {
             "line": {
              "color": "#E5ECF6",
              "width": 0.5
             },
             "pattern": {
              "fillmode": "overlay",
              "size": 10,
              "solidity": 0.2
             }
            },
            "type": "bar"
           }
          ],
          "barpolar": [
           {
            "marker": {
             "line": {
              "color": "#E5ECF6",
              "width": 0.5
             },
             "pattern": {
              "fillmode": "overlay",
              "size": 10,
              "solidity": 0.2
             }
            },
            "type": "barpolar"
           }
          ],
          "carpet": [
           {
            "aaxis": {
             "endlinecolor": "#2a3f5f",
             "gridcolor": "white",
             "linecolor": "white",
             "minorgridcolor": "white",
             "startlinecolor": "#2a3f5f"
            },
            "baxis": {
             "endlinecolor": "#2a3f5f",
             "gridcolor": "white",
             "linecolor": "white",
             "minorgridcolor": "white",
             "startlinecolor": "#2a3f5f"
            },
            "type": "carpet"
           }
          ],
          "choropleth": [
           {
            "colorbar": {
             "outlinewidth": 0,
             "ticks": ""
            },
            "type": "choropleth"
           }
          ],
          "contour": [
           {
            "colorbar": {
             "outlinewidth": 0,
             "ticks": ""
            },
            "colorscale": [
             [
              0,
              "#0d0887"
             ],
             [
              0.1111111111111111,
              "#46039f"
             ],
             [
              0.2222222222222222,
              "#7201a8"
             ],
             [
              0.3333333333333333,
              "#9c179e"
             ],
             [
              0.4444444444444444,
              "#bd3786"
             ],
             [
              0.5555555555555556,
              "#d8576b"
             ],
             [
              0.6666666666666666,
              "#ed7953"
             ],
             [
              0.7777777777777778,
              "#fb9f3a"
             ],
             [
              0.8888888888888888,
              "#fdca26"
             ],
             [
              1,
              "#f0f921"
             ]
            ],
            "type": "contour"
           }
          ],
          "contourcarpet": [
           {
            "colorbar": {
             "outlinewidth": 0,
             "ticks": ""
            },
            "type": "contourcarpet"
           }
          ],
          "heatmap": [
           {
            "colorbar": {
             "outlinewidth": 0,
             "ticks": ""
            },
            "colorscale": [
             [
              0,
              "#0d0887"
             ],
             [
              0.1111111111111111,
              "#46039f"
             ],
             [
              0.2222222222222222,
              "#7201a8"
             ],
             [
              0.3333333333333333,
              "#9c179e"
             ],
             [
              0.4444444444444444,
              "#bd3786"
             ],
             [
              0.5555555555555556,
              "#d8576b"
             ],
             [
              0.6666666666666666,
              "#ed7953"
             ],
             [
              0.7777777777777778,
              "#fb9f3a"
             ],
             [
              0.8888888888888888,
              "#fdca26"
             ],
             [
              1,
              "#f0f921"
             ]
            ],
            "type": "heatmap"
           }
          ],
          "heatmapgl": [
           {
            "colorbar": {
             "outlinewidth": 0,
             "ticks": ""
            },
            "colorscale": [
             [
              0,
              "#0d0887"
             ],
             [
              0.1111111111111111,
              "#46039f"
             ],
             [
              0.2222222222222222,
              "#7201a8"
             ],
             [
              0.3333333333333333,
              "#9c179e"
             ],
             [
              0.4444444444444444,
              "#bd3786"
             ],
             [
              0.5555555555555556,
              "#d8576b"
             ],
             [
              0.6666666666666666,
              "#ed7953"
             ],
             [
              0.7777777777777778,
              "#fb9f3a"
             ],
             [
              0.8888888888888888,
              "#fdca26"
             ],
             [
              1,
              "#f0f921"
             ]
            ],
            "type": "heatmapgl"
           }
          ],
          "histogram": [
           {
            "marker": {
             "pattern": {
              "fillmode": "overlay",
              "size": 10,
              "solidity": 0.2
             }
            },
            "type": "histogram"
           }
          ],
          "histogram2d": [
           {
            "colorbar": {
             "outlinewidth": 0,
             "ticks": ""
            },
            "colorscale": [
             [
              0,
              "#0d0887"
             ],
             [
              0.1111111111111111,
              "#46039f"
             ],
             [
              0.2222222222222222,
              "#7201a8"
             ],
             [
              0.3333333333333333,
              "#9c179e"
             ],
             [
              0.4444444444444444,
              "#bd3786"
             ],
             [
              0.5555555555555556,
              "#d8576b"
             ],
             [
              0.6666666666666666,
              "#ed7953"
             ],
             [
              0.7777777777777778,
              "#fb9f3a"
             ],
             [
              0.8888888888888888,
              "#fdca26"
             ],
             [
              1,
              "#f0f921"
             ]
            ],
            "type": "histogram2d"
           }
          ],
          "histogram2dcontour": [
           {
            "colorbar": {
             "outlinewidth": 0,
             "ticks": ""
            },
            "colorscale": [
             [
              0,
              "#0d0887"
             ],
             [
              0.1111111111111111,
              "#46039f"
             ],
             [
              0.2222222222222222,
              "#7201a8"
             ],
             [
              0.3333333333333333,
              "#9c179e"
             ],
             [
              0.4444444444444444,
              "#bd3786"
             ],
             [
              0.5555555555555556,
              "#d8576b"
             ],
             [
              0.6666666666666666,
              "#ed7953"
             ],
             [
              0.7777777777777778,
              "#fb9f3a"
             ],
             [
              0.8888888888888888,
              "#fdca26"
             ],
             [
              1,
              "#f0f921"
             ]
            ],
            "type": "histogram2dcontour"
           }
          ],
          "mesh3d": [
           {
            "colorbar": {
             "outlinewidth": 0,
             "ticks": ""
            },
            "type": "mesh3d"
           }
          ],
          "parcoords": [
           {
            "line": {
             "colorbar": {
              "outlinewidth": 0,
              "ticks": ""
             }
            },
            "type": "parcoords"
           }
          ],
          "pie": [
           {
            "automargin": true,
            "type": "pie"
           }
          ],
          "scatter": [
           {
            "marker": {
             "colorbar": {
              "outlinewidth": 0,
              "ticks": ""
             }
            },
            "type": "scatter"
           }
          ],
          "scatter3d": [
           {
            "line": {
             "colorbar": {
              "outlinewidth": 0,
              "ticks": ""
             }
            },
            "marker": {
             "colorbar": {
              "outlinewidth": 0,
              "ticks": ""
             }
            },
            "type": "scatter3d"
           }
          ],
          "scattercarpet": [
           {
            "marker": {
             "colorbar": {
              "outlinewidth": 0,
              "ticks": ""
             }
            },
            "type": "scattercarpet"
           }
          ],
          "scattergeo": [
           {
            "marker": {
             "colorbar": {
              "outlinewidth": 0,
              "ticks": ""
             }
            },
            "type": "scattergeo"
           }
          ],
          "scattergl": [
           {
            "marker": {
             "colorbar": {
              "outlinewidth": 0,
              "ticks": ""
             }
            },
            "type": "scattergl"
           }
          ],
          "scattermapbox": [
           {
            "marker": {
             "colorbar": {
              "outlinewidth": 0,
              "ticks": ""
             }
            },
            "type": "scattermapbox"
           }
          ],
          "scatterpolar": [
           {
            "marker": {
             "colorbar": {
              "outlinewidth": 0,
              "ticks": ""
             }
            },
            "type": "scatterpolar"
           }
          ],
          "scatterpolargl": [
           {
            "marker": {
             "colorbar": {
              "outlinewidth": 0,
              "ticks": ""
             }
            },
            "type": "scatterpolargl"
           }
          ],
          "scatterternary": [
           {
            "marker": {
             "colorbar": {
              "outlinewidth": 0,
              "ticks": ""
             }
            },
            "type": "scatterternary"
           }
          ],
          "surface": [
           {
            "colorbar": {
             "outlinewidth": 0,
             "ticks": ""
            },
            "colorscale": [
             [
              0,
              "#0d0887"
             ],
             [
              0.1111111111111111,
              "#46039f"
             ],
             [
              0.2222222222222222,
              "#7201a8"
             ],
             [
              0.3333333333333333,
              "#9c179e"
             ],
             [
              0.4444444444444444,
              "#bd3786"
             ],
             [
              0.5555555555555556,
              "#d8576b"
             ],
             [
              0.6666666666666666,
              "#ed7953"
             ],
             [
              0.7777777777777778,
              "#fb9f3a"
             ],
             [
              0.8888888888888888,
              "#fdca26"
             ],
             [
              1,
              "#f0f921"
             ]
            ],
            "type": "surface"
           }
          ],
          "table": [
           {
            "cells": {
             "fill": {
              "color": "#EBF0F8"
             },
             "line": {
              "color": "white"
             }
            },
            "header": {
             "fill": {
              "color": "#C8D4E3"
             },
             "line": {
              "color": "white"
             }
            },
            "type": "table"
           }
          ]
         },
         "layout": {
          "annotationdefaults": {
           "arrowcolor": "#2a3f5f",
           "arrowhead": 0,
           "arrowwidth": 1
          },
          "autotypenumbers": "strict",
          "coloraxis": {
           "colorbar": {
            "outlinewidth": 0,
            "ticks": ""
           }
          },
          "colorscale": {
           "diverging": [
            [
             0,
             "#8e0152"
            ],
            [
             0.1,
             "#c51b7d"
            ],
            [
             0.2,
             "#de77ae"
            ],
            [
             0.3,
             "#f1b6da"
            ],
            [
             0.4,
             "#fde0ef"
            ],
            [
             0.5,
             "#f7f7f7"
            ],
            [
             0.6,
             "#e6f5d0"
            ],
            [
             0.7,
             "#b8e186"
            ],
            [
             0.8,
             "#7fbc41"
            ],
            [
             0.9,
             "#4d9221"
            ],
            [
             1,
             "#276419"
            ]
           ],
           "sequential": [
            [
             0,
             "#0d0887"
            ],
            [
             0.1111111111111111,
             "#46039f"
            ],
            [
             0.2222222222222222,
             "#7201a8"
            ],
            [
             0.3333333333333333,
             "#9c179e"
            ],
            [
             0.4444444444444444,
             "#bd3786"
            ],
            [
             0.5555555555555556,
             "#d8576b"
            ],
            [
             0.6666666666666666,
             "#ed7953"
            ],
            [
             0.7777777777777778,
             "#fb9f3a"
            ],
            [
             0.8888888888888888,
             "#fdca26"
            ],
            [
             1,
             "#f0f921"
            ]
           ],
           "sequentialminus": [
            [
             0,
             "#0d0887"
            ],
            [
             0.1111111111111111,
             "#46039f"
            ],
            [
             0.2222222222222222,
             "#7201a8"
            ],
            [
             0.3333333333333333,
             "#9c179e"
            ],
            [
             0.4444444444444444,
             "#bd3786"
            ],
            [
             0.5555555555555556,
             "#d8576b"
            ],
            [
             0.6666666666666666,
             "#ed7953"
            ],
            [
             0.7777777777777778,
             "#fb9f3a"
            ],
            [
             0.8888888888888888,
             "#fdca26"
            ],
            [
             1,
             "#f0f921"
            ]
           ]
          },
          "colorway": [
           "#636efa",
           "#EF553B",
           "#00cc96",
           "#ab63fa",
           "#FFA15A",
           "#19d3f3",
           "#FF6692",
           "#B6E880",
           "#FF97FF",
           "#FECB52"
          ],
          "font": {
           "color": "#2a3f5f"
          },
          "geo": {
           "bgcolor": "white",
           "lakecolor": "white",
           "landcolor": "#E5ECF6",
           "showlakes": true,
           "showland": true,
           "subunitcolor": "white"
          },
          "hoverlabel": {
           "align": "left"
          },
          "hovermode": "closest",
          "mapbox": {
           "style": "light"
          },
          "paper_bgcolor": "white",
          "plot_bgcolor": "#E5ECF6",
          "polar": {
           "angularaxis": {
            "gridcolor": "white",
            "linecolor": "white",
            "ticks": ""
           },
           "bgcolor": "#E5ECF6",
           "radialaxis": {
            "gridcolor": "white",
            "linecolor": "white",
            "ticks": ""
           }
          },
          "scene": {
           "xaxis": {
            "backgroundcolor": "#E5ECF6",
            "gridcolor": "white",
            "gridwidth": 2,
            "linecolor": "white",
            "showbackground": true,
            "ticks": "",
            "zerolinecolor": "white"
           },
           "yaxis": {
            "backgroundcolor": "#E5ECF6",
            "gridcolor": "white",
            "gridwidth": 2,
            "linecolor": "white",
            "showbackground": true,
            "ticks": "",
            "zerolinecolor": "white"
           },
           "zaxis": {
            "backgroundcolor": "#E5ECF6",
            "gridcolor": "white",
            "gridwidth": 2,
            "linecolor": "white",
            "showbackground": true,
            "ticks": "",
            "zerolinecolor": "white"
           }
          },
          "shapedefaults": {
           "line": {
            "color": "#2a3f5f"
           }
          },
          "ternary": {
           "aaxis": {
            "gridcolor": "white",
            "linecolor": "white",
            "ticks": ""
           },
           "baxis": {
            "gridcolor": "white",
            "linecolor": "white",
            "ticks": ""
           },
           "bgcolor": "#E5ECF6",
           "caxis": {
            "gridcolor": "white",
            "linecolor": "white",
            "ticks": ""
           }
          },
          "title": {
           "x": 0.05
          },
          "xaxis": {
           "automargin": true,
           "gridcolor": "white",
           "linecolor": "white",
           "ticks": "",
           "title": {
            "standoff": 15
           },
           "zerolinecolor": "white",
           "zerolinewidth": 2
          },
          "yaxis": {
           "automargin": true,
           "gridcolor": "white",
           "linecolor": "white",
           "ticks": "",
           "title": {
            "standoff": 15
           },
           "zerolinecolor": "white",
           "zerolinewidth": 2
          }
         }
        },
        "xaxis": {
         "anchor": "y",
         "domain": [
          0,
          1
         ],
         "title": {
          "text": "datetime"
         }
        },
        "yaxis": {
         "anchor": "x",
         "domain": [
          0,
          1
         ],
         "title": {
          "text": "value"
         }
        }
       }
      },
      "text/html": [
       "<div>                            <div id=\"d34644a1-1734-4871-ae4f-91df24172a0c\" class=\"plotly-graph-div\" style=\"height:525px; width:100%;\"></div>            <script type=\"text/javascript\">                require([\"plotly\"], function(Plotly) {                    window.PLOTLYENV=window.PLOTLYENV || {};                                    if (document.getElementById(\"d34644a1-1734-4871-ae4f-91df24172a0c\")) {                    Plotly.newPlot(                        \"d34644a1-1734-4871-ae4f-91df24172a0c\",                        [{\"alignmentgroup\":\"True\",\"hovertemplate\":\"coin=ADA<br>datetime=%{x}<br>value=%{y}<extra></extra>\",\"legendgroup\":\"ADA\",\"marker\":{\"color\":\"#636efa\",\"pattern\":{\"shape\":\"\"}},\"name\":\"ADA\",\"offsetgroup\":\"ADA\",\"orientation\":\"v\",\"showlegend\":true,\"textposition\":\"auto\",\"x\":[\"2021-03-14T00:00:00\",\"2021-03-28T00:00:00\",\"2021-04-11T00:00:00\",\"2021-04-25T00:00:00\",\"2021-05-09T00:00:00\",\"2021-05-23T00:00:00\",\"2021-06-06T00:00:00\",\"2021-06-20T00:00:00\",\"2021-07-04T00:00:00\",\"2021-07-18T00:00:00\",\"2021-08-01T00:00:00\",\"2021-08-15T00:00:00\",\"2021-08-29T00:00:00\",\"2021-09-12T00:00:00\",\"2021-09-26T00:00:00\",\"2021-10-10T00:00:00\",\"2021-10-24T00:00:00\",\"2021-11-07T00:00:00\",\"2021-11-21T00:00:00\",\"2021-12-05T00:00:00\",\"2021-12-19T00:00:00\",\"2022-01-02T00:00:00\",\"2022-01-16T00:00:00\"],\"xaxis\":\"x\",\"y\":[null,0.9899090909090908,1.0201857142857143,1.0673214285714285,1.1844714285714286,1.4759428571428572,1.357314285714286,1.25155,1.1082857142857143,1.0973857142857144,1.0429428571428572,1.39465,2.1712285714285717,2.29185,1.9570142857142856,1.8906714285714286,1.8577071428571428,1.7327714285714286,1.7475857142857143,1.414785714285714,1.148542857142857,1.2169,1.1287500000000001],\"yaxis\":\"y\",\"type\":\"bar\"},{\"alignmentgroup\":\"True\",\"hovertemplate\":\"coin=BTC<br>datetime=%{x}<br>value=%{y}<extra></extra>\",\"legendgroup\":\"BTC\",\"marker\":{\"color\":\"#EF553B\",\"pattern\":{\"shape\":\"\"}},\"name\":\"BTC\",\"offsetgroup\":\"BTC\",\"orientation\":\"v\",\"showlegend\":true,\"textposition\":\"auto\",\"x\":[\"2021-03-14T00:00:00\",\"2021-03-28T00:00:00\",\"2021-04-11T00:00:00\",\"2021-04-25T00:00:00\",\"2021-05-09T00:00:00\",\"2021-05-23T00:00:00\",\"2021-06-06T00:00:00\",\"2021-06-20T00:00:00\",\"2021-07-04T00:00:00\",\"2021-07-18T00:00:00\",\"2021-08-01T00:00:00\",\"2021-08-15T00:00:00\",\"2021-08-29T00:00:00\",\"2021-09-12T00:00:00\",\"2021-09-26T00:00:00\",\"2021-10-10T00:00:00\",\"2021-10-24T00:00:00\",\"2021-11-07T00:00:00\",\"2021-11-21T00:00:00\",\"2021-12-05T00:00:00\",\"2021-12-19T00:00:00\",\"2022-01-02T00:00:00\",\"2022-01-16T00:00:00\"],\"xaxis\":\"x\",\"y\":[49787.985,47056.20857142857,49407.51857142857,47384.10071428572,46623.24,36935.63071428572,30487.47357142857,30645.943571428572,28439.84,27861.990714285716,30751.93857142857,37139.96928571429,40719.977857142854,40541.73142857143,38433.44285714285,42235.44928571429,52234.368571428575,53190.80142857142,54880.534999999996,49207.46785714286,42859.44142857142,42922.47785714286,39564.5625],\"yaxis\":\"y\",\"type\":\"bar\"},{\"alignmentgroup\":\"True\",\"hovertemplate\":\"coin=ETH<br>datetime=%{x}<br>value=%{y}<extra></extra>\",\"legendgroup\":\"ETH\",\"marker\":{\"color\":\"#00cc96\",\"pattern\":{\"shape\":\"\"}},\"name\":\"ETH\",\"offsetgroup\":\"ETH\",\"orientation\":\"v\",\"showlegend\":true,\"textposition\":\"auto\",\"x\":[\"2021-03-14T00:00:00\",\"2021-03-28T00:00:00\",\"2021-04-11T00:00:00\",\"2021-04-25T00:00:00\",\"2021-05-09T00:00:00\",\"2021-05-23T00:00:00\",\"2021-06-06T00:00:00\",\"2021-06-20T00:00:00\",\"2021-07-04T00:00:00\",\"2021-07-18T00:00:00\",\"2021-08-01T00:00:00\",\"2021-08-15T00:00:00\",\"2021-08-29T00:00:00\",\"2021-09-12T00:00:00\",\"2021-09-26T00:00:00\",\"2021-10-10T00:00:00\",\"2021-10-24T00:00:00\",\"2021-11-07T00:00:00\",\"2021-11-21T00:00:00\",\"2021-12-05T00:00:00\",\"2021-12-19T00:00:00\",\"2022-01-02T00:00:00\",\"2022-01-16T00:00:00\"],\"xaxis\":\"x\",\"y\":[1560.625,1458.59,1715.607142857143,1937.885,2623.665,2686.737857142857,2169.652857142857,2010.8885714285714,1722.2164285714284,1745.32,1866.8292857142858,2553.572142857143,2717.777857142857,3029.684285714286,2734.7935714285713,2851.1185714285716,3322.075714285714,3779.309285714286,3940.4385714285713,3825.1192857142855,3590.2128571428575,3451.1521428571427,3212.0525],\"yaxis\":\"y\",\"type\":\"bar\"},{\"alignmentgroup\":\"True\",\"hovertemplate\":\"coin=SOL<br>datetime=%{x}<br>value=%{y}<extra></extra>\",\"legendgroup\":\"SOL\",\"marker\":{\"color\":\"#ab63fa\",\"pattern\":{\"shape\":\"\"}},\"name\":\"SOL\",\"offsetgroup\":\"SOL\",\"orientation\":\"v\",\"showlegend\":true,\"textposition\":\"auto\",\"x\":[\"2021-03-14T00:00:00\",\"2021-03-28T00:00:00\",\"2021-04-11T00:00:00\",\"2021-04-25T00:00:00\",\"2021-05-09T00:00:00\",\"2021-05-23T00:00:00\",\"2021-06-06T00:00:00\",\"2021-06-20T00:00:00\",\"2021-07-04T00:00:00\",\"2021-07-18T00:00:00\",\"2021-08-01T00:00:00\",\"2021-08-15T00:00:00\",\"2021-08-29T00:00:00\",\"2021-09-12T00:00:00\",\"2021-09-26T00:00:00\",\"2021-10-10T00:00:00\",\"2021-10-24T00:00:00\",\"2021-11-07T00:00:00\",\"2021-11-21T00:00:00\",\"2021-12-05T00:00:00\",\"2021-12-19T00:00:00\",\"2022-01-02T00:00:00\",\"2022-01-16T00:00:00\"],\"xaxis\":\"x\",\"y\":[null,null,null,null,null,null,null,30.916249999999998,26.648142857142858,26.172500000000003,24.537857142857142,34.05435714285714,65.03407142857142,128.77349999999998,126.19807142857142,132.46971428571428,144.61742857142858,187.99242857142858,200.48485714285715,185.321,157.1697142857143,160.55714285714288,142.5875],\"yaxis\":\"y\",\"type\":\"bar\"}],                        {\"template\":{\"data\":{\"bar\":[{\"error_x\":{\"color\":\"#2a3f5f\"},\"error_y\":{\"color\":\"#2a3f5f\"},\"marker\":{\"line\":{\"color\":\"#E5ECF6\",\"width\":0.5},\"pattern\":{\"fillmode\":\"overlay\",\"size\":10,\"solidity\":0.2}},\"type\":\"bar\"}],\"barpolar\":[{\"marker\":{\"line\":{\"color\":\"#E5ECF6\",\"width\":0.5},\"pattern\":{\"fillmode\":\"overlay\",\"size\":10,\"solidity\":0.2}},\"type\":\"barpolar\"}],\"carpet\":[{\"aaxis\":{\"endlinecolor\":\"#2a3f5f\",\"gridcolor\":\"white\",\"linecolor\":\"white\",\"minorgridcolor\":\"white\",\"startlinecolor\":\"#2a3f5f\"},\"baxis\":{\"endlinecolor\":\"#2a3f5f\",\"gridcolor\":\"white\",\"linecolor\":\"white\",\"minorgridcolor\":\"white\",\"startlinecolor\":\"#2a3f5f\"},\"type\":\"carpet\"}],\"choropleth\":[{\"colorbar\":{\"outlinewidth\":0,\"ticks\":\"\"},\"type\":\"choropleth\"}],\"contour\":[{\"colorbar\":{\"outlinewidth\":0,\"ticks\":\"\"},\"colorscale\":[[0.0,\"#0d0887\"],[0.1111111111111111,\"#46039f\"],[0.2222222222222222,\"#7201a8\"],[0.3333333333333333,\"#9c179e\"],[0.4444444444444444,\"#bd3786\"],[0.5555555555555556,\"#d8576b\"],[0.6666666666666666,\"#ed7953\"],[0.7777777777777778,\"#fb9f3a\"],[0.8888888888888888,\"#fdca26\"],[1.0,\"#f0f921\"]],\"type\":\"contour\"}],\"contourcarpet\":[{\"colorbar\":{\"outlinewidth\":0,\"ticks\":\"\"},\"type\":\"contourcarpet\"}],\"heatmap\":[{\"colorbar\":{\"outlinewidth\":0,\"ticks\":\"\"},\"colorscale\":[[0.0,\"#0d0887\"],[0.1111111111111111,\"#46039f\"],[0.2222222222222222,\"#7201a8\"],[0.3333333333333333,\"#9c179e\"],[0.4444444444444444,\"#bd3786\"],[0.5555555555555556,\"#d8576b\"],[0.6666666666666666,\"#ed7953\"],[0.7777777777777778,\"#fb9f3a\"],[0.8888888888888888,\"#fdca26\"],[1.0,\"#f0f921\"]],\"type\":\"heatmap\"}],\"heatmapgl\":[{\"colorbar\":{\"outlinewidth\":0,\"ticks\":\"\"},\"colorscale\":[[0.0,\"#0d0887\"],[0.1111111111111111,\"#46039f\"],[0.2222222222222222,\"#7201a8\"],[0.3333333333333333,\"#9c179e\"],[0.4444444444444444,\"#bd3786\"],[0.5555555555555556,\"#d8576b\"],[0.6666666666666666,\"#ed7953\"],[0.7777777777777778,\"#fb9f3a\"],[0.8888888888888888,\"#fdca26\"],[1.0,\"#f0f921\"]],\"type\":\"heatmapgl\"}],\"histogram\":[{\"marker\":{\"pattern\":{\"fillmode\":\"overlay\",\"size\":10,\"solidity\":0.2}},\"type\":\"histogram\"}],\"histogram2d\":[{\"colorbar\":{\"outlinewidth\":0,\"ticks\":\"\"},\"colorscale\":[[0.0,\"#0d0887\"],[0.1111111111111111,\"#46039f\"],[0.2222222222222222,\"#7201a8\"],[0.3333333333333333,\"#9c179e\"],[0.4444444444444444,\"#bd3786\"],[0.5555555555555556,\"#d8576b\"],[0.6666666666666666,\"#ed7953\"],[0.7777777777777778,\"#fb9f3a\"],[0.8888888888888888,\"#fdca26\"],[1.0,\"#f0f921\"]],\"type\":\"histogram2d\"}],\"histogram2dcontour\":[{\"colorbar\":{\"outlinewidth\":0,\"ticks\":\"\"},\"colorscale\":[[0.0,\"#0d0887\"],[0.1111111111111111,\"#46039f\"],[0.2222222222222222,\"#7201a8\"],[0.3333333333333333,\"#9c179e\"],[0.4444444444444444,\"#bd3786\"],[0.5555555555555556,\"#d8576b\"],[0.6666666666666666,\"#ed7953\"],[0.7777777777777778,\"#fb9f3a\"],[0.8888888888888888,\"#fdca26\"],[1.0,\"#f0f921\"]],\"type\":\"histogram2dcontour\"}],\"mesh3d\":[{\"colorbar\":{\"outlinewidth\":0,\"ticks\":\"\"},\"type\":\"mesh3d\"}],\"parcoords\":[{\"line\":{\"colorbar\":{\"outlinewidth\":0,\"ticks\":\"\"}},\"type\":\"parcoords\"}],\"pie\":[{\"automargin\":true,\"type\":\"pie\"}],\"scatter\":[{\"marker\":{\"colorbar\":{\"outlinewidth\":0,\"ticks\":\"\"}},\"type\":\"scatter\"}],\"scatter3d\":[{\"line\":{\"colorbar\":{\"outlinewidth\":0,\"ticks\":\"\"}},\"marker\":{\"colorbar\":{\"outlinewidth\":0,\"ticks\":\"\"}},\"type\":\"scatter3d\"}],\"scattercarpet\":[{\"marker\":{\"colorbar\":{\"outlinewidth\":0,\"ticks\":\"\"}},\"type\":\"scattercarpet\"}],\"scattergeo\":[{\"marker\":{\"colorbar\":{\"outlinewidth\":0,\"ticks\":\"\"}},\"type\":\"scattergeo\"}],\"scattergl\":[{\"marker\":{\"colorbar\":{\"outlinewidth\":0,\"ticks\":\"\"}},\"type\":\"scattergl\"}],\"scattermapbox\":[{\"marker\":{\"colorbar\":{\"outlinewidth\":0,\"ticks\":\"\"}},\"type\":\"scattermapbox\"}],\"scatterpolar\":[{\"marker\":{\"colorbar\":{\"outlinewidth\":0,\"ticks\":\"\"}},\"type\":\"scatterpolar\"}],\"scatterpolargl\":[{\"marker\":{\"colorbar\":{\"outlinewidth\":0,\"ticks\":\"\"}},\"type\":\"scatterpolargl\"}],\"scatterternary\":[{\"marker\":{\"colorbar\":{\"outlinewidth\":0,\"ticks\":\"\"}},\"type\":\"scatterternary\"}],\"surface\":[{\"colorbar\":{\"outlinewidth\":0,\"ticks\":\"\"},\"colorscale\":[[0.0,\"#0d0887\"],[0.1111111111111111,\"#46039f\"],[0.2222222222222222,\"#7201a8\"],[0.3333333333333333,\"#9c179e\"],[0.4444444444444444,\"#bd3786\"],[0.5555555555555556,\"#d8576b\"],[0.6666666666666666,\"#ed7953\"],[0.7777777777777778,\"#fb9f3a\"],[0.8888888888888888,\"#fdca26\"],[1.0,\"#f0f921\"]],\"type\":\"surface\"}],\"table\":[{\"cells\":{\"fill\":{\"color\":\"#EBF0F8\"},\"line\":{\"color\":\"white\"}},\"header\":{\"fill\":{\"color\":\"#C8D4E3\"},\"line\":{\"color\":\"white\"}},\"type\":\"table\"}]},\"layout\":{\"annotationdefaults\":{\"arrowcolor\":\"#2a3f5f\",\"arrowhead\":0,\"arrowwidth\":1},\"autotypenumbers\":\"strict\",\"coloraxis\":{\"colorbar\":{\"outlinewidth\":0,\"ticks\":\"\"}},\"colorscale\":{\"diverging\":[[0,\"#8e0152\"],[0.1,\"#c51b7d\"],[0.2,\"#de77ae\"],[0.3,\"#f1b6da\"],[0.4,\"#fde0ef\"],[0.5,\"#f7f7f7\"],[0.6,\"#e6f5d0\"],[0.7,\"#b8e186\"],[0.8,\"#7fbc41\"],[0.9,\"#4d9221\"],[1,\"#276419\"]],\"sequential\":[[0.0,\"#0d0887\"],[0.1111111111111111,\"#46039f\"],[0.2222222222222222,\"#7201a8\"],[0.3333333333333333,\"#9c179e\"],[0.4444444444444444,\"#bd3786\"],[0.5555555555555556,\"#d8576b\"],[0.6666666666666666,\"#ed7953\"],[0.7777777777777778,\"#fb9f3a\"],[0.8888888888888888,\"#fdca26\"],[1.0,\"#f0f921\"]],\"sequentialminus\":[[0.0,\"#0d0887\"],[0.1111111111111111,\"#46039f\"],[0.2222222222222222,\"#7201a8\"],[0.3333333333333333,\"#9c179e\"],[0.4444444444444444,\"#bd3786\"],[0.5555555555555556,\"#d8576b\"],[0.6666666666666666,\"#ed7953\"],[0.7777777777777778,\"#fb9f3a\"],[0.8888888888888888,\"#fdca26\"],[1.0,\"#f0f921\"]]},\"colorway\":[\"#636efa\",\"#EF553B\",\"#00cc96\",\"#ab63fa\",\"#FFA15A\",\"#19d3f3\",\"#FF6692\",\"#B6E880\",\"#FF97FF\",\"#FECB52\"],\"font\":{\"color\":\"#2a3f5f\"},\"geo\":{\"bgcolor\":\"white\",\"lakecolor\":\"white\",\"landcolor\":\"#E5ECF6\",\"showlakes\":true,\"showland\":true,\"subunitcolor\":\"white\"},\"hoverlabel\":{\"align\":\"left\"},\"hovermode\":\"closest\",\"mapbox\":{\"style\":\"light\"},\"paper_bgcolor\":\"white\",\"plot_bgcolor\":\"#E5ECF6\",\"polar\":{\"angularaxis\":{\"gridcolor\":\"white\",\"linecolor\":\"white\",\"ticks\":\"\"},\"bgcolor\":\"#E5ECF6\",\"radialaxis\":{\"gridcolor\":\"white\",\"linecolor\":\"white\",\"ticks\":\"\"}},\"scene\":{\"xaxis\":{\"backgroundcolor\":\"#E5ECF6\",\"gridcolor\":\"white\",\"gridwidth\":2,\"linecolor\":\"white\",\"showbackground\":true,\"ticks\":\"\",\"zerolinecolor\":\"white\"},\"yaxis\":{\"backgroundcolor\":\"#E5ECF6\",\"gridcolor\":\"white\",\"gridwidth\":2,\"linecolor\":\"white\",\"showbackground\":true,\"ticks\":\"\",\"zerolinecolor\":\"white\"},\"zaxis\":{\"backgroundcolor\":\"#E5ECF6\",\"gridcolor\":\"white\",\"gridwidth\":2,\"linecolor\":\"white\",\"showbackground\":true,\"ticks\":\"\",\"zerolinecolor\":\"white\"}},\"shapedefaults\":{\"line\":{\"color\":\"#2a3f5f\"}},\"ternary\":{\"aaxis\":{\"gridcolor\":\"white\",\"linecolor\":\"white\",\"ticks\":\"\"},\"baxis\":{\"gridcolor\":\"white\",\"linecolor\":\"white\",\"ticks\":\"\"},\"bgcolor\":\"#E5ECF6\",\"caxis\":{\"gridcolor\":\"white\",\"linecolor\":\"white\",\"ticks\":\"\"}},\"title\":{\"x\":0.05},\"xaxis\":{\"automargin\":true,\"gridcolor\":\"white\",\"linecolor\":\"white\",\"ticks\":\"\",\"title\":{\"standoff\":15},\"zerolinecolor\":\"white\",\"zerolinewidth\":2},\"yaxis\":{\"automargin\":true,\"gridcolor\":\"white\",\"linecolor\":\"white\",\"ticks\":\"\",\"title\":{\"standoff\":15},\"zerolinecolor\":\"white\",\"zerolinewidth\":2}}},\"xaxis\":{\"anchor\":\"y\",\"domain\":[0.0,1.0],\"title\":{\"text\":\"datetime\"}},\"yaxis\":{\"anchor\":\"x\",\"domain\":[0.0,1.0],\"title\":{\"text\":\"value\"}},\"legend\":{\"title\":{\"text\":\"coin\"},\"tracegroupgap\":0},\"margin\":{\"t\":60},\"barmode\":\"group\"},                        {\"responsive\": true}                    ).then(function(){\n",
       "                            \n",
       "var gd = document.getElementById('d34644a1-1734-4871-ae4f-91df24172a0c');\n",
       "var x = new MutationObserver(function (mutations, observer) {{\n",
       "        var display = window.getComputedStyle(gd).display;\n",
       "        if (!display || display === 'none') {{\n",
       "            console.log([gd, 'removed!']);\n",
       "            Plotly.purge(gd);\n",
       "            observer.disconnect();\n",
       "        }}\n",
       "}});\n",
       "\n",
       "// Listen for the removal of the full notebook cells\n",
       "var notebookContainer = gd.closest('#notebook-container');\n",
       "if (notebookContainer) {{\n",
       "    x.observe(notebookContainer, {childList: true});\n",
       "}}\n",
       "\n",
       "// Listen for the clearing of the current output cell\n",
       "var outputEl = gd.closest('.output');\n",
       "if (outputEl) {{\n",
       "    x.observe(outputEl, {childList: true});\n",
       "}}\n",
       "\n",
       "                        })                };                });            </script>        </div>"
      ]
     },
     "metadata": {},
     "output_type": "display_data"
    }
   ],
   "source": [
    "fig = px.bar(data_grouped_weekly, barmode='group')\n",
    "fig.show()"
   ]
  },
  {
   "cell_type": "code",
   "execution_count": 370,
   "metadata": {},
   "outputs": [
    {
     "data": {
      "application/vnd.plotly.v1+json": {
       "config": {
        "plotlyServerURL": "https://plot.ly"
       },
       "data": [
        {
         "alignmentgroup": "True",
         "hovertemplate": "coin=ADA<br>datetime=%{x}<br>value=%{y}<extra></extra>",
         "legendgroup": "ADA",
         "marker": {
          "color": "#636efa",
          "pattern": {
           "shape": ""
          }
         },
         "name": "ADA",
         "offsetgroup": "ADA",
         "orientation": "v",
         "showlegend": true,
         "textposition": "auto",
         "type": "bar",
         "x": [
          "2021-03-14T00:00:00",
          "2021-03-28T00:00:00",
          "2021-04-11T00:00:00",
          "2021-04-25T00:00:00",
          "2021-05-09T00:00:00",
          "2021-05-23T00:00:00",
          "2021-06-06T00:00:00",
          "2021-06-20T00:00:00",
          "2021-07-04T00:00:00",
          "2021-07-18T00:00:00",
          "2021-08-01T00:00:00",
          "2021-08-15T00:00:00",
          "2021-08-29T00:00:00",
          "2021-09-12T00:00:00",
          "2021-09-26T00:00:00",
          "2021-10-10T00:00:00",
          "2021-10-24T00:00:00",
          "2021-11-07T00:00:00",
          "2021-11-21T00:00:00",
          "2021-12-05T00:00:00",
          "2021-12-19T00:00:00",
          "2022-01-02T00:00:00",
          "2022-01-16T00:00:00"
         ],
         "xaxis": "x",
         "y": [
          null,
          -1.1150604766681393,
          -1.0390375876550675,
          -0.9206824748302517,
          -0.6265254502144302,
          0.1053428228465543,
          -0.19252681100623242,
          -0.4580949509663859,
          -0.8178234701249448,
          -0.8451927536786147,
          -0.9818956889643774,
          -0.09877894394526741,
          1.8511659297366254,
          2.15403951516967,
          1.3132859731346804,
          1.1467028108499573,
          1.0639313537069772,
          0.7502248408385347,
          0.787422674449486,
          -0.04821930414330445,
          -0.7167400611416654,
          -0.5450991413457129,
          -0.7664388060480999
         ],
         "yaxis": "y"
        },
        {
         "alignmentgroup": "True",
         "hovertemplate": "coin=BTC<br>datetime=%{x}<br>value=%{y}<extra></extra>",
         "legendgroup": "BTC",
         "marker": {
          "color": "#EF553B",
          "pattern": {
           "shape": ""
          }
         },
         "name": "BTC",
         "offsetgroup": "BTC",
         "orientation": "v",
         "showlegend": true,
         "textposition": "auto",
         "type": "bar",
         "x": [
          "2021-03-14T00:00:00",
          "2021-03-28T00:00:00",
          "2021-04-11T00:00:00",
          "2021-04-25T00:00:00",
          "2021-05-09T00:00:00",
          "2021-05-23T00:00:00",
          "2021-06-06T00:00:00",
          "2021-06-20T00:00:00",
          "2021-07-04T00:00:00",
          "2021-07-18T00:00:00",
          "2021-08-01T00:00:00",
          "2021-08-15T00:00:00",
          "2021-08-29T00:00:00",
          "2021-09-12T00:00:00",
          "2021-09-26T00:00:00",
          "2021-10-10T00:00:00",
          "2021-10-24T00:00:00",
          "2021-11-07T00:00:00",
          "2021-11-21T00:00:00",
          "2021-12-05T00:00:00",
          "2021-12-19T00:00:00",
          "2022-01-02T00:00:00",
          "2022-01-16T00:00:00"
         ],
         "xaxis": "x",
         "y": [
          0.9841770418841153,
          0.6513845722243227,
          0.9378275818541298,
          0.6913292890987325,
          0.5986391576787635,
          -0.5815318788573235,
          -1.3670640028928362,
          -1.3477587544415321,
          -1.6165123201368539,
          -1.6869074992125326,
          -1.3348461538887717,
          -0.5566387956894492,
          -0.12051236842103032,
          -0.14222683544399323,
          -0.3990643105400587,
          0.06410650233951844,
          1.282202173793101,
          1.3987174380963334,
          1.6045653993062647,
          0.9134568571608349,
          0.14012293036702214,
          0.1478022003553764,
          -0.2612682246341617
         ],
         "yaxis": "y"
        },
        {
         "alignmentgroup": "True",
         "hovertemplate": "coin=ETH<br>datetime=%{x}<br>value=%{y}<extra></extra>",
         "legendgroup": "ETH",
         "marker": {
          "color": "#00cc96",
          "pattern": {
           "shape": ""
          }
         },
         "name": "ETH",
         "offsetgroup": "ETH",
         "orientation": "v",
         "showlegend": true,
         "textposition": "auto",
         "type": "bar",
         "x": [
          "2021-03-14T00:00:00",
          "2021-03-28T00:00:00",
          "2021-04-11T00:00:00",
          "2021-04-25T00:00:00",
          "2021-05-09T00:00:00",
          "2021-05-23T00:00:00",
          "2021-06-06T00:00:00",
          "2021-06-20T00:00:00",
          "2021-07-04T00:00:00",
          "2021-07-18T00:00:00",
          "2021-08-01T00:00:00",
          "2021-08-15T00:00:00",
          "2021-08-29T00:00:00",
          "2021-09-12T00:00:00",
          "2021-09-26T00:00:00",
          "2021-10-10T00:00:00",
          "2021-10-24T00:00:00",
          "2021-11-07T00:00:00",
          "2021-11-21T00:00:00",
          "2021-12-05T00:00:00",
          "2021-12-19T00:00:00",
          "2022-01-02T00:00:00",
          "2022-01-16T00:00:00"
         ],
         "xaxis": "x",
         "y": [
          -1.3543828784413583,
          -1.4835315967725973,
          -1.1582173948893522,
          -0.8768737347392648,
          -0.008861699092703526,
          0.07097148228123011,
          -0.5835183008158304,
          -0.7844709544814804,
          -1.1498518264169169,
          -1.1206089525121368,
          -0.9668110545815805,
          -0.09758030216198968,
          0.11025972863788856,
          0.5050489234168771,
          0.13179702164019702,
          0.27903301575869927,
          0.8751374053205364,
          1.4538714644964559,
          1.6578175686335452,
          1.5118545368417686,
          1.2145265202026878,
          1.0385132598486266,
          0.7358777678267034
         ],
         "yaxis": "y"
        },
        {
         "alignmentgroup": "True",
         "hovertemplate": "coin=SOL<br>datetime=%{x}<br>value=%{y}<extra></extra>",
         "legendgroup": "SOL",
         "marker": {
          "color": "#ab63fa",
          "pattern": {
           "shape": ""
          }
         },
         "name": "SOL",
         "offsetgroup": "SOL",
         "orientation": "v",
         "showlegend": true,
         "textposition": "auto",
         "type": "bar",
         "x": [
          "2021-03-14T00:00:00",
          "2021-03-28T00:00:00",
          "2021-04-11T00:00:00",
          "2021-04-25T00:00:00",
          "2021-05-09T00:00:00",
          "2021-05-23T00:00:00",
          "2021-06-06T00:00:00",
          "2021-06-20T00:00:00",
          "2021-07-04T00:00:00",
          "2021-07-18T00:00:00",
          "2021-08-01T00:00:00",
          "2021-08-15T00:00:00",
          "2021-08-29T00:00:00",
          "2021-09-12T00:00:00",
          "2021-09-26T00:00:00",
          "2021-10-10T00:00:00",
          "2021-10-24T00:00:00",
          "2021-11-07T00:00:00",
          "2021-11-21T00:00:00",
          "2021-12-05T00:00:00",
          "2021-12-19T00:00:00",
          "2022-01-02T00:00:00",
          "2022-01-16T00:00:00"
         ],
         "xaxis": "x",
         "y": [
          null,
          null,
          null,
          null,
          null,
          null,
          null,
          -1.2292949539567228,
          -1.2949372033206823,
          -1.302252452444409,
          -1.327392785256616,
          -1.1810317766962861,
          -0.7045727604857044,
          0.2757211554259637,
          0.23611181131947775,
          0.33256785859543175,
          0.5193961793604055,
          1.1864910930686288,
          1.3786210195208084,
          1.1454052968188346,
          0.7124466913007489,
          0.7645443597860497,
          0.4881764669640712
         ],
         "yaxis": "y"
        }
       ],
       "layout": {
        "barmode": "group",
        "legend": {
         "title": {
          "text": "coin"
         },
         "tracegroupgap": 0
        },
        "margin": {
         "t": 60
        },
        "template": {
         "data": {
          "bar": [
           {
            "error_x": {
             "color": "#2a3f5f"
            },
            "error_y": {
             "color": "#2a3f5f"
            },
            "marker": {
             "line": {
              "color": "#E5ECF6",
              "width": 0.5
             },
             "pattern": {
              "fillmode": "overlay",
              "size": 10,
              "solidity": 0.2
             }
            },
            "type": "bar"
           }
          ],
          "barpolar": [
           {
            "marker": {
             "line": {
              "color": "#E5ECF6",
              "width": 0.5
             },
             "pattern": {
              "fillmode": "overlay",
              "size": 10,
              "solidity": 0.2
             }
            },
            "type": "barpolar"
           }
          ],
          "carpet": [
           {
            "aaxis": {
             "endlinecolor": "#2a3f5f",
             "gridcolor": "white",
             "linecolor": "white",
             "minorgridcolor": "white",
             "startlinecolor": "#2a3f5f"
            },
            "baxis": {
             "endlinecolor": "#2a3f5f",
             "gridcolor": "white",
             "linecolor": "white",
             "minorgridcolor": "white",
             "startlinecolor": "#2a3f5f"
            },
            "type": "carpet"
           }
          ],
          "choropleth": [
           {
            "colorbar": {
             "outlinewidth": 0,
             "ticks": ""
            },
            "type": "choropleth"
           }
          ],
          "contour": [
           {
            "colorbar": {
             "outlinewidth": 0,
             "ticks": ""
            },
            "colorscale": [
             [
              0,
              "#0d0887"
             ],
             [
              0.1111111111111111,
              "#46039f"
             ],
             [
              0.2222222222222222,
              "#7201a8"
             ],
             [
              0.3333333333333333,
              "#9c179e"
             ],
             [
              0.4444444444444444,
              "#bd3786"
             ],
             [
              0.5555555555555556,
              "#d8576b"
             ],
             [
              0.6666666666666666,
              "#ed7953"
             ],
             [
              0.7777777777777778,
              "#fb9f3a"
             ],
             [
              0.8888888888888888,
              "#fdca26"
             ],
             [
              1,
              "#f0f921"
             ]
            ],
            "type": "contour"
           }
          ],
          "contourcarpet": [
           {
            "colorbar": {
             "outlinewidth": 0,
             "ticks": ""
            },
            "type": "contourcarpet"
           }
          ],
          "heatmap": [
           {
            "colorbar": {
             "outlinewidth": 0,
             "ticks": ""
            },
            "colorscale": [
             [
              0,
              "#0d0887"
             ],
             [
              0.1111111111111111,
              "#46039f"
             ],
             [
              0.2222222222222222,
              "#7201a8"
             ],
             [
              0.3333333333333333,
              "#9c179e"
             ],
             [
              0.4444444444444444,
              "#bd3786"
             ],
             [
              0.5555555555555556,
              "#d8576b"
             ],
             [
              0.6666666666666666,
              "#ed7953"
             ],
             [
              0.7777777777777778,
              "#fb9f3a"
             ],
             [
              0.8888888888888888,
              "#fdca26"
             ],
             [
              1,
              "#f0f921"
             ]
            ],
            "type": "heatmap"
           }
          ],
          "heatmapgl": [
           {
            "colorbar": {
             "outlinewidth": 0,
             "ticks": ""
            },
            "colorscale": [
             [
              0,
              "#0d0887"
             ],
             [
              0.1111111111111111,
              "#46039f"
             ],
             [
              0.2222222222222222,
              "#7201a8"
             ],
             [
              0.3333333333333333,
              "#9c179e"
             ],
             [
              0.4444444444444444,
              "#bd3786"
             ],
             [
              0.5555555555555556,
              "#d8576b"
             ],
             [
              0.6666666666666666,
              "#ed7953"
             ],
             [
              0.7777777777777778,
              "#fb9f3a"
             ],
             [
              0.8888888888888888,
              "#fdca26"
             ],
             [
              1,
              "#f0f921"
             ]
            ],
            "type": "heatmapgl"
           }
          ],
          "histogram": [
           {
            "marker": {
             "pattern": {
              "fillmode": "overlay",
              "size": 10,
              "solidity": 0.2
             }
            },
            "type": "histogram"
           }
          ],
          "histogram2d": [
           {
            "colorbar": {
             "outlinewidth": 0,
             "ticks": ""
            },
            "colorscale": [
             [
              0,
              "#0d0887"
             ],
             [
              0.1111111111111111,
              "#46039f"
             ],
             [
              0.2222222222222222,
              "#7201a8"
             ],
             [
              0.3333333333333333,
              "#9c179e"
             ],
             [
              0.4444444444444444,
              "#bd3786"
             ],
             [
              0.5555555555555556,
              "#d8576b"
             ],
             [
              0.6666666666666666,
              "#ed7953"
             ],
             [
              0.7777777777777778,
              "#fb9f3a"
             ],
             [
              0.8888888888888888,
              "#fdca26"
             ],
             [
              1,
              "#f0f921"
             ]
            ],
            "type": "histogram2d"
           }
          ],
          "histogram2dcontour": [
           {
            "colorbar": {
             "outlinewidth": 0,
             "ticks": ""
            },
            "colorscale": [
             [
              0,
              "#0d0887"
             ],
             [
              0.1111111111111111,
              "#46039f"
             ],
             [
              0.2222222222222222,
              "#7201a8"
             ],
             [
              0.3333333333333333,
              "#9c179e"
             ],
             [
              0.4444444444444444,
              "#bd3786"
             ],
             [
              0.5555555555555556,
              "#d8576b"
             ],
             [
              0.6666666666666666,
              "#ed7953"
             ],
             [
              0.7777777777777778,
              "#fb9f3a"
             ],
             [
              0.8888888888888888,
              "#fdca26"
             ],
             [
              1,
              "#f0f921"
             ]
            ],
            "type": "histogram2dcontour"
           }
          ],
          "mesh3d": [
           {
            "colorbar": {
             "outlinewidth": 0,
             "ticks": ""
            },
            "type": "mesh3d"
           }
          ],
          "parcoords": [
           {
            "line": {
             "colorbar": {
              "outlinewidth": 0,
              "ticks": ""
             }
            },
            "type": "parcoords"
           }
          ],
          "pie": [
           {
            "automargin": true,
            "type": "pie"
           }
          ],
          "scatter": [
           {
            "marker": {
             "colorbar": {
              "outlinewidth": 0,
              "ticks": ""
             }
            },
            "type": "scatter"
           }
          ],
          "scatter3d": [
           {
            "line": {
             "colorbar": {
              "outlinewidth": 0,
              "ticks": ""
             }
            },
            "marker": {
             "colorbar": {
              "outlinewidth": 0,
              "ticks": ""
             }
            },
            "type": "scatter3d"
           }
          ],
          "scattercarpet": [
           {
            "marker": {
             "colorbar": {
              "outlinewidth": 0,
              "ticks": ""
             }
            },
            "type": "scattercarpet"
           }
          ],
          "scattergeo": [
           {
            "marker": {
             "colorbar": {
              "outlinewidth": 0,
              "ticks": ""
             }
            },
            "type": "scattergeo"
           }
          ],
          "scattergl": [
           {
            "marker": {
             "colorbar": {
              "outlinewidth": 0,
              "ticks": ""
             }
            },
            "type": "scattergl"
           }
          ],
          "scattermapbox": [
           {
            "marker": {
             "colorbar": {
              "outlinewidth": 0,
              "ticks": ""
             }
            },
            "type": "scattermapbox"
           }
          ],
          "scatterpolar": [
           {
            "marker": {
             "colorbar": {
              "outlinewidth": 0,
              "ticks": ""
             }
            },
            "type": "scatterpolar"
           }
          ],
          "scatterpolargl": [
           {
            "marker": {
             "colorbar": {
              "outlinewidth": 0,
              "ticks": ""
             }
            },
            "type": "scatterpolargl"
           }
          ],
          "scatterternary": [
           {
            "marker": {
             "colorbar": {
              "outlinewidth": 0,
              "ticks": ""
             }
            },
            "type": "scatterternary"
           }
          ],
          "surface": [
           {
            "colorbar": {
             "outlinewidth": 0,
             "ticks": ""
            },
            "colorscale": [
             [
              0,
              "#0d0887"
             ],
             [
              0.1111111111111111,
              "#46039f"
             ],
             [
              0.2222222222222222,
              "#7201a8"
             ],
             [
              0.3333333333333333,
              "#9c179e"
             ],
             [
              0.4444444444444444,
              "#bd3786"
             ],
             [
              0.5555555555555556,
              "#d8576b"
             ],
             [
              0.6666666666666666,
              "#ed7953"
             ],
             [
              0.7777777777777778,
              "#fb9f3a"
             ],
             [
              0.8888888888888888,
              "#fdca26"
             ],
             [
              1,
              "#f0f921"
             ]
            ],
            "type": "surface"
           }
          ],
          "table": [
           {
            "cells": {
             "fill": {
              "color": "#EBF0F8"
             },
             "line": {
              "color": "white"
             }
            },
            "header": {
             "fill": {
              "color": "#C8D4E3"
             },
             "line": {
              "color": "white"
             }
            },
            "type": "table"
           }
          ]
         },
         "layout": {
          "annotationdefaults": {
           "arrowcolor": "#2a3f5f",
           "arrowhead": 0,
           "arrowwidth": 1
          },
          "autotypenumbers": "strict",
          "coloraxis": {
           "colorbar": {
            "outlinewidth": 0,
            "ticks": ""
           }
          },
          "colorscale": {
           "diverging": [
            [
             0,
             "#8e0152"
            ],
            [
             0.1,
             "#c51b7d"
            ],
            [
             0.2,
             "#de77ae"
            ],
            [
             0.3,
             "#f1b6da"
            ],
            [
             0.4,
             "#fde0ef"
            ],
            [
             0.5,
             "#f7f7f7"
            ],
            [
             0.6,
             "#e6f5d0"
            ],
            [
             0.7,
             "#b8e186"
            ],
            [
             0.8,
             "#7fbc41"
            ],
            [
             0.9,
             "#4d9221"
            ],
            [
             1,
             "#276419"
            ]
           ],
           "sequential": [
            [
             0,
             "#0d0887"
            ],
            [
             0.1111111111111111,
             "#46039f"
            ],
            [
             0.2222222222222222,
             "#7201a8"
            ],
            [
             0.3333333333333333,
             "#9c179e"
            ],
            [
             0.4444444444444444,
             "#bd3786"
            ],
            [
             0.5555555555555556,
             "#d8576b"
            ],
            [
             0.6666666666666666,
             "#ed7953"
            ],
            [
             0.7777777777777778,
             "#fb9f3a"
            ],
            [
             0.8888888888888888,
             "#fdca26"
            ],
            [
             1,
             "#f0f921"
            ]
           ],
           "sequentialminus": [
            [
             0,
             "#0d0887"
            ],
            [
             0.1111111111111111,
             "#46039f"
            ],
            [
             0.2222222222222222,
             "#7201a8"
            ],
            [
             0.3333333333333333,
             "#9c179e"
            ],
            [
             0.4444444444444444,
             "#bd3786"
            ],
            [
             0.5555555555555556,
             "#d8576b"
            ],
            [
             0.6666666666666666,
             "#ed7953"
            ],
            [
             0.7777777777777778,
             "#fb9f3a"
            ],
            [
             0.8888888888888888,
             "#fdca26"
            ],
            [
             1,
             "#f0f921"
            ]
           ]
          },
          "colorway": [
           "#636efa",
           "#EF553B",
           "#00cc96",
           "#ab63fa",
           "#FFA15A",
           "#19d3f3",
           "#FF6692",
           "#B6E880",
           "#FF97FF",
           "#FECB52"
          ],
          "font": {
           "color": "#2a3f5f"
          },
          "geo": {
           "bgcolor": "white",
           "lakecolor": "white",
           "landcolor": "#E5ECF6",
           "showlakes": true,
           "showland": true,
           "subunitcolor": "white"
          },
          "hoverlabel": {
           "align": "left"
          },
          "hovermode": "closest",
          "mapbox": {
           "style": "light"
          },
          "paper_bgcolor": "white",
          "plot_bgcolor": "#E5ECF6",
          "polar": {
           "angularaxis": {
            "gridcolor": "white",
            "linecolor": "white",
            "ticks": ""
           },
           "bgcolor": "#E5ECF6",
           "radialaxis": {
            "gridcolor": "white",
            "linecolor": "white",
            "ticks": ""
           }
          },
          "scene": {
           "xaxis": {
            "backgroundcolor": "#E5ECF6",
            "gridcolor": "white",
            "gridwidth": 2,
            "linecolor": "white",
            "showbackground": true,
            "ticks": "",
            "zerolinecolor": "white"
           },
           "yaxis": {
            "backgroundcolor": "#E5ECF6",
            "gridcolor": "white",
            "gridwidth": 2,
            "linecolor": "white",
            "showbackground": true,
            "ticks": "",
            "zerolinecolor": "white"
           },
           "zaxis": {
            "backgroundcolor": "#E5ECF6",
            "gridcolor": "white",
            "gridwidth": 2,
            "linecolor": "white",
            "showbackground": true,
            "ticks": "",
            "zerolinecolor": "white"
           }
          },
          "shapedefaults": {
           "line": {
            "color": "#2a3f5f"
           }
          },
          "ternary": {
           "aaxis": {
            "gridcolor": "white",
            "linecolor": "white",
            "ticks": ""
           },
           "baxis": {
            "gridcolor": "white",
            "linecolor": "white",
            "ticks": ""
           },
           "bgcolor": "#E5ECF6",
           "caxis": {
            "gridcolor": "white",
            "linecolor": "white",
            "ticks": ""
           }
          },
          "title": {
           "x": 0.05
          },
          "xaxis": {
           "automargin": true,
           "gridcolor": "white",
           "linecolor": "white",
           "ticks": "",
           "title": {
            "standoff": 15
           },
           "zerolinecolor": "white",
           "zerolinewidth": 2
          },
          "yaxis": {
           "automargin": true,
           "gridcolor": "white",
           "linecolor": "white",
           "ticks": "",
           "title": {
            "standoff": 15
           },
           "zerolinecolor": "white",
           "zerolinewidth": 2
          }
         }
        },
        "xaxis": {
         "anchor": "y",
         "domain": [
          0,
          1
         ],
         "title": {
          "text": "datetime"
         }
        },
        "yaxis": {
         "anchor": "x",
         "domain": [
          0,
          1
         ],
         "title": {
          "text": "value"
         }
        }
       }
      },
      "text/html": [
       "<div>                            <div id=\"73327c0c-8d5e-46d3-9897-d9b3907b0bcb\" class=\"plotly-graph-div\" style=\"height:525px; width:100%;\"></div>            <script type=\"text/javascript\">                require([\"plotly\"], function(Plotly) {                    window.PLOTLYENV=window.PLOTLYENV || {};                                    if (document.getElementById(\"73327c0c-8d5e-46d3-9897-d9b3907b0bcb\")) {                    Plotly.newPlot(                        \"73327c0c-8d5e-46d3-9897-d9b3907b0bcb\",                        [{\"alignmentgroup\":\"True\",\"hovertemplate\":\"coin=ADA<br>datetime=%{x}<br>value=%{y}<extra></extra>\",\"legendgroup\":\"ADA\",\"marker\":{\"color\":\"#636efa\",\"pattern\":{\"shape\":\"\"}},\"name\":\"ADA\",\"offsetgroup\":\"ADA\",\"orientation\":\"v\",\"showlegend\":true,\"textposition\":\"auto\",\"x\":[\"2021-03-14T00:00:00\",\"2021-03-28T00:00:00\",\"2021-04-11T00:00:00\",\"2021-04-25T00:00:00\",\"2021-05-09T00:00:00\",\"2021-05-23T00:00:00\",\"2021-06-06T00:00:00\",\"2021-06-20T00:00:00\",\"2021-07-04T00:00:00\",\"2021-07-18T00:00:00\",\"2021-08-01T00:00:00\",\"2021-08-15T00:00:00\",\"2021-08-29T00:00:00\",\"2021-09-12T00:00:00\",\"2021-09-26T00:00:00\",\"2021-10-10T00:00:00\",\"2021-10-24T00:00:00\",\"2021-11-07T00:00:00\",\"2021-11-21T00:00:00\",\"2021-12-05T00:00:00\",\"2021-12-19T00:00:00\",\"2022-01-02T00:00:00\",\"2022-01-16T00:00:00\"],\"xaxis\":\"x\",\"y\":[null,-1.1150604766681393,-1.0390375876550675,-0.9206824748302517,-0.6265254502144302,0.1053428228465543,-0.19252681100623242,-0.4580949509663859,-0.8178234701249448,-0.8451927536786147,-0.9818956889643774,-0.09877894394526741,1.8511659297366254,2.15403951516967,1.3132859731346804,1.1467028108499573,1.0639313537069772,0.7502248408385347,0.787422674449486,-0.04821930414330445,-0.7167400611416654,-0.5450991413457129,-0.7664388060480999],\"yaxis\":\"y\",\"type\":\"bar\"},{\"alignmentgroup\":\"True\",\"hovertemplate\":\"coin=BTC<br>datetime=%{x}<br>value=%{y}<extra></extra>\",\"legendgroup\":\"BTC\",\"marker\":{\"color\":\"#EF553B\",\"pattern\":{\"shape\":\"\"}},\"name\":\"BTC\",\"offsetgroup\":\"BTC\",\"orientation\":\"v\",\"showlegend\":true,\"textposition\":\"auto\",\"x\":[\"2021-03-14T00:00:00\",\"2021-03-28T00:00:00\",\"2021-04-11T00:00:00\",\"2021-04-25T00:00:00\",\"2021-05-09T00:00:00\",\"2021-05-23T00:00:00\",\"2021-06-06T00:00:00\",\"2021-06-20T00:00:00\",\"2021-07-04T00:00:00\",\"2021-07-18T00:00:00\",\"2021-08-01T00:00:00\",\"2021-08-15T00:00:00\",\"2021-08-29T00:00:00\",\"2021-09-12T00:00:00\",\"2021-09-26T00:00:00\",\"2021-10-10T00:00:00\",\"2021-10-24T00:00:00\",\"2021-11-07T00:00:00\",\"2021-11-21T00:00:00\",\"2021-12-05T00:00:00\",\"2021-12-19T00:00:00\",\"2022-01-02T00:00:00\",\"2022-01-16T00:00:00\"],\"xaxis\":\"x\",\"y\":[0.9841770418841153,0.6513845722243227,0.9378275818541298,0.6913292890987325,0.5986391576787635,-0.5815318788573235,-1.3670640028928362,-1.3477587544415321,-1.6165123201368539,-1.6869074992125326,-1.3348461538887717,-0.5566387956894492,-0.12051236842103032,-0.14222683544399323,-0.3990643105400587,0.06410650233951844,1.282202173793101,1.3987174380963334,1.6045653993062647,0.9134568571608349,0.14012293036702214,0.1478022003553764,-0.2612682246341617],\"yaxis\":\"y\",\"type\":\"bar\"},{\"alignmentgroup\":\"True\",\"hovertemplate\":\"coin=ETH<br>datetime=%{x}<br>value=%{y}<extra></extra>\",\"legendgroup\":\"ETH\",\"marker\":{\"color\":\"#00cc96\",\"pattern\":{\"shape\":\"\"}},\"name\":\"ETH\",\"offsetgroup\":\"ETH\",\"orientation\":\"v\",\"showlegend\":true,\"textposition\":\"auto\",\"x\":[\"2021-03-14T00:00:00\",\"2021-03-28T00:00:00\",\"2021-04-11T00:00:00\",\"2021-04-25T00:00:00\",\"2021-05-09T00:00:00\",\"2021-05-23T00:00:00\",\"2021-06-06T00:00:00\",\"2021-06-20T00:00:00\",\"2021-07-04T00:00:00\",\"2021-07-18T00:00:00\",\"2021-08-01T00:00:00\",\"2021-08-15T00:00:00\",\"2021-08-29T00:00:00\",\"2021-09-12T00:00:00\",\"2021-09-26T00:00:00\",\"2021-10-10T00:00:00\",\"2021-10-24T00:00:00\",\"2021-11-07T00:00:00\",\"2021-11-21T00:00:00\",\"2021-12-05T00:00:00\",\"2021-12-19T00:00:00\",\"2022-01-02T00:00:00\",\"2022-01-16T00:00:00\"],\"xaxis\":\"x\",\"y\":[-1.3543828784413583,-1.4835315967725973,-1.1582173948893522,-0.8768737347392648,-0.008861699092703526,0.07097148228123011,-0.5835183008158304,-0.7844709544814804,-1.1498518264169169,-1.1206089525121368,-0.9668110545815805,-0.09758030216198968,0.11025972863788856,0.5050489234168771,0.13179702164019702,0.27903301575869927,0.8751374053205364,1.4538714644964559,1.6578175686335452,1.5118545368417686,1.2145265202026878,1.0385132598486266,0.7358777678267034],\"yaxis\":\"y\",\"type\":\"bar\"},{\"alignmentgroup\":\"True\",\"hovertemplate\":\"coin=SOL<br>datetime=%{x}<br>value=%{y}<extra></extra>\",\"legendgroup\":\"SOL\",\"marker\":{\"color\":\"#ab63fa\",\"pattern\":{\"shape\":\"\"}},\"name\":\"SOL\",\"offsetgroup\":\"SOL\",\"orientation\":\"v\",\"showlegend\":true,\"textposition\":\"auto\",\"x\":[\"2021-03-14T00:00:00\",\"2021-03-28T00:00:00\",\"2021-04-11T00:00:00\",\"2021-04-25T00:00:00\",\"2021-05-09T00:00:00\",\"2021-05-23T00:00:00\",\"2021-06-06T00:00:00\",\"2021-06-20T00:00:00\",\"2021-07-04T00:00:00\",\"2021-07-18T00:00:00\",\"2021-08-01T00:00:00\",\"2021-08-15T00:00:00\",\"2021-08-29T00:00:00\",\"2021-09-12T00:00:00\",\"2021-09-26T00:00:00\",\"2021-10-10T00:00:00\",\"2021-10-24T00:00:00\",\"2021-11-07T00:00:00\",\"2021-11-21T00:00:00\",\"2021-12-05T00:00:00\",\"2021-12-19T00:00:00\",\"2022-01-02T00:00:00\",\"2022-01-16T00:00:00\"],\"xaxis\":\"x\",\"y\":[null,null,null,null,null,null,null,-1.2292949539567228,-1.2949372033206823,-1.302252452444409,-1.327392785256616,-1.1810317766962861,-0.7045727604857044,0.2757211554259637,0.23611181131947775,0.33256785859543175,0.5193961793604055,1.1864910930686288,1.3786210195208084,1.1454052968188346,0.7124466913007489,0.7645443597860497,0.4881764669640712],\"yaxis\":\"y\",\"type\":\"bar\"}],                        {\"template\":{\"data\":{\"bar\":[{\"error_x\":{\"color\":\"#2a3f5f\"},\"error_y\":{\"color\":\"#2a3f5f\"},\"marker\":{\"line\":{\"color\":\"#E5ECF6\",\"width\":0.5},\"pattern\":{\"fillmode\":\"overlay\",\"size\":10,\"solidity\":0.2}},\"type\":\"bar\"}],\"barpolar\":[{\"marker\":{\"line\":{\"color\":\"#E5ECF6\",\"width\":0.5},\"pattern\":{\"fillmode\":\"overlay\",\"size\":10,\"solidity\":0.2}},\"type\":\"barpolar\"}],\"carpet\":[{\"aaxis\":{\"endlinecolor\":\"#2a3f5f\",\"gridcolor\":\"white\",\"linecolor\":\"white\",\"minorgridcolor\":\"white\",\"startlinecolor\":\"#2a3f5f\"},\"baxis\":{\"endlinecolor\":\"#2a3f5f\",\"gridcolor\":\"white\",\"linecolor\":\"white\",\"minorgridcolor\":\"white\",\"startlinecolor\":\"#2a3f5f\"},\"type\":\"carpet\"}],\"choropleth\":[{\"colorbar\":{\"outlinewidth\":0,\"ticks\":\"\"},\"type\":\"choropleth\"}],\"contour\":[{\"colorbar\":{\"outlinewidth\":0,\"ticks\":\"\"},\"colorscale\":[[0.0,\"#0d0887\"],[0.1111111111111111,\"#46039f\"],[0.2222222222222222,\"#7201a8\"],[0.3333333333333333,\"#9c179e\"],[0.4444444444444444,\"#bd3786\"],[0.5555555555555556,\"#d8576b\"],[0.6666666666666666,\"#ed7953\"],[0.7777777777777778,\"#fb9f3a\"],[0.8888888888888888,\"#fdca26\"],[1.0,\"#f0f921\"]],\"type\":\"contour\"}],\"contourcarpet\":[{\"colorbar\":{\"outlinewidth\":0,\"ticks\":\"\"},\"type\":\"contourcarpet\"}],\"heatmap\":[{\"colorbar\":{\"outlinewidth\":0,\"ticks\":\"\"},\"colorscale\":[[0.0,\"#0d0887\"],[0.1111111111111111,\"#46039f\"],[0.2222222222222222,\"#7201a8\"],[0.3333333333333333,\"#9c179e\"],[0.4444444444444444,\"#bd3786\"],[0.5555555555555556,\"#d8576b\"],[0.6666666666666666,\"#ed7953\"],[0.7777777777777778,\"#fb9f3a\"],[0.8888888888888888,\"#fdca26\"],[1.0,\"#f0f921\"]],\"type\":\"heatmap\"}],\"heatmapgl\":[{\"colorbar\":{\"outlinewidth\":0,\"ticks\":\"\"},\"colorscale\":[[0.0,\"#0d0887\"],[0.1111111111111111,\"#46039f\"],[0.2222222222222222,\"#7201a8\"],[0.3333333333333333,\"#9c179e\"],[0.4444444444444444,\"#bd3786\"],[0.5555555555555556,\"#d8576b\"],[0.6666666666666666,\"#ed7953\"],[0.7777777777777778,\"#fb9f3a\"],[0.8888888888888888,\"#fdca26\"],[1.0,\"#f0f921\"]],\"type\":\"heatmapgl\"}],\"histogram\":[{\"marker\":{\"pattern\":{\"fillmode\":\"overlay\",\"size\":10,\"solidity\":0.2}},\"type\":\"histogram\"}],\"histogram2d\":[{\"colorbar\":{\"outlinewidth\":0,\"ticks\":\"\"},\"colorscale\":[[0.0,\"#0d0887\"],[0.1111111111111111,\"#46039f\"],[0.2222222222222222,\"#7201a8\"],[0.3333333333333333,\"#9c179e\"],[0.4444444444444444,\"#bd3786\"],[0.5555555555555556,\"#d8576b\"],[0.6666666666666666,\"#ed7953\"],[0.7777777777777778,\"#fb9f3a\"],[0.8888888888888888,\"#fdca26\"],[1.0,\"#f0f921\"]],\"type\":\"histogram2d\"}],\"histogram2dcontour\":[{\"colorbar\":{\"outlinewidth\":0,\"ticks\":\"\"},\"colorscale\":[[0.0,\"#0d0887\"],[0.1111111111111111,\"#46039f\"],[0.2222222222222222,\"#7201a8\"],[0.3333333333333333,\"#9c179e\"],[0.4444444444444444,\"#bd3786\"],[0.5555555555555556,\"#d8576b\"],[0.6666666666666666,\"#ed7953\"],[0.7777777777777778,\"#fb9f3a\"],[0.8888888888888888,\"#fdca26\"],[1.0,\"#f0f921\"]],\"type\":\"histogram2dcontour\"}],\"mesh3d\":[{\"colorbar\":{\"outlinewidth\":0,\"ticks\":\"\"},\"type\":\"mesh3d\"}],\"parcoords\":[{\"line\":{\"colorbar\":{\"outlinewidth\":0,\"ticks\":\"\"}},\"type\":\"parcoords\"}],\"pie\":[{\"automargin\":true,\"type\":\"pie\"}],\"scatter\":[{\"marker\":{\"colorbar\":{\"outlinewidth\":0,\"ticks\":\"\"}},\"type\":\"scatter\"}],\"scatter3d\":[{\"line\":{\"colorbar\":{\"outlinewidth\":0,\"ticks\":\"\"}},\"marker\":{\"colorbar\":{\"outlinewidth\":0,\"ticks\":\"\"}},\"type\":\"scatter3d\"}],\"scattercarpet\":[{\"marker\":{\"colorbar\":{\"outlinewidth\":0,\"ticks\":\"\"}},\"type\":\"scattercarpet\"}],\"scattergeo\":[{\"marker\":{\"colorbar\":{\"outlinewidth\":0,\"ticks\":\"\"}},\"type\":\"scattergeo\"}],\"scattergl\":[{\"marker\":{\"colorbar\":{\"outlinewidth\":0,\"ticks\":\"\"}},\"type\":\"scattergl\"}],\"scattermapbox\":[{\"marker\":{\"colorbar\":{\"outlinewidth\":0,\"ticks\":\"\"}},\"type\":\"scattermapbox\"}],\"scatterpolar\":[{\"marker\":{\"colorbar\":{\"outlinewidth\":0,\"ticks\":\"\"}},\"type\":\"scatterpolar\"}],\"scatterpolargl\":[{\"marker\":{\"colorbar\":{\"outlinewidth\":0,\"ticks\":\"\"}},\"type\":\"scatterpolargl\"}],\"scatterternary\":[{\"marker\":{\"colorbar\":{\"outlinewidth\":0,\"ticks\":\"\"}},\"type\":\"scatterternary\"}],\"surface\":[{\"colorbar\":{\"outlinewidth\":0,\"ticks\":\"\"},\"colorscale\":[[0.0,\"#0d0887\"],[0.1111111111111111,\"#46039f\"],[0.2222222222222222,\"#7201a8\"],[0.3333333333333333,\"#9c179e\"],[0.4444444444444444,\"#bd3786\"],[0.5555555555555556,\"#d8576b\"],[0.6666666666666666,\"#ed7953\"],[0.7777777777777778,\"#fb9f3a\"],[0.8888888888888888,\"#fdca26\"],[1.0,\"#f0f921\"]],\"type\":\"surface\"}],\"table\":[{\"cells\":{\"fill\":{\"color\":\"#EBF0F8\"},\"line\":{\"color\":\"white\"}},\"header\":{\"fill\":{\"color\":\"#C8D4E3\"},\"line\":{\"color\":\"white\"}},\"type\":\"table\"}]},\"layout\":{\"annotationdefaults\":{\"arrowcolor\":\"#2a3f5f\",\"arrowhead\":0,\"arrowwidth\":1},\"autotypenumbers\":\"strict\",\"coloraxis\":{\"colorbar\":{\"outlinewidth\":0,\"ticks\":\"\"}},\"colorscale\":{\"diverging\":[[0,\"#8e0152\"],[0.1,\"#c51b7d\"],[0.2,\"#de77ae\"],[0.3,\"#f1b6da\"],[0.4,\"#fde0ef\"],[0.5,\"#f7f7f7\"],[0.6,\"#e6f5d0\"],[0.7,\"#b8e186\"],[0.8,\"#7fbc41\"],[0.9,\"#4d9221\"],[1,\"#276419\"]],\"sequential\":[[0.0,\"#0d0887\"],[0.1111111111111111,\"#46039f\"],[0.2222222222222222,\"#7201a8\"],[0.3333333333333333,\"#9c179e\"],[0.4444444444444444,\"#bd3786\"],[0.5555555555555556,\"#d8576b\"],[0.6666666666666666,\"#ed7953\"],[0.7777777777777778,\"#fb9f3a\"],[0.8888888888888888,\"#fdca26\"],[1.0,\"#f0f921\"]],\"sequentialminus\":[[0.0,\"#0d0887\"],[0.1111111111111111,\"#46039f\"],[0.2222222222222222,\"#7201a8\"],[0.3333333333333333,\"#9c179e\"],[0.4444444444444444,\"#bd3786\"],[0.5555555555555556,\"#d8576b\"],[0.6666666666666666,\"#ed7953\"],[0.7777777777777778,\"#fb9f3a\"],[0.8888888888888888,\"#fdca26\"],[1.0,\"#f0f921\"]]},\"colorway\":[\"#636efa\",\"#EF553B\",\"#00cc96\",\"#ab63fa\",\"#FFA15A\",\"#19d3f3\",\"#FF6692\",\"#B6E880\",\"#FF97FF\",\"#FECB52\"],\"font\":{\"color\":\"#2a3f5f\"},\"geo\":{\"bgcolor\":\"white\",\"lakecolor\":\"white\",\"landcolor\":\"#E5ECF6\",\"showlakes\":true,\"showland\":true,\"subunitcolor\":\"white\"},\"hoverlabel\":{\"align\":\"left\"},\"hovermode\":\"closest\",\"mapbox\":{\"style\":\"light\"},\"paper_bgcolor\":\"white\",\"plot_bgcolor\":\"#E5ECF6\",\"polar\":{\"angularaxis\":{\"gridcolor\":\"white\",\"linecolor\":\"white\",\"ticks\":\"\"},\"bgcolor\":\"#E5ECF6\",\"radialaxis\":{\"gridcolor\":\"white\",\"linecolor\":\"white\",\"ticks\":\"\"}},\"scene\":{\"xaxis\":{\"backgroundcolor\":\"#E5ECF6\",\"gridcolor\":\"white\",\"gridwidth\":2,\"linecolor\":\"white\",\"showbackground\":true,\"ticks\":\"\",\"zerolinecolor\":\"white\"},\"yaxis\":{\"backgroundcolor\":\"#E5ECF6\",\"gridcolor\":\"white\",\"gridwidth\":2,\"linecolor\":\"white\",\"showbackground\":true,\"ticks\":\"\",\"zerolinecolor\":\"white\"},\"zaxis\":{\"backgroundcolor\":\"#E5ECF6\",\"gridcolor\":\"white\",\"gridwidth\":2,\"linecolor\":\"white\",\"showbackground\":true,\"ticks\":\"\",\"zerolinecolor\":\"white\"}},\"shapedefaults\":{\"line\":{\"color\":\"#2a3f5f\"}},\"ternary\":{\"aaxis\":{\"gridcolor\":\"white\",\"linecolor\":\"white\",\"ticks\":\"\"},\"baxis\":{\"gridcolor\":\"white\",\"linecolor\":\"white\",\"ticks\":\"\"},\"bgcolor\":\"#E5ECF6\",\"caxis\":{\"gridcolor\":\"white\",\"linecolor\":\"white\",\"ticks\":\"\"}},\"title\":{\"x\":0.05},\"xaxis\":{\"automargin\":true,\"gridcolor\":\"white\",\"linecolor\":\"white\",\"ticks\":\"\",\"title\":{\"standoff\":15},\"zerolinecolor\":\"white\",\"zerolinewidth\":2},\"yaxis\":{\"automargin\":true,\"gridcolor\":\"white\",\"linecolor\":\"white\",\"ticks\":\"\",\"title\":{\"standoff\":15},\"zerolinecolor\":\"white\",\"zerolinewidth\":2}}},\"xaxis\":{\"anchor\":\"y\",\"domain\":[0.0,1.0],\"title\":{\"text\":\"datetime\"}},\"yaxis\":{\"anchor\":\"x\",\"domain\":[0.0,1.0],\"title\":{\"text\":\"value\"}},\"legend\":{\"title\":{\"text\":\"coin\"},\"tracegroupgap\":0},\"margin\":{\"t\":60},\"barmode\":\"group\"},                        {\"responsive\": true}                    ).then(function(){\n",
       "                            \n",
       "var gd = document.getElementById('73327c0c-8d5e-46d3-9897-d9b3907b0bcb');\n",
       "var x = new MutationObserver(function (mutations, observer) {{\n",
       "        var display = window.getComputedStyle(gd).display;\n",
       "        if (!display || display === 'none') {{\n",
       "            console.log([gd, 'removed!']);\n",
       "            Plotly.purge(gd);\n",
       "            observer.disconnect();\n",
       "        }}\n",
       "}});\n",
       "\n",
       "// Listen for the removal of the full notebook cells\n",
       "var notebookContainer = gd.closest('#notebook-container');\n",
       "if (notebookContainer) {{\n",
       "    x.observe(notebookContainer, {childList: true});\n",
       "}}\n",
       "\n",
       "// Listen for the clearing of the current output cell\n",
       "var outputEl = gd.closest('.output');\n",
       "if (outputEl) {{\n",
       "    x.observe(outputEl, {childList: true});\n",
       "}}\n",
       "\n",
       "                        })                };                });            </script>        </div>"
      ]
     },
     "metadata": {},
     "output_type": "display_data"
    }
   ],
   "source": [
    "fig = px.bar((data_grouped_weekly-data_grouped_weekly.mean())/data_grouped_weekly.std(),\n",
    "             barmode='group')\n",
    "fig.show()"
   ]
  },
  {
   "cell_type": "code",
   "execution_count": 371,
   "metadata": {},
   "outputs": [],
   "source": [
    "data_grouped_weekly_normalized = data_grouped_weekly / data_grouped_weekly.max()"
   ]
  },
  {
   "cell_type": "code",
   "execution_count": 372,
   "metadata": {},
   "outputs": [
    {
     "data": {
      "application/vnd.plotly.v1+json": {
       "config": {
        "plotlyServerURL": "https://plot.ly"
       },
       "data": [
        {
         "alignmentgroup": "True",
         "hovertemplate": "coin=ADA<br>datetime=%{x}<br>value=%{y}<extra></extra>",
         "legendgroup": "ADA",
         "marker": {
          "color": "red",
          "pattern": {
           "shape": ""
          }
         },
         "name": "ADA",
         "offsetgroup": "ADA",
         "orientation": "v",
         "showlegend": true,
         "textposition": "auto",
         "type": "bar",
         "x": [
          "2021-03-14T00:00:00",
          "2021-03-28T00:00:00",
          "2021-04-11T00:00:00",
          "2021-04-25T00:00:00",
          "2021-05-09T00:00:00",
          "2021-05-23T00:00:00",
          "2021-06-06T00:00:00",
          "2021-06-20T00:00:00",
          "2021-07-04T00:00:00",
          "2021-07-18T00:00:00",
          "2021-08-01T00:00:00",
          "2021-08-15T00:00:00",
          "2021-08-29T00:00:00",
          "2021-09-12T00:00:00",
          "2021-09-26T00:00:00",
          "2021-10-10T00:00:00",
          "2021-10-24T00:00:00",
          "2021-11-07T00:00:00",
          "2021-11-21T00:00:00",
          "2021-12-05T00:00:00",
          "2021-12-19T00:00:00",
          "2022-01-02T00:00:00",
          "2022-01-16T00:00:00"
         ],
         "xaxis": "x",
         "y": [
          0,
          0.2602723061036099,
          0.24996493052488855,
          0.25575405452522354,
          0.25431621558860523,
          0.3221830182027601,
          0.34870768031004296,
          0.30869345613602645,
          0.3076636900870396,
          0.3069410809981684,
          0.2823754135991457,
          0.289337376889351,
          0.3504307201676132,
          0.3174696757065929,
          0.29672956742488954,
          0.2769377669277288,
          0.24365140417808995,
          0.20873663852025404,
          0.20266243883771148,
          0.18108084627431506,
          0.16832843369153686,
          0.17759628721954437,
          0.17976038283691168
         ],
         "yaxis": "y"
        },
        {
         "alignmentgroup": "True",
         "hovertemplate": "coin=BTC<br>datetime=%{x}<br>value=%{y}<extra></extra>",
         "legendgroup": "BTC",
         "marker": {
          "color": "yellowgreen",
          "pattern": {
           "shape": ""
          }
         },
         "name": "BTC",
         "offsetgroup": "BTC",
         "orientation": "v",
         "showlegend": true,
         "textposition": "auto",
         "type": "bar",
         "x": [
          "2021-03-14T00:00:00",
          "2021-03-28T00:00:00",
          "2021-04-11T00:00:00",
          "2021-04-25T00:00:00",
          "2021-05-09T00:00:00",
          "2021-05-23T00:00:00",
          "2021-06-06T00:00:00",
          "2021-06-20T00:00:00",
          "2021-07-04T00:00:00",
          "2021-07-18T00:00:00",
          "2021-08-01T00:00:00",
          "2021-08-15T00:00:00",
          "2021-08-29T00:00:00",
          "2021-09-12T00:00:00",
          "2021-09-26T00:00:00",
          "2021-10-10T00:00:00",
          "2021-10-24T00:00:00",
          "2021-11-07T00:00:00",
          "2021-11-21T00:00:00",
          "2021-12-05T00:00:00",
          "2021-12-19T00:00:00",
          "2022-01-02T00:00:00",
          "2022-01-16T00:00:00"
         ],
         "xaxis": "x",
         "y": [
          0.6961054953356407,
          0.516674982115096,
          0.5055460725084943,
          0.4741631450343712,
          0.41804185612336825,
          0.3367026039148158,
          0.3270923471046971,
          0.315660376157436,
          0.3297004285675042,
          0.32544358302979676,
          0.34770162306664376,
          0.3217723353139718,
          0.2744555469303995,
          0.23452341215719488,
          0.2433570719087488,
          0.2583515649697809,
          0.28609869071346805,
          0.2675850184301252,
          0.26577918705409614,
          0.2630151230317932,
          0.26231591306744056,
          0.26159631982714254,
          0.2631300463700773
         ],
         "yaxis": "y"
        },
        {
         "alignmentgroup": "True",
         "hovertemplate": "coin=ETH<br>datetime=%{x}<br>value=%{y}<extra></extra>",
         "legendgroup": "ETH",
         "marker": {
          "color": "darkblue",
          "pattern": {
           "shape": ""
          }
         },
         "name": "ETH",
         "offsetgroup": "ETH",
         "orientation": "v",
         "showlegend": true,
         "textposition": "auto",
         "type": "bar",
         "x": [
          "2021-03-14T00:00:00",
          "2021-03-28T00:00:00",
          "2021-04-11T00:00:00",
          "2021-04-25T00:00:00",
          "2021-05-09T00:00:00",
          "2021-05-23T00:00:00",
          "2021-06-06T00:00:00",
          "2021-06-20T00:00:00",
          "2021-07-04T00:00:00",
          "2021-07-18T00:00:00",
          "2021-08-01T00:00:00",
          "2021-08-15T00:00:00",
          "2021-08-29T00:00:00",
          "2021-09-12T00:00:00",
          "2021-09-26T00:00:00",
          "2021-10-10T00:00:00",
          "2021-10-24T00:00:00",
          "2021-11-07T00:00:00",
          "2021-11-21T00:00:00",
          "2021-12-05T00:00:00",
          "2021-12-19T00:00:00",
          "2022-01-02T00:00:00",
          "2022-01-16T00:00:00"
         ],
         "xaxis": "x",
         "y": [
          0.3038945046643593,
          0.22305271178129404,
          0.2444889969666172,
          0.27008280044040534,
          0.3276419282880266,
          0.3411143778824242,
          0.3241999725852599,
          0.288475445597838,
          0.2780698262429965,
          0.28393073704582295,
          0.2939764895577386,
          0.30812651291430826,
          0.25512452563581783,
          0.24409285165695932,
          0.24117539933520601,
          0.24289749282765993,
          0.2534211295771572,
          0.26479603022868087,
          0.26577918705409614,
          0.28475310019746364,
          0.3060357085177284,
          0.29294407938252576,
          0.2975229588963196
         ],
         "yaxis": "y"
        },
        {
         "alignmentgroup": "True",
         "hovertemplate": "coin=SOL<br>datetime=%{x}<br>value=%{y}<extra></extra>",
         "legendgroup": "SOL",
         "marker": {
          "color": "green",
          "pattern": {
           "shape": ""
          }
         },
         "name": "SOL",
         "offsetgroup": "SOL",
         "orientation": "v",
         "showlegend": true,
         "textposition": "auto",
         "type": "bar",
         "x": [
          "2021-03-14T00:00:00",
          "2021-03-28T00:00:00",
          "2021-04-11T00:00:00",
          "2021-04-25T00:00:00",
          "2021-05-09T00:00:00",
          "2021-05-23T00:00:00",
          "2021-06-06T00:00:00",
          "2021-06-20T00:00:00",
          "2021-07-04T00:00:00",
          "2021-07-18T00:00:00",
          "2021-08-01T00:00:00",
          "2021-08-15T00:00:00",
          "2021-08-29T00:00:00",
          "2021-09-12T00:00:00",
          "2021-09-26T00:00:00",
          "2021-10-10T00:00:00",
          "2021-10-24T00:00:00",
          "2021-11-07T00:00:00",
          "2021-11-21T00:00:00",
          "2021-12-05T00:00:00",
          "2021-12-19T00:00:00",
          "2022-01-02T00:00:00",
          "2022-01-16T00:00:00"
         ],
         "xaxis": "x",
         "y": [
          0,
          0,
          0,
          0,
          0,
          0,
          0,
          0.08717072210869958,
          0.08456605510245996,
          0.08368459892621187,
          0.07594647377647193,
          0.08076377488236887,
          0.11998920726616959,
          0.20391406047925284,
          0.2187379613311557,
          0.22181317527483052,
          0.21682877553128477,
          0.25888231282094004,
          0.26577918705409614,
          0.271150930496428,
          0.2633199447232941,
          0.2678633135707873,
          0.25958661189669163
         ],
         "yaxis": "y"
        }
       ],
       "layout": {
        "barmode": "relative",
        "legend": {
         "title": {
          "text": "coin"
         },
         "tracegroupgap": 0
        },
        "margin": {
         "t": 60
        },
        "template": {
         "data": {
          "bar": [
           {
            "error_x": {
             "color": "#2a3f5f"
            },
            "error_y": {
             "color": "#2a3f5f"
            },
            "marker": {
             "line": {
              "color": "#E5ECF6",
              "width": 0.5
             },
             "pattern": {
              "fillmode": "overlay",
              "size": 10,
              "solidity": 0.2
             }
            },
            "type": "bar"
           }
          ],
          "barpolar": [
           {
            "marker": {
             "line": {
              "color": "#E5ECF6",
              "width": 0.5
             },
             "pattern": {
              "fillmode": "overlay",
              "size": 10,
              "solidity": 0.2
             }
            },
            "type": "barpolar"
           }
          ],
          "carpet": [
           {
            "aaxis": {
             "endlinecolor": "#2a3f5f",
             "gridcolor": "white",
             "linecolor": "white",
             "minorgridcolor": "white",
             "startlinecolor": "#2a3f5f"
            },
            "baxis": {
             "endlinecolor": "#2a3f5f",
             "gridcolor": "white",
             "linecolor": "white",
             "minorgridcolor": "white",
             "startlinecolor": "#2a3f5f"
            },
            "type": "carpet"
           }
          ],
          "choropleth": [
           {
            "colorbar": {
             "outlinewidth": 0,
             "ticks": ""
            },
            "type": "choropleth"
           }
          ],
          "contour": [
           {
            "colorbar": {
             "outlinewidth": 0,
             "ticks": ""
            },
            "colorscale": [
             [
              0,
              "#0d0887"
             ],
             [
              0.1111111111111111,
              "#46039f"
             ],
             [
              0.2222222222222222,
              "#7201a8"
             ],
             [
              0.3333333333333333,
              "#9c179e"
             ],
             [
              0.4444444444444444,
              "#bd3786"
             ],
             [
              0.5555555555555556,
              "#d8576b"
             ],
             [
              0.6666666666666666,
              "#ed7953"
             ],
             [
              0.7777777777777778,
              "#fb9f3a"
             ],
             [
              0.8888888888888888,
              "#fdca26"
             ],
             [
              1,
              "#f0f921"
             ]
            ],
            "type": "contour"
           }
          ],
          "contourcarpet": [
           {
            "colorbar": {
             "outlinewidth": 0,
             "ticks": ""
            },
            "type": "contourcarpet"
           }
          ],
          "heatmap": [
           {
            "colorbar": {
             "outlinewidth": 0,
             "ticks": ""
            },
            "colorscale": [
             [
              0,
              "#0d0887"
             ],
             [
              0.1111111111111111,
              "#46039f"
             ],
             [
              0.2222222222222222,
              "#7201a8"
             ],
             [
              0.3333333333333333,
              "#9c179e"
             ],
             [
              0.4444444444444444,
              "#bd3786"
             ],
             [
              0.5555555555555556,
              "#d8576b"
             ],
             [
              0.6666666666666666,
              "#ed7953"
             ],
             [
              0.7777777777777778,
              "#fb9f3a"
             ],
             [
              0.8888888888888888,
              "#fdca26"
             ],
             [
              1,
              "#f0f921"
             ]
            ],
            "type": "heatmap"
           }
          ],
          "heatmapgl": [
           {
            "colorbar": {
             "outlinewidth": 0,
             "ticks": ""
            },
            "colorscale": [
             [
              0,
              "#0d0887"
             ],
             [
              0.1111111111111111,
              "#46039f"
             ],
             [
              0.2222222222222222,
              "#7201a8"
             ],
             [
              0.3333333333333333,
              "#9c179e"
             ],
             [
              0.4444444444444444,
              "#bd3786"
             ],
             [
              0.5555555555555556,
              "#d8576b"
             ],
             [
              0.6666666666666666,
              "#ed7953"
             ],
             [
              0.7777777777777778,
              "#fb9f3a"
             ],
             [
              0.8888888888888888,
              "#fdca26"
             ],
             [
              1,
              "#f0f921"
             ]
            ],
            "type": "heatmapgl"
           }
          ],
          "histogram": [
           {
            "marker": {
             "pattern": {
              "fillmode": "overlay",
              "size": 10,
              "solidity": 0.2
             }
            },
            "type": "histogram"
           }
          ],
          "histogram2d": [
           {
            "colorbar": {
             "outlinewidth": 0,
             "ticks": ""
            },
            "colorscale": [
             [
              0,
              "#0d0887"
             ],
             [
              0.1111111111111111,
              "#46039f"
             ],
             [
              0.2222222222222222,
              "#7201a8"
             ],
             [
              0.3333333333333333,
              "#9c179e"
             ],
             [
              0.4444444444444444,
              "#bd3786"
             ],
             [
              0.5555555555555556,
              "#d8576b"
             ],
             [
              0.6666666666666666,
              "#ed7953"
             ],
             [
              0.7777777777777778,
              "#fb9f3a"
             ],
             [
              0.8888888888888888,
              "#fdca26"
             ],
             [
              1,
              "#f0f921"
             ]
            ],
            "type": "histogram2d"
           }
          ],
          "histogram2dcontour": [
           {
            "colorbar": {
             "outlinewidth": 0,
             "ticks": ""
            },
            "colorscale": [
             [
              0,
              "#0d0887"
             ],
             [
              0.1111111111111111,
              "#46039f"
             ],
             [
              0.2222222222222222,
              "#7201a8"
             ],
             [
              0.3333333333333333,
              "#9c179e"
             ],
             [
              0.4444444444444444,
              "#bd3786"
             ],
             [
              0.5555555555555556,
              "#d8576b"
             ],
             [
              0.6666666666666666,
              "#ed7953"
             ],
             [
              0.7777777777777778,
              "#fb9f3a"
             ],
             [
              0.8888888888888888,
              "#fdca26"
             ],
             [
              1,
              "#f0f921"
             ]
            ],
            "type": "histogram2dcontour"
           }
          ],
          "mesh3d": [
           {
            "colorbar": {
             "outlinewidth": 0,
             "ticks": ""
            },
            "type": "mesh3d"
           }
          ],
          "parcoords": [
           {
            "line": {
             "colorbar": {
              "outlinewidth": 0,
              "ticks": ""
             }
            },
            "type": "parcoords"
           }
          ],
          "pie": [
           {
            "automargin": true,
            "type": "pie"
           }
          ],
          "scatter": [
           {
            "marker": {
             "colorbar": {
              "outlinewidth": 0,
              "ticks": ""
             }
            },
            "type": "scatter"
           }
          ],
          "scatter3d": [
           {
            "line": {
             "colorbar": {
              "outlinewidth": 0,
              "ticks": ""
             }
            },
            "marker": {
             "colorbar": {
              "outlinewidth": 0,
              "ticks": ""
             }
            },
            "type": "scatter3d"
           }
          ],
          "scattercarpet": [
           {
            "marker": {
             "colorbar": {
              "outlinewidth": 0,
              "ticks": ""
             }
            },
            "type": "scattercarpet"
           }
          ],
          "scattergeo": [
           {
            "marker": {
             "colorbar": {
              "outlinewidth": 0,
              "ticks": ""
             }
            },
            "type": "scattergeo"
           }
          ],
          "scattergl": [
           {
            "marker": {
             "colorbar": {
              "outlinewidth": 0,
              "ticks": ""
             }
            },
            "type": "scattergl"
           }
          ],
          "scattermapbox": [
           {
            "marker": {
             "colorbar": {
              "outlinewidth": 0,
              "ticks": ""
             }
            },
            "type": "scattermapbox"
           }
          ],
          "scatterpolar": [
           {
            "marker": {
             "colorbar": {
              "outlinewidth": 0,
              "ticks": ""
             }
            },
            "type": "scatterpolar"
           }
          ],
          "scatterpolargl": [
           {
            "marker": {
             "colorbar": {
              "outlinewidth": 0,
              "ticks": ""
             }
            },
            "type": "scatterpolargl"
           }
          ],
          "scatterternary": [
           {
            "marker": {
             "colorbar": {
              "outlinewidth": 0,
              "ticks": ""
             }
            },
            "type": "scatterternary"
           }
          ],
          "surface": [
           {
            "colorbar": {
             "outlinewidth": 0,
             "ticks": ""
            },
            "colorscale": [
             [
              0,
              "#0d0887"
             ],
             [
              0.1111111111111111,
              "#46039f"
             ],
             [
              0.2222222222222222,
              "#7201a8"
             ],
             [
              0.3333333333333333,
              "#9c179e"
             ],
             [
              0.4444444444444444,
              "#bd3786"
             ],
             [
              0.5555555555555556,
              "#d8576b"
             ],
             [
              0.6666666666666666,
              "#ed7953"
             ],
             [
              0.7777777777777778,
              "#fb9f3a"
             ],
             [
              0.8888888888888888,
              "#fdca26"
             ],
             [
              1,
              "#f0f921"
             ]
            ],
            "type": "surface"
           }
          ],
          "table": [
           {
            "cells": {
             "fill": {
              "color": "#EBF0F8"
             },
             "line": {
              "color": "white"
             }
            },
            "header": {
             "fill": {
              "color": "#C8D4E3"
             },
             "line": {
              "color": "white"
             }
            },
            "type": "table"
           }
          ]
         },
         "layout": {
          "annotationdefaults": {
           "arrowcolor": "#2a3f5f",
           "arrowhead": 0,
           "arrowwidth": 1
          },
          "autotypenumbers": "strict",
          "coloraxis": {
           "colorbar": {
            "outlinewidth": 0,
            "ticks": ""
           }
          },
          "colorscale": {
           "diverging": [
            [
             0,
             "#8e0152"
            ],
            [
             0.1,
             "#c51b7d"
            ],
            [
             0.2,
             "#de77ae"
            ],
            [
             0.3,
             "#f1b6da"
            ],
            [
             0.4,
             "#fde0ef"
            ],
            [
             0.5,
             "#f7f7f7"
            ],
            [
             0.6,
             "#e6f5d0"
            ],
            [
             0.7,
             "#b8e186"
            ],
            [
             0.8,
             "#7fbc41"
            ],
            [
             0.9,
             "#4d9221"
            ],
            [
             1,
             "#276419"
            ]
           ],
           "sequential": [
            [
             0,
             "#0d0887"
            ],
            [
             0.1111111111111111,
             "#46039f"
            ],
            [
             0.2222222222222222,
             "#7201a8"
            ],
            [
             0.3333333333333333,
             "#9c179e"
            ],
            [
             0.4444444444444444,
             "#bd3786"
            ],
            [
             0.5555555555555556,
             "#d8576b"
            ],
            [
             0.6666666666666666,
             "#ed7953"
            ],
            [
             0.7777777777777778,
             "#fb9f3a"
            ],
            [
             0.8888888888888888,
             "#fdca26"
            ],
            [
             1,
             "#f0f921"
            ]
           ],
           "sequentialminus": [
            [
             0,
             "#0d0887"
            ],
            [
             0.1111111111111111,
             "#46039f"
            ],
            [
             0.2222222222222222,
             "#7201a8"
            ],
            [
             0.3333333333333333,
             "#9c179e"
            ],
            [
             0.4444444444444444,
             "#bd3786"
            ],
            [
             0.5555555555555556,
             "#d8576b"
            ],
            [
             0.6666666666666666,
             "#ed7953"
            ],
            [
             0.7777777777777778,
             "#fb9f3a"
            ],
            [
             0.8888888888888888,
             "#fdca26"
            ],
            [
             1,
             "#f0f921"
            ]
           ]
          },
          "colorway": [
           "#636efa",
           "#EF553B",
           "#00cc96",
           "#ab63fa",
           "#FFA15A",
           "#19d3f3",
           "#FF6692",
           "#B6E880",
           "#FF97FF",
           "#FECB52"
          ],
          "font": {
           "color": "#2a3f5f"
          },
          "geo": {
           "bgcolor": "white",
           "lakecolor": "white",
           "landcolor": "#E5ECF6",
           "showlakes": true,
           "showland": true,
           "subunitcolor": "white"
          },
          "hoverlabel": {
           "align": "left"
          },
          "hovermode": "closest",
          "mapbox": {
           "style": "light"
          },
          "paper_bgcolor": "white",
          "plot_bgcolor": "#E5ECF6",
          "polar": {
           "angularaxis": {
            "gridcolor": "white",
            "linecolor": "white",
            "ticks": ""
           },
           "bgcolor": "#E5ECF6",
           "radialaxis": {
            "gridcolor": "white",
            "linecolor": "white",
            "ticks": ""
           }
          },
          "scene": {
           "xaxis": {
            "backgroundcolor": "#E5ECF6",
            "gridcolor": "white",
            "gridwidth": 2,
            "linecolor": "white",
            "showbackground": true,
            "ticks": "",
            "zerolinecolor": "white"
           },
           "yaxis": {
            "backgroundcolor": "#E5ECF6",
            "gridcolor": "white",
            "gridwidth": 2,
            "linecolor": "white",
            "showbackground": true,
            "ticks": "",
            "zerolinecolor": "white"
           },
           "zaxis": {
            "backgroundcolor": "#E5ECF6",
            "gridcolor": "white",
            "gridwidth": 2,
            "linecolor": "white",
            "showbackground": true,
            "ticks": "",
            "zerolinecolor": "white"
           }
          },
          "shapedefaults": {
           "line": {
            "color": "#2a3f5f"
           }
          },
          "ternary": {
           "aaxis": {
            "gridcolor": "white",
            "linecolor": "white",
            "ticks": ""
           },
           "baxis": {
            "gridcolor": "white",
            "linecolor": "white",
            "ticks": ""
           },
           "bgcolor": "#E5ECF6",
           "caxis": {
            "gridcolor": "white",
            "linecolor": "white",
            "ticks": ""
           }
          },
          "title": {
           "x": 0.05
          },
          "xaxis": {
           "automargin": true,
           "gridcolor": "white",
           "linecolor": "white",
           "ticks": "",
           "title": {
            "standoff": 15
           },
           "zerolinecolor": "white",
           "zerolinewidth": 2
          },
          "yaxis": {
           "automargin": true,
           "gridcolor": "white",
           "linecolor": "white",
           "ticks": "",
           "title": {
            "standoff": 15
           },
           "zerolinecolor": "white",
           "zerolinewidth": 2
          }
         }
        },
        "xaxis": {
         "anchor": "y",
         "domain": [
          0,
          1
         ],
         "title": {
          "text": "datetime"
         }
        },
        "yaxis": {
         "anchor": "x",
         "domain": [
          0,
          1
         ],
         "title": {
          "text": "value"
         }
        }
       }
      },
      "text/html": [
       "<div>                            <div id=\"53f305d7-bfd8-42d6-af1b-c9864d4a00e7\" class=\"plotly-graph-div\" style=\"height:525px; width:100%;\"></div>            <script type=\"text/javascript\">                require([\"plotly\"], function(Plotly) {                    window.PLOTLYENV=window.PLOTLYENV || {};                                    if (document.getElementById(\"53f305d7-bfd8-42d6-af1b-c9864d4a00e7\")) {                    Plotly.newPlot(                        \"53f305d7-bfd8-42d6-af1b-c9864d4a00e7\",                        [{\"alignmentgroup\":\"True\",\"hovertemplate\":\"coin=ADA<br>datetime=%{x}<br>value=%{y}<extra></extra>\",\"legendgroup\":\"ADA\",\"marker\":{\"color\":\"red\",\"pattern\":{\"shape\":\"\"}},\"name\":\"ADA\",\"offsetgroup\":\"ADA\",\"orientation\":\"v\",\"showlegend\":true,\"textposition\":\"auto\",\"x\":[\"2021-03-14T00:00:00\",\"2021-03-28T00:00:00\",\"2021-04-11T00:00:00\",\"2021-04-25T00:00:00\",\"2021-05-09T00:00:00\",\"2021-05-23T00:00:00\",\"2021-06-06T00:00:00\",\"2021-06-20T00:00:00\",\"2021-07-04T00:00:00\",\"2021-07-18T00:00:00\",\"2021-08-01T00:00:00\",\"2021-08-15T00:00:00\",\"2021-08-29T00:00:00\",\"2021-09-12T00:00:00\",\"2021-09-26T00:00:00\",\"2021-10-10T00:00:00\",\"2021-10-24T00:00:00\",\"2021-11-07T00:00:00\",\"2021-11-21T00:00:00\",\"2021-12-05T00:00:00\",\"2021-12-19T00:00:00\",\"2022-01-02T00:00:00\",\"2022-01-16T00:00:00\"],\"xaxis\":\"x\",\"y\":[0.0,0.2602723061036099,0.24996493052488855,0.25575405452522354,0.25431621558860523,0.3221830182027601,0.34870768031004296,0.30869345613602645,0.3076636900870396,0.3069410809981684,0.2823754135991457,0.289337376889351,0.3504307201676132,0.3174696757065929,0.29672956742488954,0.2769377669277288,0.24365140417808995,0.20873663852025404,0.20266243883771148,0.18108084627431506,0.16832843369153686,0.17759628721954437,0.17976038283691168],\"yaxis\":\"y\",\"type\":\"bar\"},{\"alignmentgroup\":\"True\",\"hovertemplate\":\"coin=BTC<br>datetime=%{x}<br>value=%{y}<extra></extra>\",\"legendgroup\":\"BTC\",\"marker\":{\"color\":\"yellowgreen\",\"pattern\":{\"shape\":\"\"}},\"name\":\"BTC\",\"offsetgroup\":\"BTC\",\"orientation\":\"v\",\"showlegend\":true,\"textposition\":\"auto\",\"x\":[\"2021-03-14T00:00:00\",\"2021-03-28T00:00:00\",\"2021-04-11T00:00:00\",\"2021-04-25T00:00:00\",\"2021-05-09T00:00:00\",\"2021-05-23T00:00:00\",\"2021-06-06T00:00:00\",\"2021-06-20T00:00:00\",\"2021-07-04T00:00:00\",\"2021-07-18T00:00:00\",\"2021-08-01T00:00:00\",\"2021-08-15T00:00:00\",\"2021-08-29T00:00:00\",\"2021-09-12T00:00:00\",\"2021-09-26T00:00:00\",\"2021-10-10T00:00:00\",\"2021-10-24T00:00:00\",\"2021-11-07T00:00:00\",\"2021-11-21T00:00:00\",\"2021-12-05T00:00:00\",\"2021-12-19T00:00:00\",\"2022-01-02T00:00:00\",\"2022-01-16T00:00:00\"],\"xaxis\":\"x\",\"y\":[0.6961054953356407,0.516674982115096,0.5055460725084943,0.4741631450343712,0.41804185612336825,0.3367026039148158,0.3270923471046971,0.315660376157436,0.3297004285675042,0.32544358302979676,0.34770162306664376,0.3217723353139718,0.2744555469303995,0.23452341215719488,0.2433570719087488,0.2583515649697809,0.28609869071346805,0.2675850184301252,0.26577918705409614,0.2630151230317932,0.26231591306744056,0.26159631982714254,0.2631300463700773],\"yaxis\":\"y\",\"type\":\"bar\"},{\"alignmentgroup\":\"True\",\"hovertemplate\":\"coin=ETH<br>datetime=%{x}<br>value=%{y}<extra></extra>\",\"legendgroup\":\"ETH\",\"marker\":{\"color\":\"darkblue\",\"pattern\":{\"shape\":\"\"}},\"name\":\"ETH\",\"offsetgroup\":\"ETH\",\"orientation\":\"v\",\"showlegend\":true,\"textposition\":\"auto\",\"x\":[\"2021-03-14T00:00:00\",\"2021-03-28T00:00:00\",\"2021-04-11T00:00:00\",\"2021-04-25T00:00:00\",\"2021-05-09T00:00:00\",\"2021-05-23T00:00:00\",\"2021-06-06T00:00:00\",\"2021-06-20T00:00:00\",\"2021-07-04T00:00:00\",\"2021-07-18T00:00:00\",\"2021-08-01T00:00:00\",\"2021-08-15T00:00:00\",\"2021-08-29T00:00:00\",\"2021-09-12T00:00:00\",\"2021-09-26T00:00:00\",\"2021-10-10T00:00:00\",\"2021-10-24T00:00:00\",\"2021-11-07T00:00:00\",\"2021-11-21T00:00:00\",\"2021-12-05T00:00:00\",\"2021-12-19T00:00:00\",\"2022-01-02T00:00:00\",\"2022-01-16T00:00:00\"],\"xaxis\":\"x\",\"y\":[0.3038945046643593,0.22305271178129404,0.2444889969666172,0.27008280044040534,0.3276419282880266,0.3411143778824242,0.3241999725852599,0.288475445597838,0.2780698262429965,0.28393073704582295,0.2939764895577386,0.30812651291430826,0.25512452563581783,0.24409285165695932,0.24117539933520601,0.24289749282765993,0.2534211295771572,0.26479603022868087,0.26577918705409614,0.28475310019746364,0.3060357085177284,0.29294407938252576,0.2975229588963196],\"yaxis\":\"y\",\"type\":\"bar\"},{\"alignmentgroup\":\"True\",\"hovertemplate\":\"coin=SOL<br>datetime=%{x}<br>value=%{y}<extra></extra>\",\"legendgroup\":\"SOL\",\"marker\":{\"color\":\"green\",\"pattern\":{\"shape\":\"\"}},\"name\":\"SOL\",\"offsetgroup\":\"SOL\",\"orientation\":\"v\",\"showlegend\":true,\"textposition\":\"auto\",\"x\":[\"2021-03-14T00:00:00\",\"2021-03-28T00:00:00\",\"2021-04-11T00:00:00\",\"2021-04-25T00:00:00\",\"2021-05-09T00:00:00\",\"2021-05-23T00:00:00\",\"2021-06-06T00:00:00\",\"2021-06-20T00:00:00\",\"2021-07-04T00:00:00\",\"2021-07-18T00:00:00\",\"2021-08-01T00:00:00\",\"2021-08-15T00:00:00\",\"2021-08-29T00:00:00\",\"2021-09-12T00:00:00\",\"2021-09-26T00:00:00\",\"2021-10-10T00:00:00\",\"2021-10-24T00:00:00\",\"2021-11-07T00:00:00\",\"2021-11-21T00:00:00\",\"2021-12-05T00:00:00\",\"2021-12-19T00:00:00\",\"2022-01-02T00:00:00\",\"2022-01-16T00:00:00\"],\"xaxis\":\"x\",\"y\":[0.0,0.0,0.0,0.0,0.0,0.0,0.0,0.08717072210869958,0.08456605510245996,0.08368459892621187,0.07594647377647193,0.08076377488236887,0.11998920726616959,0.20391406047925284,0.2187379613311557,0.22181317527483052,0.21682877553128477,0.25888231282094004,0.26577918705409614,0.271150930496428,0.2633199447232941,0.2678633135707873,0.25958661189669163],\"yaxis\":\"y\",\"type\":\"bar\"}],                        {\"template\":{\"data\":{\"bar\":[{\"error_x\":{\"color\":\"#2a3f5f\"},\"error_y\":{\"color\":\"#2a3f5f\"},\"marker\":{\"line\":{\"color\":\"#E5ECF6\",\"width\":0.5},\"pattern\":{\"fillmode\":\"overlay\",\"size\":10,\"solidity\":0.2}},\"type\":\"bar\"}],\"barpolar\":[{\"marker\":{\"line\":{\"color\":\"#E5ECF6\",\"width\":0.5},\"pattern\":{\"fillmode\":\"overlay\",\"size\":10,\"solidity\":0.2}},\"type\":\"barpolar\"}],\"carpet\":[{\"aaxis\":{\"endlinecolor\":\"#2a3f5f\",\"gridcolor\":\"white\",\"linecolor\":\"white\",\"minorgridcolor\":\"white\",\"startlinecolor\":\"#2a3f5f\"},\"baxis\":{\"endlinecolor\":\"#2a3f5f\",\"gridcolor\":\"white\",\"linecolor\":\"white\",\"minorgridcolor\":\"white\",\"startlinecolor\":\"#2a3f5f\"},\"type\":\"carpet\"}],\"choropleth\":[{\"colorbar\":{\"outlinewidth\":0,\"ticks\":\"\"},\"type\":\"choropleth\"}],\"contour\":[{\"colorbar\":{\"outlinewidth\":0,\"ticks\":\"\"},\"colorscale\":[[0.0,\"#0d0887\"],[0.1111111111111111,\"#46039f\"],[0.2222222222222222,\"#7201a8\"],[0.3333333333333333,\"#9c179e\"],[0.4444444444444444,\"#bd3786\"],[0.5555555555555556,\"#d8576b\"],[0.6666666666666666,\"#ed7953\"],[0.7777777777777778,\"#fb9f3a\"],[0.8888888888888888,\"#fdca26\"],[1.0,\"#f0f921\"]],\"type\":\"contour\"}],\"contourcarpet\":[{\"colorbar\":{\"outlinewidth\":0,\"ticks\":\"\"},\"type\":\"contourcarpet\"}],\"heatmap\":[{\"colorbar\":{\"outlinewidth\":0,\"ticks\":\"\"},\"colorscale\":[[0.0,\"#0d0887\"],[0.1111111111111111,\"#46039f\"],[0.2222222222222222,\"#7201a8\"],[0.3333333333333333,\"#9c179e\"],[0.4444444444444444,\"#bd3786\"],[0.5555555555555556,\"#d8576b\"],[0.6666666666666666,\"#ed7953\"],[0.7777777777777778,\"#fb9f3a\"],[0.8888888888888888,\"#fdca26\"],[1.0,\"#f0f921\"]],\"type\":\"heatmap\"}],\"heatmapgl\":[{\"colorbar\":{\"outlinewidth\":0,\"ticks\":\"\"},\"colorscale\":[[0.0,\"#0d0887\"],[0.1111111111111111,\"#46039f\"],[0.2222222222222222,\"#7201a8\"],[0.3333333333333333,\"#9c179e\"],[0.4444444444444444,\"#bd3786\"],[0.5555555555555556,\"#d8576b\"],[0.6666666666666666,\"#ed7953\"],[0.7777777777777778,\"#fb9f3a\"],[0.8888888888888888,\"#fdca26\"],[1.0,\"#f0f921\"]],\"type\":\"heatmapgl\"}],\"histogram\":[{\"marker\":{\"pattern\":{\"fillmode\":\"overlay\",\"size\":10,\"solidity\":0.2}},\"type\":\"histogram\"}],\"histogram2d\":[{\"colorbar\":{\"outlinewidth\":0,\"ticks\":\"\"},\"colorscale\":[[0.0,\"#0d0887\"],[0.1111111111111111,\"#46039f\"],[0.2222222222222222,\"#7201a8\"],[0.3333333333333333,\"#9c179e\"],[0.4444444444444444,\"#bd3786\"],[0.5555555555555556,\"#d8576b\"],[0.6666666666666666,\"#ed7953\"],[0.7777777777777778,\"#fb9f3a\"],[0.8888888888888888,\"#fdca26\"],[1.0,\"#f0f921\"]],\"type\":\"histogram2d\"}],\"histogram2dcontour\":[{\"colorbar\":{\"outlinewidth\":0,\"ticks\":\"\"},\"colorscale\":[[0.0,\"#0d0887\"],[0.1111111111111111,\"#46039f\"],[0.2222222222222222,\"#7201a8\"],[0.3333333333333333,\"#9c179e\"],[0.4444444444444444,\"#bd3786\"],[0.5555555555555556,\"#d8576b\"],[0.6666666666666666,\"#ed7953\"],[0.7777777777777778,\"#fb9f3a\"],[0.8888888888888888,\"#fdca26\"],[1.0,\"#f0f921\"]],\"type\":\"histogram2dcontour\"}],\"mesh3d\":[{\"colorbar\":{\"outlinewidth\":0,\"ticks\":\"\"},\"type\":\"mesh3d\"}],\"parcoords\":[{\"line\":{\"colorbar\":{\"outlinewidth\":0,\"ticks\":\"\"}},\"type\":\"parcoords\"}],\"pie\":[{\"automargin\":true,\"type\":\"pie\"}],\"scatter\":[{\"marker\":{\"colorbar\":{\"outlinewidth\":0,\"ticks\":\"\"}},\"type\":\"scatter\"}],\"scatter3d\":[{\"line\":{\"colorbar\":{\"outlinewidth\":0,\"ticks\":\"\"}},\"marker\":{\"colorbar\":{\"outlinewidth\":0,\"ticks\":\"\"}},\"type\":\"scatter3d\"}],\"scattercarpet\":[{\"marker\":{\"colorbar\":{\"outlinewidth\":0,\"ticks\":\"\"}},\"type\":\"scattercarpet\"}],\"scattergeo\":[{\"marker\":{\"colorbar\":{\"outlinewidth\":0,\"ticks\":\"\"}},\"type\":\"scattergeo\"}],\"scattergl\":[{\"marker\":{\"colorbar\":{\"outlinewidth\":0,\"ticks\":\"\"}},\"type\":\"scattergl\"}],\"scattermapbox\":[{\"marker\":{\"colorbar\":{\"outlinewidth\":0,\"ticks\":\"\"}},\"type\":\"scattermapbox\"}],\"scatterpolar\":[{\"marker\":{\"colorbar\":{\"outlinewidth\":0,\"ticks\":\"\"}},\"type\":\"scatterpolar\"}],\"scatterpolargl\":[{\"marker\":{\"colorbar\":{\"outlinewidth\":0,\"ticks\":\"\"}},\"type\":\"scatterpolargl\"}],\"scatterternary\":[{\"marker\":{\"colorbar\":{\"outlinewidth\":0,\"ticks\":\"\"}},\"type\":\"scatterternary\"}],\"surface\":[{\"colorbar\":{\"outlinewidth\":0,\"ticks\":\"\"},\"colorscale\":[[0.0,\"#0d0887\"],[0.1111111111111111,\"#46039f\"],[0.2222222222222222,\"#7201a8\"],[0.3333333333333333,\"#9c179e\"],[0.4444444444444444,\"#bd3786\"],[0.5555555555555556,\"#d8576b\"],[0.6666666666666666,\"#ed7953\"],[0.7777777777777778,\"#fb9f3a\"],[0.8888888888888888,\"#fdca26\"],[1.0,\"#f0f921\"]],\"type\":\"surface\"}],\"table\":[{\"cells\":{\"fill\":{\"color\":\"#EBF0F8\"},\"line\":{\"color\":\"white\"}},\"header\":{\"fill\":{\"color\":\"#C8D4E3\"},\"line\":{\"color\":\"white\"}},\"type\":\"table\"}]},\"layout\":{\"annotationdefaults\":{\"arrowcolor\":\"#2a3f5f\",\"arrowhead\":0,\"arrowwidth\":1},\"autotypenumbers\":\"strict\",\"coloraxis\":{\"colorbar\":{\"outlinewidth\":0,\"ticks\":\"\"}},\"colorscale\":{\"diverging\":[[0,\"#8e0152\"],[0.1,\"#c51b7d\"],[0.2,\"#de77ae\"],[0.3,\"#f1b6da\"],[0.4,\"#fde0ef\"],[0.5,\"#f7f7f7\"],[0.6,\"#e6f5d0\"],[0.7,\"#b8e186\"],[0.8,\"#7fbc41\"],[0.9,\"#4d9221\"],[1,\"#276419\"]],\"sequential\":[[0.0,\"#0d0887\"],[0.1111111111111111,\"#46039f\"],[0.2222222222222222,\"#7201a8\"],[0.3333333333333333,\"#9c179e\"],[0.4444444444444444,\"#bd3786\"],[0.5555555555555556,\"#d8576b\"],[0.6666666666666666,\"#ed7953\"],[0.7777777777777778,\"#fb9f3a\"],[0.8888888888888888,\"#fdca26\"],[1.0,\"#f0f921\"]],\"sequentialminus\":[[0.0,\"#0d0887\"],[0.1111111111111111,\"#46039f\"],[0.2222222222222222,\"#7201a8\"],[0.3333333333333333,\"#9c179e\"],[0.4444444444444444,\"#bd3786\"],[0.5555555555555556,\"#d8576b\"],[0.6666666666666666,\"#ed7953\"],[0.7777777777777778,\"#fb9f3a\"],[0.8888888888888888,\"#fdca26\"],[1.0,\"#f0f921\"]]},\"colorway\":[\"#636efa\",\"#EF553B\",\"#00cc96\",\"#ab63fa\",\"#FFA15A\",\"#19d3f3\",\"#FF6692\",\"#B6E880\",\"#FF97FF\",\"#FECB52\"],\"font\":{\"color\":\"#2a3f5f\"},\"geo\":{\"bgcolor\":\"white\",\"lakecolor\":\"white\",\"landcolor\":\"#E5ECF6\",\"showlakes\":true,\"showland\":true,\"subunitcolor\":\"white\"},\"hoverlabel\":{\"align\":\"left\"},\"hovermode\":\"closest\",\"mapbox\":{\"style\":\"light\"},\"paper_bgcolor\":\"white\",\"plot_bgcolor\":\"#E5ECF6\",\"polar\":{\"angularaxis\":{\"gridcolor\":\"white\",\"linecolor\":\"white\",\"ticks\":\"\"},\"bgcolor\":\"#E5ECF6\",\"radialaxis\":{\"gridcolor\":\"white\",\"linecolor\":\"white\",\"ticks\":\"\"}},\"scene\":{\"xaxis\":{\"backgroundcolor\":\"#E5ECF6\",\"gridcolor\":\"white\",\"gridwidth\":2,\"linecolor\":\"white\",\"showbackground\":true,\"ticks\":\"\",\"zerolinecolor\":\"white\"},\"yaxis\":{\"backgroundcolor\":\"#E5ECF6\",\"gridcolor\":\"white\",\"gridwidth\":2,\"linecolor\":\"white\",\"showbackground\":true,\"ticks\":\"\",\"zerolinecolor\":\"white\"},\"zaxis\":{\"backgroundcolor\":\"#E5ECF6\",\"gridcolor\":\"white\",\"gridwidth\":2,\"linecolor\":\"white\",\"showbackground\":true,\"ticks\":\"\",\"zerolinecolor\":\"white\"}},\"shapedefaults\":{\"line\":{\"color\":\"#2a3f5f\"}},\"ternary\":{\"aaxis\":{\"gridcolor\":\"white\",\"linecolor\":\"white\",\"ticks\":\"\"},\"baxis\":{\"gridcolor\":\"white\",\"linecolor\":\"white\",\"ticks\":\"\"},\"bgcolor\":\"#E5ECF6\",\"caxis\":{\"gridcolor\":\"white\",\"linecolor\":\"white\",\"ticks\":\"\"}},\"title\":{\"x\":0.05},\"xaxis\":{\"automargin\":true,\"gridcolor\":\"white\",\"linecolor\":\"white\",\"ticks\":\"\",\"title\":{\"standoff\":15},\"zerolinecolor\":\"white\",\"zerolinewidth\":2},\"yaxis\":{\"automargin\":true,\"gridcolor\":\"white\",\"linecolor\":\"white\",\"ticks\":\"\",\"title\":{\"standoff\":15},\"zerolinecolor\":\"white\",\"zerolinewidth\":2}}},\"xaxis\":{\"anchor\":\"y\",\"domain\":[0.0,1.0],\"title\":{\"text\":\"datetime\"}},\"yaxis\":{\"anchor\":\"x\",\"domain\":[0.0,1.0],\"title\":{\"text\":\"value\"}},\"legend\":{\"title\":{\"text\":\"coin\"},\"tracegroupgap\":0},\"margin\":{\"t\":60},\"barmode\":\"relative\"},                        {\"responsive\": true}                    ).then(function(){\n",
       "                            \n",
       "var gd = document.getElementById('53f305d7-bfd8-42d6-af1b-c9864d4a00e7');\n",
       "var x = new MutationObserver(function (mutations, observer) {{\n",
       "        var display = window.getComputedStyle(gd).display;\n",
       "        if (!display || display === 'none') {{\n",
       "            console.log([gd, 'removed!']);\n",
       "            Plotly.purge(gd);\n",
       "            observer.disconnect();\n",
       "        }}\n",
       "}});\n",
       "\n",
       "// Listen for the removal of the full notebook cells\n",
       "var notebookContainer = gd.closest('#notebook-container');\n",
       "if (notebookContainer) {{\n",
       "    x.observe(notebookContainer, {childList: true});\n",
       "}}\n",
       "\n",
       "// Listen for the clearing of the current output cell\n",
       "var outputEl = gd.closest('.output');\n",
       "if (outputEl) {{\n",
       "    x.observe(outputEl, {childList: true});\n",
       "}}\n",
       "\n",
       "                        })                };                });            </script>        </div>"
      ]
     },
     "metadata": {},
     "output_type": "display_data"
    }
   ],
   "source": [
    "data_grouped_weekly_normalized_new = data_grouped_weekly_normalized.fillna(0).div(data_grouped_weekly_normalized.fillna(0).sum(axis=1),\n",
    "                                             axis=0)\n",
    "fig = px.bar(data_grouped_weekly_normalized_new, \n",
    "             barmode='relative',\n",
    "             color_discrete_map={\n",
    "        'BTC': 'yellowgreen',\n",
    "        'ETH': 'darkblue',\n",
    "        'ADA': 'red',\n",
    "        'SOL': 'green'\n",
    "    })\n",
    "fig.show()"
   ]
  },
  {
   "cell_type": "code",
   "execution_count": 373,
   "metadata": {},
   "outputs": [],
   "source": [
    "app.layout = \\\n",
    "    html.Div(children=[\n",
    "        html.H1(children='Crypto currency Dash', \n",
    "                      style={'textAlign': 'center'}),\n",
    "        #first row\n",
    "        html.Div(children=[\n",
    "            # first row, first column\n",
    "                html.H2(children='Graph #1',style={'textAlign': 'center'}),\n",
    "                dcc.Graph(id='graph_1',\n",
    "                    figure=px.bar(data_grouped_weekly, barmode='group', \n",
    "                    labels={'Graph_1':'Example 1', 'close':'Closing Price (€)', 'datetime':'Date'},\n",
    "                    width=1000, height=400, ### ADJUST THIS WIDTH AND HEIGHT ACCORDING TO YOUR SCREEN RESOLUTION\n",
    "                         )\n",
    "            )]),\n",
    "            html.Div(children=[\n",
    "            # first row, second column\n",
    "                html.H2(children='Graph #2',style={'textAlign': 'center'}),\n",
    "                dcc.Graph(id='graph_2',\n",
    "                    figure=px.bar((data_grouped_weekly-data_grouped_weekly.mean())/data_grouped_weekly.std(),\n",
    "                                  barmode='group',\n",
    "                                  width=900, height=350) ### ADJUST THIS WIDTH AND HEIGHT ACCORDING TO YOUR SCREEN RESOLUTION\n",
    "                        )]),\n",
    "    html.Div(children=[\n",
    "        # second row\n",
    "        html.Div(children=[\n",
    "                # second row, first column\n",
    "                html.H1(children='Graph 3', style={'textAlign':'center'}),\n",
    "                dcc.Graph(id='graph_3',\n",
    "                          figure=px.bar(data_grouped_weekly_normalized, barmode='group',\n",
    "                                        color_discrete_map={\n",
    "                                            'BTC': 'yellowgreen',\n",
    "                                            'ETH': 'darkblue',\n",
    "                                            'ADA': 'red',\n",
    "                                            'SOL': 'green'},\n",
    "                                        labels={'y':'Price ETH (€)', 'datetime':'Date'}\n",
    "                                        ))\n",
    "        ]),\n",
    "                \n",
    "        ])       \n",
    "])"
   ]
  },
  {
   "cell_type": "code",
   "execution_count": 374,
   "metadata": {},
   "outputs": [
    {
     "name": "stderr",
     "output_type": "stream",
     "text": [
      "/Users/franciscoregalado/opt/anaconda3/lib/python3.9/site-packages/jupyter_dash/jupyter_app.py:139: UserWarning:\n",
      "\n",
      "The 'environ['werkzeug.server.shutdown']' function is deprecated and will be removed in Werkzeug 2.1.\n",
      "\n"
     ]
    },
    {
     "name": "stdout",
     "output_type": "stream",
     "text": [
      "Dash app running on http://127.0.0.1:8051/\n"
     ]
    }
   ],
   "source": [
    "app.run_server(mode='external', host = '127.0.0.1', port=8051, debug=True)"
   ]
  },
  {
   "cell_type": "markdown",
   "metadata": {},
   "source": [
    "# Additional exercise for advanced users (Optional)\n",
    "\n",
    "Can you create a Dashboard to compare the two coins? You can use our risk indicators, or create new ones that you find interesting and insightful. "
   ]
  },
  {
   "cell_type": "code",
   "execution_count": 375,
   "metadata": {},
   "outputs": [],
   "source": [
    "data_crypto['risk_indicator'] = data_crypto['close'].rolling(window=30).mean().fillna(method='bfill') /\\\n",
    "                       data_crypto['close'].rolling(window=90).mean().fillna(method='bfill')"
   ]
  },
  {
   "cell_type": "code",
   "execution_count": 376,
   "metadata": {},
   "outputs": [],
   "source": [
    "data_crypto['risk_indicator_normalized'] = (data_crypto['risk_indicator'] - data_crypto['risk_indicator'].mean()) / data_crypto['risk_indicator'].std()"
   ]
  },
  {
   "cell_type": "code",
   "execution_count": 377,
   "metadata": {},
   "outputs": [],
   "source": [
    "df_data_crypto = data_crypto.set_index('datetime').sort_index()"
   ]
  },
  {
   "cell_type": "code",
   "execution_count": 378,
   "metadata": {},
   "outputs": [
    {
     "data": {
      "text/html": [
       "<div>\n",
       "<style scoped>\n",
       "    .dataframe tbody tr th:only-of-type {\n",
       "        vertical-align: middle;\n",
       "    }\n",
       "\n",
       "    .dataframe tbody tr th {\n",
       "        vertical-align: top;\n",
       "    }\n",
       "\n",
       "    .dataframe thead th {\n",
       "        text-align: right;\n",
       "    }\n",
       "</style>\n",
       "<table border=\"1\" class=\"dataframe\">\n",
       "  <thead>\n",
       "    <tr style=\"text-align: right;\">\n",
       "      <th></th>\n",
       "      <th>unix</th>\n",
       "      <th>low</th>\n",
       "      <th>high</th>\n",
       "      <th>open</th>\n",
       "      <th>close</th>\n",
       "      <th>volume</th>\n",
       "      <th>vol_fiat</th>\n",
       "      <th>coin</th>\n",
       "      <th>risk_indicator</th>\n",
       "      <th>risk_indicator_normalized</th>\n",
       "    </tr>\n",
       "    <tr>\n",
       "      <th>datetime</th>\n",
       "      <th></th>\n",
       "      <th></th>\n",
       "      <th></th>\n",
       "      <th></th>\n",
       "      <th></th>\n",
       "      <th></th>\n",
       "      <th></th>\n",
       "      <th></th>\n",
       "      <th></th>\n",
       "      <th></th>\n",
       "    </tr>\n",
       "  </thead>\n",
       "  <tbody>\n",
       "    <tr>\n",
       "      <th>2021-03-13</th>\n",
       "      <td>1615593600</td>\n",
       "      <td>46966.09</td>\n",
       "      <td>50776.82</td>\n",
       "      <td>47810.00</td>\n",
       "      <td>50194.10</td>\n",
       "      <td>2351.299235</td>\n",
       "      <td>1.180213e+08</td>\n",
       "      <td>BTC</td>\n",
       "      <td>1.137017</td>\n",
       "      <td>0.458503</td>\n",
       "    </tr>\n",
       "    <tr>\n",
       "      <th>2021-03-13</th>\n",
       "      <td>1615593600</td>\n",
       "      <td>1446.01</td>\n",
       "      <td>1595.00</td>\n",
       "      <td>1476.34</td>\n",
       "      <td>1575.08</td>\n",
       "      <td>26381.800363</td>\n",
       "      <td>4.155345e+07</td>\n",
       "      <td>ETH</td>\n",
       "      <td>0.759827</td>\n",
       "      <td>-0.280248</td>\n",
       "    </tr>\n",
       "    <tr>\n",
       "      <th>2021-03-14</th>\n",
       "      <td>1615680000</td>\n",
       "      <td>49244.00</td>\n",
       "      <td>50680.00</td>\n",
       "      <td>50153.05</td>\n",
       "      <td>49381.87</td>\n",
       "      <td>1299.084908</td>\n",
       "      <td>6.415124e+07</td>\n",
       "      <td>BTC</td>\n",
       "      <td>1.142812</td>\n",
       "      <td>0.469853</td>\n",
       "    </tr>\n",
       "    <tr>\n",
       "      <th>2021-03-14</th>\n",
       "      <td>1615680000</td>\n",
       "      <td>1530.00</td>\n",
       "      <td>1581.60</td>\n",
       "      <td>1575.08</td>\n",
       "      <td>1546.17</td>\n",
       "      <td>16266.835746</td>\n",
       "      <td>2.515129e+07</td>\n",
       "      <td>ETH</td>\n",
       "      <td>0.761824</td>\n",
       "      <td>-0.276336</td>\n",
       "    </tr>\n",
       "    <tr>\n",
       "      <th>2021-03-15</th>\n",
       "      <td>1615766400</td>\n",
       "      <td>46000.00</td>\n",
       "      <td>50595.07</td>\n",
       "      <td>49382.43</td>\n",
       "      <td>46715.08</td>\n",
       "      <td>3345.282013</td>\n",
       "      <td>1.562751e+08</td>\n",
       "      <td>BTC</td>\n",
       "      <td>1.151843</td>\n",
       "      <td>0.487540</td>\n",
       "    </tr>\n",
       "  </tbody>\n",
       "</table>\n",
       "</div>"
      ],
      "text/plain": [
       "                  unix       low      high      open     close        volume  \\\n",
       "datetime                                                                       \n",
       "2021-03-13  1615593600  46966.09  50776.82  47810.00  50194.10   2351.299235   \n",
       "2021-03-13  1615593600   1446.01   1595.00   1476.34   1575.08  26381.800363   \n",
       "2021-03-14  1615680000  49244.00  50680.00  50153.05  49381.87   1299.084908   \n",
       "2021-03-14  1615680000   1530.00   1581.60   1575.08   1546.17  16266.835746   \n",
       "2021-03-15  1615766400  46000.00  50595.07  49382.43  46715.08   3345.282013   \n",
       "\n",
       "                vol_fiat coin  risk_indicator  risk_indicator_normalized  \n",
       "datetime                                                                  \n",
       "2021-03-13  1.180213e+08  BTC        1.137017                   0.458503  \n",
       "2021-03-13  4.155345e+07  ETH        0.759827                  -0.280248  \n",
       "2021-03-14  6.415124e+07  BTC        1.142812                   0.469853  \n",
       "2021-03-14  2.515129e+07  ETH        0.761824                  -0.276336  \n",
       "2021-03-15  1.562751e+08  BTC        1.151843                   0.487540  "
      ]
     },
     "execution_count": 378,
     "metadata": {},
     "output_type": "execute_result"
    }
   ],
   "source": [
    "df_data_crypto.head()"
   ]
  },
  {
   "cell_type": "code",
   "execution_count": 379,
   "metadata": {},
   "outputs": [],
   "source": [
    "app.layout = html.Div(children=[\n",
    "  html.H1(children='Crypto Currency Risk Indicator!', \n",
    "          style={'textAlign': 'center'}),\n",
    "      html.H2(children=''),\n",
    "      dcc.Graph(id='risk_indicator_1',\n",
    "        figure=px.bar(data_crypto,\n",
    "                      x=df_data_crypto.index, \n",
    "                      y=data_crypto.risk_indicator_normalized, \n",
    "                      color=\"coin\"\n",
    "                         )\n",
    "            )\n",
    "  ])"
   ]
  },
  {
   "cell_type": "code",
   "execution_count": 380,
   "metadata": {},
   "outputs": [
    {
     "name": "stdout",
     "output_type": "stream",
     "text": [
      "Dash app running on http://127.0.0.1:8051/\n"
     ]
    },
    {
     "name": "stderr",
     "output_type": "stream",
     "text": [
      "/Users/franciscoregalado/opt/anaconda3/lib/python3.9/site-packages/jupyter_dash/jupyter_app.py:139: UserWarning:\n",
      "\n",
      "The 'environ['werkzeug.server.shutdown']' function is deprecated and will be removed in Werkzeug 2.1.\n",
      "\n"
     ]
    }
   ],
   "source": [
    "app.run_server(mode='external', host = '127.0.0.1', port=8051, debug=True)"
   ]
  },
  {
   "cell_type": "markdown",
   "metadata": {},
   "source": [
    "----"
   ]
  },
  {
   "cell_type": "markdown",
   "metadata": {},
   "source": [
    "So, on a final note, the main points taken from the [same article](https://www.perceptualedge.com/articles/visual_business_intelligence/dboard_confusion_revisited.pdf) as above:\n",
    "\n",
    "- Dashboards and multi-chart displays that are used for analysis are quite different.\n",
    "- Faceted analytical displays provide a powerful means to see relationships in data.\n",
    "- Global filters and brushing are powerful features that should be supported by any good faceted analytical dis- play.\n",
    "- No matter how great your tool, faceted analytical displays only work if you design them properly.\n"
   ]
  },
  {
   "cell_type": "markdown",
   "metadata": {},
   "source": [
    "So, now that you know how Dash works, you can create your own Dashboards. Throughout this course we have taught you how to use plotly to create your own visualizations, and now you can wrap them up to create your own story and integrate them into an effective and informative dashboard. From simple linecharts, to spatial visualizations, you can include all of them thanks to plotly and dash!"
   ]
  }
 ],
 "metadata": {
  "kernelspec": {
   "display_name": "Python 3 (ipykernel)",
   "language": "python",
   "name": "python3"
  },
  "language_info": {
   "codemirror_mode": {
    "name": "ipython",
    "version": 3
   },
   "file_extension": ".py",
   "mimetype": "text/x-python",
   "name": "python",
   "nbconvert_exporter": "python",
   "pygments_lexer": "ipython3",
   "version": "3.9.7"
  },
  "toc": {
   "base_numbering": 1,
   "nav_menu": {},
   "number_sections": true,
   "sideBar": true,
   "skip_h1_title": false,
   "title_cell": "Table of Contents",
   "title_sidebar": "Contents",
   "toc_cell": false,
   "toc_position": {},
   "toc_section_display": true,
   "toc_window_display": true
  }
 },
 "nbformat": 4,
 "nbformat_minor": 2
}
